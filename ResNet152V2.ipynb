{
  "nbformat": 4,
  "nbformat_minor": 0,
  "metadata": {
    "colab": {
      "provenance": [],
      "gpuType": "T4",
      "authorship_tag": "ABX9TyNP/LaI0kAERgs2vxVrQGzi",
      "include_colab_link": true
    },
    "kernelspec": {
      "name": "python3",
      "display_name": "Python 3"
    },
    "language_info": {
      "name": "python"
    },
    "accelerator": "GPU"
  },
  "cells": [
    {
      "cell_type": "markdown",
      "metadata": {
        "id": "view-in-github",
        "colab_type": "text"
      },
      "source": [
        "<a href=\"https://colab.research.google.com/github/seymadogru/BasicDataTypes/blob/master/ResNet152V2.ipynb\" target=\"_parent\"><img src=\"https://colab.research.google.com/assets/colab-badge.svg\" alt=\"Open In Colab\"/></a>"
      ]
    },
    {
      "cell_type": "code",
      "execution_count": 1,
      "metadata": {
        "id": "iNy1S48RH7tf",
        "colab": {
          "base_uri": "https://localhost:8080/"
        },
        "outputId": "c36b90b4-cb2c-4a87-f5b6-e6012505b3d9"
      },
      "outputs": [
        {
          "output_type": "stream",
          "name": "stdout",
          "text": [
            "Mounted at /content/drive\n"
          ]
        }
      ],
      "source": [
        "from google.colab import drive\n",
        "drive.mount('/content/drive')"
      ]
    },
    {
      "cell_type": "code",
      "source": [
        "from tensorflow.keras.preprocessing.image import ImageDataGenerator\n",
        "from tensorflow.keras.preprocessing.image import img_to_array\n",
        "from tensorflow.keras.preprocessing.image import load_img\n",
        "import numpy as np\n",
        "import random\n",
        "import math\n",
        "import csv\n",
        "import cv2\n",
        "import os"
      ],
      "metadata": {
        "id": "XOTYPitAIKpe"
      },
      "execution_count": 2,
      "outputs": []
    },
    {
      "cell_type": "code",
      "source": [
        "inputBasePath = \"/content/drive/MyDrive/CDD-CESM-MM\"\n",
        "outputBasePath = \"/content/drive/MyDrive/imagearray\""
      ],
      "metadata": {
        "id": "rAsa5EZ2Io71"
      },
      "execution_count": 3,
      "outputs": []
    },
    {
      "cell_type": "code",
      "source": [
        "image_width = 224\n",
        "image_height = 224"
      ],
      "metadata": {
        "id": "arFcpUO3IrdC"
      },
      "execution_count": 4,
      "outputs": []
    },
    {
      "cell_type": "code",
      "source": [
        "classes = ['Benign','Malignant','Normal']"
      ],
      "metadata": {
        "id": "DyrWakCGItmY"
      },
      "execution_count": 5,
      "outputs": []
    },
    {
      "cell_type": "code",
      "source": [
        "os.chdir(inputBasePath)"
      ],
      "metadata": {
        "id": "JJYUH5-jIu-Z"
      },
      "execution_count": 6,
      "outputs": []
    },
    {
      "cell_type": "code",
      "source": [
        "X = []\n",
        "Y = []"
      ],
      "metadata": {
        "id": "hAZ2pf_lIwEu"
      },
      "execution_count": 7,
      "outputs": []
    },
    {
      "cell_type": "code",
      "source": [
        "i = 0\n",
        "for class1 in classes:\n",
        "  os.chdir(class1)\n",
        "  print('=> '+class1)\n",
        "  for files in os.listdir('./'):\n",
        "    img = cv2.imread(files)\n",
        "    img = cv2.resize(img, (image_width,image_height))\n",
        "    X.append(img)\n",
        "    Y.append(class1)\n",
        "    i = i + 1\n",
        "  os.chdir('..')"
      ],
      "metadata": {
        "colab": {
          "base_uri": "https://localhost:8080/"
        },
        "id": "An95npPlIxw4",
        "outputId": "5b1e5f1e-9c2e-43a6-8aa3-22f67043f57f"
      },
      "execution_count": 8,
      "outputs": [
        {
          "output_type": "stream",
          "name": "stdout",
          "text": [
            "=> Benign\n",
            "=> Malignant\n",
            "=> Normal\n"
          ]
        }
      ]
    },
    {
      "cell_type": "code",
      "source": [
        "print(\"X : \",len(X))\n",
        "print(\"Y : \",len(Y))"
      ],
      "metadata": {
        "colab": {
          "base_uri": "https://localhost:8080/"
        },
        "id": "vURT4HAQIzFu",
        "outputId": "598a1099-4174-49b0-fcc1-ceddad0d973b"
      },
      "execution_count": 9,
      "outputs": [
        {
          "output_type": "stream",
          "name": "stdout",
          "text": [
            "X :  2006\n",
            "Y :  2006\n"
          ]
        }
      ]
    },
    {
      "cell_type": "code",
      "source": [
        "X = np.array(X).reshape(-1,image_width,image_height,3)\n",
        "\n",
        "Y = np.array(Y)\n",
        "\n",
        "print(\"X : \",X.shape)\n",
        "print(\"Y : \",Y.shape)\n",
        "\n",
        "print(\"X : \",len(X))\n",
        "print(\"Y : \",len(Y))"
      ],
      "metadata": {
        "colab": {
          "base_uri": "https://localhost:8080/"
        },
        "id": "glqp-B9fJcMV",
        "outputId": "1af6d000-a10d-4adf-c416-c2c8f0655427"
      },
      "execution_count": 15,
      "outputs": [
        {
          "output_type": "stream",
          "name": "stdout",
          "text": [
            "X :  (2006, 224, 224, 3)\n",
            "Y :  (2006,)\n",
            "X :  2006\n",
            "Y :  2006\n"
          ]
        }
      ]
    },
    {
      "cell_type": "code",
      "source": [
        "os.chdir('..')"
      ],
      "metadata": {
        "id": "XzrV2ASKJf-o"
      },
      "execution_count": 17,
      "outputs": []
    },
    {
      "cell_type": "code",
      "source": [
        "os.chdir(\"imagearrays\")"
      ],
      "metadata": {
        "id": "SgdtiecgOvO7"
      },
      "execution_count": 18,
      "outputs": []
    },
    {
      "cell_type": "code",
      "source": [
        "np.save(str(image_width)+'x'+str(image_height)+'_images', X)\n",
        "\n",
        "np.save(str(image_width)+'x'+str(image_height)+'_labels', Y)\n",
        "\n",
        "print(\"[ INFO - STAGE1 ]  NUMPY ARRAY CREATION COMPLETED \\n \")"
      ],
      "metadata": {
        "colab": {
          "base_uri": "https://localhost:8080/"
        },
        "id": "K_ZP4JVGO7bF",
        "outputId": "19c5f83f-9428-4b83-c796-e2cce60270dc"
      },
      "execution_count": 19,
      "outputs": [
        {
          "output_type": "stream",
          "name": "stdout",
          "text": [
            "[ INFO - STAGE1 ]  NUMPY ARRAY CREATION COMPLETED \n",
            " \n"
          ]
        }
      ]
    },
    {
      "cell_type": "code",
      "source": [
        "from sklearn.metrics import classification_report\n",
        "from sklearn.model_selection import train_test_split"
      ],
      "metadata": {
        "id": "iI2noreRO_iO"
      },
      "execution_count": 20,
      "outputs": []
    },
    {
      "cell_type": "code",
      "source": [
        "from tensorflow.keras import utils\n",
        "utils.to_categorical"
      ],
      "metadata": {
        "colab": {
          "base_uri": "https://localhost:8080/",
          "height": 187
        },
        "id": "v1u1jdaOPCAf",
        "outputId": "4667e543-e5ae-409b-ab49-dc3f08b8200b"
      },
      "execution_count": 21,
      "outputs": [
        {
          "output_type": "execute_result",
          "data": {
            "text/plain": [
              "<function keras.src.utils.np_utils.to_categorical(y, num_classes=None, dtype='float32')>"
            ],
            "text/html": [
              "<div style=\"max-width:800px; border: 1px solid var(--colab-border-color);\"><style>\n",
              "      pre.function-repr-contents {\n",
              "        overflow-x: auto;\n",
              "        padding: 8px 12px;\n",
              "        max-height: 500px;\n",
              "      }\n",
              "\n",
              "      pre.function-repr-contents.function-repr-contents-collapsed {\n",
              "        cursor: pointer;\n",
              "        max-height: 100px;\n",
              "      }\n",
              "    </style>\n",
              "    <pre style=\"white-space: initial; background:\n",
              "         var(--colab-secondary-surface-color); padding: 8px 12px;\n",
              "         border-bottom: 1px solid var(--colab-border-color);\"><b>keras.src.utils.np_utils.to_categorical</b><br/>def to_categorical(y, num_classes=None, dtype=&#x27;float32&#x27;)</pre><pre class=\"function-repr-contents function-repr-contents-collapsed\" style=\"\"><a class=\"filepath\" style=\"display:none\" href=\"#\">/usr/local/lib/python3.10/dist-packages/keras/src/utils/np_utils.py</a>Converts a class vector (integers) to binary class matrix.\n",
              "\n",
              "E.g. for use with `categorical_crossentropy`.\n",
              "\n",
              "Args:\n",
              "    y: Array-like with class values to be converted into a matrix\n",
              "        (integers from 0 to `num_classes - 1`).\n",
              "    num_classes: Total number of classes. If `None`, this would be inferred\n",
              "      as `max(y) + 1`.\n",
              "    dtype: The data type expected by the input. Default: `&#x27;float32&#x27;`.\n",
              "\n",
              "Returns:\n",
              "    A binary matrix representation of the input as a NumPy array. The class\n",
              "    axis is placed last.\n",
              "\n",
              "Example:\n",
              "\n",
              "&gt;&gt;&gt; a = tf.keras.utils.to_categorical([0, 1, 2, 3], num_classes=4)\n",
              "&gt;&gt;&gt; print(a)\n",
              "[[1. 0. 0. 0.]\n",
              " [0. 1. 0. 0.]\n",
              " [0. 0. 1. 0.]\n",
              " [0. 0. 0. 1.]]\n",
              "\n",
              "&gt;&gt;&gt; b = tf.constant([.9, .04, .03, .03,\n",
              "...                  .3, .45, .15, .13,\n",
              "...                  .04, .01, .94, .05,\n",
              "...                  .12, .21, .5, .17],\n",
              "...                 shape=[4, 4])\n",
              "&gt;&gt;&gt; loss = tf.keras.backend.categorical_crossentropy(a, b)\n",
              "&gt;&gt;&gt; print(np.around(loss, 5))\n",
              "[0.10536 0.82807 0.1011  1.77196]\n",
              "\n",
              "&gt;&gt;&gt; loss = tf.keras.backend.categorical_crossentropy(a, a)\n",
              "&gt;&gt;&gt; print(np.around(loss, 5))\n",
              "[0. 0. 0. 0.]</pre>\n",
              "      <script>\n",
              "      if (google.colab.kernel.accessAllowed && google.colab.files && google.colab.files.view) {\n",
              "        for (const element of document.querySelectorAll('.filepath')) {\n",
              "          element.style.display = 'block'\n",
              "          element.onclick = (event) => {\n",
              "            event.preventDefault();\n",
              "            event.stopPropagation();\n",
              "            google.colab.files.view(element.textContent, 23);\n",
              "          };\n",
              "        }\n",
              "      }\n",
              "      for (const element of document.querySelectorAll('.function-repr-contents')) {\n",
              "        element.onclick = (event) => {\n",
              "          event.preventDefault();\n",
              "          event.stopPropagation();\n",
              "          element.classList.toggle('function-repr-contents-collapsed');\n",
              "        };\n",
              "      }\n",
              "      </script>\n",
              "      </div>"
            ]
          },
          "metadata": {},
          "execution_count": 21
        }
      ]
    },
    {
      "cell_type": "code",
      "source": [
        "from keras.utils import to_categorical\n",
        "from sklearn.preprocessing import LabelEncoder\n",
        "from sklearn.metrics import confusion_matrix\n",
        "from sklearn.metrics import mean_squared_error\n",
        "import tensorflow as tf\n",
        "from tensorflow.keras.models import Sequential\n",
        "from tensorflow.keras.layers import BatchNormalization\n",
        "from tensorflow.keras.layers import Conv2D\n",
        "from tensorflow.keras.layers import MaxPooling2D\n",
        "from tensorflow.keras.layers import MaxPool2D\n",
        "from tensorflow.keras.layers import Activation\n",
        "from tensorflow.keras.layers import Flatten\n",
        "from tensorflow.keras.layers import Dropout\n",
        "from tensorflow.keras.layers import Dense\n",
        "from tensorflow.keras.optimizers import Adam\n",
        "from tensorflow.keras.optimizers import SGD"
      ],
      "metadata": {
        "id": "zb_TjQRHPDhG"
      },
      "execution_count": 22,
      "outputs": []
    },
    {
      "cell_type": "code",
      "source": [
        "data = np.load('/content/drive/MyDrive/imagearrays/224x224_images.npy')\n",
        "labels = np.load('/content/drive/MyDrive/imagearrays/224x224_labels.npy')\n",
        "data.shape"
      ],
      "metadata": {
        "colab": {
          "base_uri": "https://localhost:8080/"
        },
        "id": "jbx0DggiPGZR",
        "outputId": "086961ef-2848-4152-f9e4-2c53124bec51"
      },
      "execution_count": 51,
      "outputs": [
        {
          "output_type": "execute_result",
          "data": {
            "text/plain": [
              "(2006, 224, 224, 3)"
            ]
          },
          "metadata": {},
          "execution_count": 51
        }
      ]
    },
    {
      "cell_type": "code",
      "source": [
        "labels"
      ],
      "metadata": {
        "colab": {
          "base_uri": "https://localhost:8080/"
        },
        "id": "w3Zgn8AiPL1C",
        "outputId": "c0b2acb0-a76a-4d30-ee87-8b779e868233"
      },
      "execution_count": 52,
      "outputs": [
        {
          "output_type": "execute_result",
          "data": {
            "text/plain": [
              "array(['Benign', 'Benign', 'Benign', ..., 'Normal', 'Normal', 'Normal'],\n",
              "      dtype='<U9')"
            ]
          },
          "metadata": {},
          "execution_count": 52
        }
      ]
    },
    {
      "cell_type": "code",
      "source": [
        "labelEn = LabelEncoder()\n",
        "labels = labelEn.fit_transform(labels)\n",
        "labels = to_categorical(labels)"
      ],
      "metadata": {
        "id": "ZgtxrouIPN2b"
      },
      "execution_count": 53,
      "outputs": []
    },
    {
      "cell_type": "code",
      "source": [
        "labels"
      ],
      "metadata": {
        "colab": {
          "base_uri": "https://localhost:8080/"
        },
        "id": "FcKjTHzQPeOA",
        "outputId": "c8c6c889-f21f-41ec-add3-3c315b5487a3"
      },
      "execution_count": 54,
      "outputs": [
        {
          "output_type": "execute_result",
          "data": {
            "text/plain": [
              "array([[1., 0., 0.],\n",
              "       [1., 0., 0.],\n",
              "       [1., 0., 0.],\n",
              "       ...,\n",
              "       [0., 0., 1.],\n",
              "       [0., 0., 1.],\n",
              "       [0., 0., 1.]], dtype=float32)"
            ]
          },
          "metadata": {},
          "execution_count": 54
        }
      ]
    },
    {
      "cell_type": "code",
      "source": [
        "data =  data.reshape(-1,image_width , image_height , 3)"
      ],
      "metadata": {
        "id": "RXYuhx9zPfgQ"
      },
      "execution_count": 55,
      "outputs": []
    },
    {
      "cell_type": "code",
      "source": [
        "data.shape"
      ],
      "metadata": {
        "colab": {
          "base_uri": "https://localhost:8080/"
        },
        "id": "gLwywuYaPtrr",
        "outputId": "c3774823-54ce-4011-de41-56c147544629"
      },
      "execution_count": 56,
      "outputs": [
        {
          "output_type": "execute_result",
          "data": {
            "text/plain": [
              "(2006, 224, 224, 3)"
            ]
          },
          "metadata": {},
          "execution_count": 56
        }
      ]
    },
    {
      "cell_type": "code",
      "source": [
        "x_train, x_test, y_train, y_test = train_test_split(data, labels, test_size = .20, shuffle = True)"
      ],
      "metadata": {
        "id": "k4EgwvPFPu2X"
      },
      "execution_count": 57,
      "outputs": []
    },
    {
      "cell_type": "code",
      "source": [
        "print(\n",
        "\"\"\"\n",
        "x_train shape: {}\n",
        "x_test shape: {}\n",
        "y_train shape: {}\n",
        "y_test shape: {}\n",
        "\n",
        "\"\"\".format(x_train.shape, x_test.shape, y_train.shape, y_test.shape))"
      ],
      "metadata": {
        "colab": {
          "base_uri": "https://localhost:8080/"
        },
        "id": "LYRotwepP0BG",
        "outputId": "0b69d751-0621-4bd4-ed3b-cb945ae95d04"
      },
      "execution_count": 58,
      "outputs": [
        {
          "output_type": "stream",
          "name": "stdout",
          "text": [
            "\n",
            "x_train shape: (1604, 224, 224, 3)\n",
            "x_test shape: (402, 224, 224, 3)\n",
            "y_train shape: (1604, 3)\n",
            "y_test shape: (402, 3)\n",
            "\n",
            "\n"
          ]
        }
      ]
    },
    {
      "cell_type": "code",
      "source": [
        "print(x_train.shape)\n",
        "print(x_validate.shape)\n",
        "print(y_train.shape)\n",
        "print(y_validate.shape)"
      ],
      "metadata": {
        "colab": {
          "base_uri": "https://localhost:8080/"
        },
        "id": "2Gsz-hV3P3nd",
        "outputId": "c0ebe5dd-fc73-4adc-8577-3619a18aa6c1"
      },
      "execution_count": 59,
      "outputs": [
        {
          "output_type": "stream",
          "name": "stdout",
          "text": [
            "(1604, 224, 224, 3)\n",
            "(161, 224, 224, 3)\n",
            "(1604, 3)\n",
            "(161, 3)\n"
          ]
        }
      ]
    },
    {
      "cell_type": "code",
      "source": [
        "x_train=x_train / 255.0\n",
        "x_test=x_test / 255.0"
      ],
      "metadata": {
        "id": "rtlFTEKVP7UP"
      },
      "execution_count": 60,
      "outputs": []
    },
    {
      "cell_type": "code",
      "source": [
        "x_train, x_validate, y_train, y_validate = train_test_split(x_train, y_train, test_size = .10, shuffle = True,random_state=42)"
      ],
      "metadata": {
        "id": "jSz5215HP2M8"
      },
      "execution_count": 61,
      "outputs": []
    },
    {
      "cell_type": "code",
      "source": [
        "print(\n",
        "\"\"\"\n",
        "x_train shape: {}\n",
        "x_test shape: {}\n",
        "\n",
        "\"\"\".format(x_train.shape, x_test.shape))"
      ],
      "metadata": {
        "colab": {
          "base_uri": "https://localhost:8080/"
        },
        "id": "Gj_SmbF5Qn8o",
        "outputId": "7d15db86-1849-49fe-8180-fdd979887b7e"
      },
      "execution_count": 62,
      "outputs": [
        {
          "output_type": "stream",
          "name": "stdout",
          "text": [
            "\n",
            "x_train shape: (1443, 224, 224, 3)\n",
            "x_test shape: (402, 224, 224, 3)\n",
            "\n",
            "\n"
          ]
        }
      ]
    },
    {
      "cell_type": "code",
      "source": [
        "print(y_train.shape)\n",
        "print(y_validate.shape)"
      ],
      "metadata": {
        "colab": {
          "base_uri": "https://localhost:8080/"
        },
        "id": "HjNme3S5RIr9",
        "outputId": "333efd42-3277-4ada-de12-e562bdba7b8f"
      },
      "execution_count": 63,
      "outputs": [
        {
          "output_type": "stream",
          "name": "stdout",
          "text": [
            "(1443, 3)\n",
            "(161, 3)\n"
          ]
        }
      ]
    },
    {
      "cell_type": "code",
      "source": [
        "#ImageDataGenerator ile veri arttırım modelini kurgula ve datagen değikenine ata\n",
        "datagen = ImageDataGenerator(\n",
        "        featurewise_center=False,  # set input mean to 0 over the dataset\n",
        "        samplewise_center=False,  # set each sample mean to 0\n",
        "        featurewise_std_normalization=False,  # divide inputs by std of the dataset\n",
        "        samplewise_std_normalization=False,  # divide each input by its std\n",
        "        zca_whitening=False,  # apply ZCA whitening\n",
        "        rotation_range=0.5,\n",
        "        zoom_range = 0.5, # Randomly zoom image %10\n",
        "        width_shift_range=0.5,  # randomly shift images horizontally (fraction of total width) %5\n",
        "        height_shift_range=0.5,  # randomly shift images vertically (fraction of total height) %5\n",
        "        horizontal_flip=False,  # randomly flip images\n",
        "        vertical_flip=False  # randomly flip images\n",
        "                        )\n",
        "datagen.fit(x_train) #datagen'i x_train üzerinden çalıştır ve veri üret"
      ],
      "metadata": {
        "id": "Q5riK2paRknN"
      },
      "execution_count": 64,
      "outputs": []
    },
    {
      "cell_type": "code",
      "source": [
        "x_train.shape"
      ],
      "metadata": {
        "colab": {
          "base_uri": "https://localhost:8080/"
        },
        "id": "xuPEdxd4R9LI",
        "outputId": "ff1c430b-858a-41d8-fa0d-fe8568976fd4"
      },
      "execution_count": 65,
      "outputs": [
        {
          "output_type": "execute_result",
          "data": {
            "text/plain": [
              "(1443, 224, 224, 3)"
            ]
          },
          "metadata": {},
          "execution_count": 65
        }
      ]
    },
    {
      "cell_type": "code",
      "source": [
        "pip install keras"
      ],
      "metadata": {
        "colab": {
          "base_uri": "https://localhost:8080/"
        },
        "id": "l6StFEuEWjYs",
        "outputId": "d4ce1704-aee8-4da8-bdec-475853dd5bd9"
      },
      "execution_count": 67,
      "outputs": [
        {
          "output_type": "stream",
          "name": "stdout",
          "text": [
            "Requirement already satisfied: keras in /usr/local/lib/python3.10/dist-packages (2.15.0)\n"
          ]
        }
      ]
    },
    {
      "cell_type": "code",
      "source": [
        "import keras"
      ],
      "metadata": {
        "id": "O9jegWuyWlZN"
      },
      "execution_count": 68,
      "outputs": []
    },
    {
      "cell_type": "code",
      "source": [
        "modelResNet152V2 = keras.applications.ResNet152V2(\n",
        "    include_top=True,\n",
        "    weights=\"imagenet\",\n",
        "    input_tensor=None,\n",
        "    input_shape=(image_width ,image_height ,3),\n",
        "    pooling='avg',\n",
        "    classes=1000,\n",
        "    classifier_activation=\"softmax\",\n",
        ")"
      ],
      "metadata": {
        "id": "H5KhCrOyR_Iq"
      },
      "execution_count": 70,
      "outputs": []
    },
    {
      "cell_type": "code",
      "source": [
        "NUM_CLASSES=3\n",
        "model = Sequential()\n",
        "model.add(modelResNet152V2)\n",
        "model.add(Flatten())\n",
        "model.add(Dropout(0.5))\n",
        "model.add(Dense(512, activation='softmax'))\n",
        "model.add(Dense(NUM_CLASSES, activation='softmax'))"
      ],
      "metadata": {
        "id": "7eb-XxfHWVC6"
      },
      "execution_count": 71,
      "outputs": []
    },
    {
      "cell_type": "code",
      "source": [
        "optimizer = tf.keras.optimizers.legacy.Adam(learning_rate=0.0001, beta_1=0.9, beta_2=0.999, epsilon=None, decay=0.0, amsgrad=False)"
      ],
      "metadata": {
        "id": "wf_AbuOQXoi1"
      },
      "execution_count": 72,
      "outputs": []
    },
    {
      "cell_type": "code",
      "source": [
        "from tensorflow.keras.callbacks import ReduceLROnPlateau\n",
        "learning_rate_reduction = ReduceLROnPlateau(monitor='val_accuracy', patience=3, verbose=1,  factor=0.5, min_lr=0.00001)"
      ],
      "metadata": {
        "id": "IO7z15knXwjK"
      },
      "execution_count": 73,
      "outputs": []
    },
    {
      "cell_type": "code",
      "source": [
        "model.compile(optimizer = optimizer , loss = \"categorical_crossentropy\", metrics=[\"accuracy\"])"
      ],
      "metadata": {
        "id": "rh9Ur_ZMXzj-"
      },
      "execution_count": 74,
      "outputs": []
    },
    {
      "cell_type": "code",
      "source": [
        "epc = 100\n",
        "bs = 32"
      ],
      "metadata": {
        "id": "koemofqDX053"
      },
      "execution_count": 75,
      "outputs": []
    },
    {
      "cell_type": "code",
      "source": [
        "history = model.fit_generator(datagen.flow(np.array(x_train),np.array(y_train), batch_size=bs),\n",
        "                              epochs = epc, validation_data = datagen.flow(np.array(x_validate),\n",
        "                             np.array(y_validate),batch_size=bs),verbose = 1,\n",
        "                              steps_per_epoch=x_train.shape[0] // bs,\n",
        "                              callbacks=[learning_rate_reduction])"
      ],
      "metadata": {
        "colab": {
          "base_uri": "https://localhost:8080/"
        },
        "id": "7fKF9QPCX26h",
        "outputId": "24d000c5-f2ce-4488-cf6b-2e1280004795"
      },
      "execution_count": 76,
      "outputs": [
        {
          "output_type": "stream",
          "name": "stderr",
          "text": [
            "<ipython-input-76-3e48a0840e29>:1: UserWarning: `Model.fit_generator` is deprecated and will be removed in a future version. Please use `Model.fit`, which supports generators.\n",
            "  history = model.fit_generator(datagen.flow(np.array(x_train),np.array(y_train), batch_size=bs),\n"
          ]
        },
        {
          "output_type": "stream",
          "name": "stdout",
          "text": [
            "Epoch 1/100\n",
            "45/45 [==============================] - 72s 985ms/step - loss: 1.0985 - accuracy: 0.3536 - val_loss: 1.0987 - val_accuracy: 0.3540 - lr: 1.0000e-04\n",
            "Epoch 2/100\n",
            "45/45 [==============================] - 39s 862ms/step - loss: 1.0982 - accuracy: 0.3756 - val_loss: 1.0984 - val_accuracy: 0.3540 - lr: 1.0000e-04\n",
            "Epoch 3/100\n",
            "45/45 [==============================] - 38s 829ms/step - loss: 1.0979 - accuracy: 0.3756 - val_loss: 1.0980 - val_accuracy: 0.3540 - lr: 1.0000e-04\n",
            "Epoch 4/100\n",
            "45/45 [==============================] - ETA: 0s - loss: 1.0976 - accuracy: 0.3777\n",
            "Epoch 4: ReduceLROnPlateau reducing learning rate to 4.999999873689376e-05.\n",
            "45/45 [==============================] - 38s 847ms/step - loss: 1.0976 - accuracy: 0.3777 - val_loss: 1.0978 - val_accuracy: 0.3540 - lr: 1.0000e-04\n",
            "Epoch 5/100\n",
            "45/45 [==============================] - 38s 846ms/step - loss: 1.0974 - accuracy: 0.3756 - val_loss: 1.0976 - val_accuracy: 0.3540 - lr: 5.0000e-05\n",
            "Epoch 6/100\n",
            "45/45 [==============================] - 39s 866ms/step - loss: 1.0973 - accuracy: 0.3749 - val_loss: 1.0975 - val_accuracy: 0.3540 - lr: 5.0000e-05\n",
            "Epoch 7/100\n",
            "45/45 [==============================] - ETA: 0s - loss: 1.0972 - accuracy: 0.3742\n",
            "Epoch 7: ReduceLROnPlateau reducing learning rate to 2.499999936844688e-05.\n",
            "45/45 [==============================] - 41s 906ms/step - loss: 1.0972 - accuracy: 0.3742 - val_loss: 1.0974 - val_accuracy: 0.3540 - lr: 5.0000e-05\n",
            "Epoch 8/100\n",
            "45/45 [==============================] - 38s 846ms/step - loss: 1.0970 - accuracy: 0.3770 - val_loss: 1.0973 - val_accuracy: 0.3540 - lr: 2.5000e-05\n",
            "Epoch 9/100\n",
            "45/45 [==============================] - 38s 845ms/step - loss: 1.0969 - accuracy: 0.3792 - val_loss: 1.0973 - val_accuracy: 0.3540 - lr: 2.5000e-05\n",
            "Epoch 10/100\n",
            "45/45 [==============================] - ETA: 0s - loss: 1.0970 - accuracy: 0.3749\n",
            "Epoch 10: ReduceLROnPlateau reducing learning rate to 1.249999968422344e-05.\n",
            "45/45 [==============================] - 38s 850ms/step - loss: 1.0970 - accuracy: 0.3749 - val_loss: 1.0972 - val_accuracy: 0.3540 - lr: 2.5000e-05\n",
            "Epoch 11/100\n",
            "45/45 [==============================] - 39s 863ms/step - loss: 1.0969 - accuracy: 0.3777 - val_loss: 1.0972 - val_accuracy: 0.3540 - lr: 1.2500e-05\n",
            "Epoch 12/100\n",
            "45/45 [==============================] - 38s 839ms/step - loss: 1.0970 - accuracy: 0.3735 - val_loss: 1.0971 - val_accuracy: 0.3540 - lr: 1.2500e-05\n",
            "Epoch 13/100\n",
            "45/45 [==============================] - ETA: 0s - loss: 1.0969 - accuracy: 0.3749\n",
            "Epoch 13: ReduceLROnPlateau reducing learning rate to 1e-05.\n",
            "45/45 [==============================] - 38s 842ms/step - loss: 1.0969 - accuracy: 0.3749 - val_loss: 1.0971 - val_accuracy: 0.3540 - lr: 1.2500e-05\n",
            "Epoch 14/100\n",
            "45/45 [==============================] - 38s 841ms/step - loss: 1.0968 - accuracy: 0.3777 - val_loss: 1.0970 - val_accuracy: 0.3540 - lr: 1.0000e-05\n",
            "Epoch 15/100\n",
            "45/45 [==============================] - 38s 840ms/step - loss: 1.0968 - accuracy: 0.3756 - val_loss: 1.0970 - val_accuracy: 0.3540 - lr: 1.0000e-05\n",
            "Epoch 16/100\n",
            "45/45 [==============================] - 39s 854ms/step - loss: 1.0967 - accuracy: 0.3777 - val_loss: 1.0970 - val_accuracy: 0.3540 - lr: 1.0000e-05\n",
            "Epoch 17/100\n",
            "45/45 [==============================] - 39s 874ms/step - loss: 1.0967 - accuracy: 0.3785 - val_loss: 1.0969 - val_accuracy: 0.3540 - lr: 1.0000e-05\n",
            "Epoch 18/100\n",
            "45/45 [==============================] - 39s 853ms/step - loss: 1.0967 - accuracy: 0.3763 - val_loss: 1.0969 - val_accuracy: 0.3540 - lr: 1.0000e-05\n",
            "Epoch 19/100\n",
            "45/45 [==============================] - 39s 856ms/step - loss: 1.0967 - accuracy: 0.3763 - val_loss: 1.0969 - val_accuracy: 0.3540 - lr: 1.0000e-05\n",
            "Epoch 20/100\n",
            "45/45 [==============================] - 39s 859ms/step - loss: 1.0968 - accuracy: 0.3735 - val_loss: 1.0969 - val_accuracy: 0.3540 - lr: 1.0000e-05\n",
            "Epoch 21/100\n",
            "45/45 [==============================] - 38s 841ms/step - loss: 1.0967 - accuracy: 0.3749 - val_loss: 1.0969 - val_accuracy: 0.3540 - lr: 1.0000e-05\n",
            "Epoch 22/100\n",
            "45/45 [==============================] - 39s 861ms/step - loss: 1.0967 - accuracy: 0.3763 - val_loss: 1.0968 - val_accuracy: 0.3540 - lr: 1.0000e-05\n",
            "Epoch 23/100\n",
            "45/45 [==============================] - 40s 875ms/step - loss: 1.0965 - accuracy: 0.3777 - val_loss: 1.0968 - val_accuracy: 0.3540 - lr: 1.0000e-05\n",
            "Epoch 24/100\n",
            "45/45 [==============================] - 39s 863ms/step - loss: 1.0966 - accuracy: 0.3763 - val_loss: 1.0968 - val_accuracy: 0.3540 - lr: 1.0000e-05\n",
            "Epoch 25/100\n",
            "45/45 [==============================] - 41s 899ms/step - loss: 1.0967 - accuracy: 0.3728 - val_loss: 1.0967 - val_accuracy: 0.3540 - lr: 1.0000e-05\n",
            "Epoch 26/100\n",
            "45/45 [==============================] - 39s 861ms/step - loss: 1.0966 - accuracy: 0.3742 - val_loss: 1.0968 - val_accuracy: 0.3540 - lr: 1.0000e-05\n",
            "Epoch 27/100\n",
            "45/45 [==============================] - 41s 905ms/step - loss: 1.0965 - accuracy: 0.3763 - val_loss: 1.0967 - val_accuracy: 0.3540 - lr: 1.0000e-05\n",
            "Epoch 28/100\n",
            "45/45 [==============================] - 39s 857ms/step - loss: 1.0967 - accuracy: 0.3728 - val_loss: 1.0967 - val_accuracy: 0.3540 - lr: 1.0000e-05\n",
            "Epoch 29/100\n",
            "45/45 [==============================] - 38s 836ms/step - loss: 1.0964 - accuracy: 0.3770 - val_loss: 1.0966 - val_accuracy: 0.3540 - lr: 1.0000e-05\n",
            "Epoch 30/100\n",
            "45/45 [==============================] - 38s 845ms/step - loss: 1.0963 - accuracy: 0.3785 - val_loss: 1.0966 - val_accuracy: 0.3540 - lr: 1.0000e-05\n",
            "Epoch 31/100\n",
            "45/45 [==============================] - 38s 847ms/step - loss: 1.0964 - accuracy: 0.3756 - val_loss: 1.0965 - val_accuracy: 0.3540 - lr: 1.0000e-05\n",
            "Epoch 32/100\n",
            "45/45 [==============================] - 39s 856ms/step - loss: 1.0965 - accuracy: 0.3742 - val_loss: 1.0965 - val_accuracy: 0.3540 - lr: 1.0000e-05\n",
            "Epoch 33/100\n",
            "45/45 [==============================] - 41s 902ms/step - loss: 1.0964 - accuracy: 0.3756 - val_loss: 1.0964 - val_accuracy: 0.3540 - lr: 1.0000e-05\n",
            "Epoch 34/100\n",
            "45/45 [==============================] - 39s 857ms/step - loss: 1.0965 - accuracy: 0.3728 - val_loss: 1.0964 - val_accuracy: 0.3540 - lr: 1.0000e-05\n",
            "Epoch 35/100\n",
            "45/45 [==============================] - 41s 907ms/step - loss: 1.0964 - accuracy: 0.3756 - val_loss: 1.0964 - val_accuracy: 0.3540 - lr: 1.0000e-05\n",
            "Epoch 36/100\n",
            "45/45 [==============================] - 39s 852ms/step - loss: 1.0963 - accuracy: 0.3763 - val_loss: 1.0964 - val_accuracy: 0.3540 - lr: 1.0000e-05\n",
            "Epoch 37/100\n",
            "45/45 [==============================] - 38s 839ms/step - loss: 1.0962 - accuracy: 0.3785 - val_loss: 1.0963 - val_accuracy: 0.3540 - lr: 1.0000e-05\n",
            "Epoch 38/100\n",
            "45/45 [==============================] - 39s 866ms/step - loss: 1.0964 - accuracy: 0.3728 - val_loss: 1.0963 - val_accuracy: 0.3540 - lr: 1.0000e-05\n",
            "Epoch 39/100\n",
            "45/45 [==============================] - 41s 907ms/step - loss: 1.0963 - accuracy: 0.3749 - val_loss: 1.0963 - val_accuracy: 0.3540 - lr: 1.0000e-05\n",
            "Epoch 40/100\n",
            "45/45 [==============================] - 41s 902ms/step - loss: 1.0962 - accuracy: 0.3756 - val_loss: 1.0963 - val_accuracy: 0.3540 - lr: 1.0000e-05\n",
            "Epoch 41/100\n",
            "45/45 [==============================] - 39s 862ms/step - loss: 1.0961 - accuracy: 0.3777 - val_loss: 1.0963 - val_accuracy: 0.3540 - lr: 1.0000e-05\n",
            "Epoch 42/100\n",
            "45/45 [==============================] - 39s 860ms/step - loss: 1.0963 - accuracy: 0.3735 - val_loss: 1.0962 - val_accuracy: 0.3540 - lr: 1.0000e-05\n",
            "Epoch 43/100\n",
            "45/45 [==============================] - 39s 855ms/step - loss: 1.0962 - accuracy: 0.3742 - val_loss: 1.0962 - val_accuracy: 0.3540 - lr: 1.0000e-05\n",
            "Epoch 44/100\n",
            "45/45 [==============================] - 39s 855ms/step - loss: 1.0962 - accuracy: 0.3735 - val_loss: 1.0962 - val_accuracy: 0.3540 - lr: 1.0000e-05\n",
            "Epoch 45/100\n",
            "45/45 [==============================] - 39s 858ms/step - loss: 1.0961 - accuracy: 0.3770 - val_loss: 1.0961 - val_accuracy: 0.3540 - lr: 1.0000e-05\n",
            "Epoch 46/100\n",
            "45/45 [==============================] - 41s 903ms/step - loss: 1.0961 - accuracy: 0.3749 - val_loss: 1.0961 - val_accuracy: 0.3540 - lr: 1.0000e-05\n",
            "Epoch 47/100\n",
            "45/45 [==============================] - 39s 858ms/step - loss: 1.0962 - accuracy: 0.3742 - val_loss: 1.0961 - val_accuracy: 0.3540 - lr: 1.0000e-05\n",
            "Epoch 48/100\n",
            "45/45 [==============================] - 41s 905ms/step - loss: 1.0960 - accuracy: 0.3749 - val_loss: 1.0960 - val_accuracy: 0.3540 - lr: 1.0000e-05\n",
            "Epoch 49/100\n",
            "45/45 [==============================] - 39s 860ms/step - loss: 1.0960 - accuracy: 0.3770 - val_loss: 1.0961 - val_accuracy: 0.3540 - lr: 1.0000e-05\n",
            "Epoch 50/100\n",
            "45/45 [==============================] - 38s 846ms/step - loss: 1.0961 - accuracy: 0.3749 - val_loss: 1.0960 - val_accuracy: 0.3540 - lr: 1.0000e-05\n",
            "Epoch 51/100\n",
            "45/45 [==============================] - 38s 838ms/step - loss: 1.0961 - accuracy: 0.3756 - val_loss: 1.0959 - val_accuracy: 0.3540 - lr: 1.0000e-05\n",
            "Epoch 52/100\n",
            "45/45 [==============================] - 38s 842ms/step - loss: 1.0960 - accuracy: 0.3756 - val_loss: 1.0960 - val_accuracy: 0.3540 - lr: 1.0000e-05\n",
            "Epoch 53/100\n",
            "45/45 [==============================] - 38s 839ms/step - loss: 1.0959 - accuracy: 0.3777 - val_loss: 1.0959 - val_accuracy: 0.3540 - lr: 1.0000e-05\n",
            "Epoch 54/100\n",
            "45/45 [==============================] - 38s 849ms/step - loss: 1.0959 - accuracy: 0.3756 - val_loss: 1.0959 - val_accuracy: 0.3540 - lr: 1.0000e-05\n",
            "Epoch 55/100\n",
            "45/45 [==============================] - 38s 843ms/step - loss: 1.0959 - accuracy: 0.3770 - val_loss: 1.0960 - val_accuracy: 0.3540 - lr: 1.0000e-05\n",
            "Epoch 56/100\n",
            "45/45 [==============================] - 39s 861ms/step - loss: 1.0959 - accuracy: 0.3770 - val_loss: 1.0958 - val_accuracy: 0.3540 - lr: 1.0000e-05\n",
            "Epoch 57/100\n",
            "45/45 [==============================] - 41s 902ms/step - loss: 1.0959 - accuracy: 0.3763 - val_loss: 1.0958 - val_accuracy: 0.3540 - lr: 1.0000e-05\n",
            "Epoch 58/100\n",
            "45/45 [==============================] - 39s 869ms/step - loss: 1.0956 - accuracy: 0.3799 - val_loss: 1.0958 - val_accuracy: 0.3540 - lr: 1.0000e-05\n",
            "Epoch 59/100\n",
            "45/45 [==============================] - 41s 913ms/step - loss: 1.0958 - accuracy: 0.3764 - val_loss: 1.0958 - val_accuracy: 0.3540 - lr: 1.0000e-05\n",
            "Epoch 60/100\n",
            "45/45 [==============================] - 39s 857ms/step - loss: 1.0957 - accuracy: 0.3770 - val_loss: 1.0958 - val_accuracy: 0.3540 - lr: 1.0000e-05\n",
            "Epoch 61/100\n",
            "45/45 [==============================] - 39s 855ms/step - loss: 1.0959 - accuracy: 0.3735 - val_loss: 1.0958 - val_accuracy: 0.3540 - lr: 1.0000e-05\n",
            "Epoch 62/100\n",
            "45/45 [==============================] - 39s 853ms/step - loss: 1.0959 - accuracy: 0.3749 - val_loss: 1.0957 - val_accuracy: 0.3540 - lr: 1.0000e-05\n",
            "Epoch 63/100\n",
            "45/45 [==============================] - 39s 856ms/step - loss: 1.0957 - accuracy: 0.3756 - val_loss: 1.0957 - val_accuracy: 0.3540 - lr: 1.0000e-05\n",
            "Epoch 64/100\n",
            "45/45 [==============================] - 41s 908ms/step - loss: 1.0957 - accuracy: 0.3763 - val_loss: 1.0958 - val_accuracy: 0.3540 - lr: 1.0000e-05\n",
            "Epoch 65/100\n",
            "45/45 [==============================] - 39s 862ms/step - loss: 1.0959 - accuracy: 0.3735 - val_loss: 1.0956 - val_accuracy: 0.3540 - lr: 1.0000e-05\n",
            "Epoch 66/100\n",
            "45/45 [==============================] - 39s 851ms/step - loss: 1.0957 - accuracy: 0.3770 - val_loss: 1.0956 - val_accuracy: 0.3540 - lr: 1.0000e-05\n",
            "Epoch 67/100\n",
            "45/45 [==============================] - 38s 848ms/step - loss: 1.0955 - accuracy: 0.3777 - val_loss: 1.0955 - val_accuracy: 0.3540 - lr: 1.0000e-05\n",
            "Epoch 68/100\n",
            "45/45 [==============================] - 39s 858ms/step - loss: 1.0957 - accuracy: 0.3756 - val_loss: 1.0956 - val_accuracy: 0.3540 - lr: 1.0000e-05\n",
            "Epoch 69/100\n",
            "45/45 [==============================] - 41s 899ms/step - loss: 1.0957 - accuracy: 0.3742 - val_loss: 1.0955 - val_accuracy: 0.3540 - lr: 1.0000e-05\n",
            "Epoch 70/100\n",
            "45/45 [==============================] - 39s 862ms/step - loss: 1.0957 - accuracy: 0.3742 - val_loss: 1.0955 - val_accuracy: 0.3540 - lr: 1.0000e-05\n",
            "Epoch 71/100\n",
            "45/45 [==============================] - 41s 897ms/step - loss: 1.0953 - accuracy: 0.3785 - val_loss: 1.0955 - val_accuracy: 0.3540 - lr: 1.0000e-05\n",
            "Epoch 72/100\n",
            "45/45 [==============================] - 41s 900ms/step - loss: 1.0953 - accuracy: 0.3799 - val_loss: 1.0955 - val_accuracy: 0.3540 - lr: 1.0000e-05\n",
            "Epoch 73/100\n",
            "45/45 [==============================] - 39s 859ms/step - loss: 1.0955 - accuracy: 0.3770 - val_loss: 1.0953 - val_accuracy: 0.3540 - lr: 1.0000e-05\n",
            "Epoch 74/100\n",
            "45/45 [==============================] - 41s 900ms/step - loss: 1.0955 - accuracy: 0.3763 - val_loss: 1.0954 - val_accuracy: 0.3540 - lr: 1.0000e-05\n",
            "Epoch 75/100\n",
            "45/45 [==============================] - 39s 860ms/step - loss: 1.0957 - accuracy: 0.3742 - val_loss: 1.0954 - val_accuracy: 0.3540 - lr: 1.0000e-05\n",
            "Epoch 76/100\n",
            "45/45 [==============================] - 39s 853ms/step - loss: 1.0954 - accuracy: 0.3777 - val_loss: 1.0954 - val_accuracy: 0.3540 - lr: 1.0000e-05\n",
            "Epoch 77/100\n",
            "45/45 [==============================] - 39s 862ms/step - loss: 1.0953 - accuracy: 0.3777 - val_loss: 1.0953 - val_accuracy: 0.3540 - lr: 1.0000e-05\n",
            "Epoch 78/100\n",
            "45/45 [==============================] - 41s 901ms/step - loss: 1.0953 - accuracy: 0.3777 - val_loss: 1.0953 - val_accuracy: 0.3540 - lr: 1.0000e-05\n",
            "Epoch 79/100\n",
            "45/45 [==============================] - 39s 859ms/step - loss: 1.0955 - accuracy: 0.3763 - val_loss: 1.0953 - val_accuracy: 0.3540 - lr: 1.0000e-05\n",
            "Epoch 80/100\n",
            "45/45 [==============================] - 41s 904ms/step - loss: 1.0953 - accuracy: 0.3770 - val_loss: 1.0952 - val_accuracy: 0.3540 - lr: 1.0000e-05\n",
            "Epoch 81/100\n",
            "45/45 [==============================] - 39s 859ms/step - loss: 1.0954 - accuracy: 0.3756 - val_loss: 1.0952 - val_accuracy: 0.3540 - lr: 1.0000e-05\n",
            "Epoch 82/100\n",
            "45/45 [==============================] - 38s 846ms/step - loss: 1.0952 - accuracy: 0.3763 - val_loss: 1.0952 - val_accuracy: 0.3540 - lr: 1.0000e-05\n",
            "Epoch 83/100\n",
            "45/45 [==============================] - 38s 845ms/step - loss: 1.0951 - accuracy: 0.3792 - val_loss: 1.0952 - val_accuracy: 0.3540 - lr: 1.0000e-05\n",
            "Epoch 84/100\n",
            "45/45 [==============================] - 38s 840ms/step - loss: 1.0953 - accuracy: 0.3756 - val_loss: 1.0950 - val_accuracy: 0.3540 - lr: 1.0000e-05\n",
            "Epoch 85/100\n",
            "45/45 [==============================] - 38s 840ms/step - loss: 1.0953 - accuracy: 0.3749 - val_loss: 1.0951 - val_accuracy: 0.3540 - lr: 1.0000e-05\n",
            "Epoch 86/100\n",
            "45/45 [==============================] - 39s 855ms/step - loss: 1.0955 - accuracy: 0.3735 - val_loss: 1.0951 - val_accuracy: 0.3540 - lr: 1.0000e-05\n",
            "Epoch 87/100\n",
            "45/45 [==============================] - 41s 903ms/step - loss: 1.0954 - accuracy: 0.3735 - val_loss: 1.0952 - val_accuracy: 0.3540 - lr: 1.0000e-05\n",
            "Epoch 88/100\n",
            "45/45 [==============================] - 39s 863ms/step - loss: 1.0952 - accuracy: 0.3763 - val_loss: 1.0950 - val_accuracy: 0.3540 - lr: 1.0000e-05\n",
            "Epoch 89/100\n",
            "45/45 [==============================] - 39s 870ms/step - loss: 1.0951 - accuracy: 0.3764 - val_loss: 1.0951 - val_accuracy: 0.3540 - lr: 1.0000e-05\n",
            "Epoch 90/100\n",
            "45/45 [==============================] - 40s 875ms/step - loss: 1.0952 - accuracy: 0.3770 - val_loss: 1.0950 - val_accuracy: 0.3540 - lr: 1.0000e-05\n",
            "Epoch 91/100\n",
            "45/45 [==============================] - 39s 862ms/step - loss: 1.0953 - accuracy: 0.3742 - val_loss: 1.0949 - val_accuracy: 0.3540 - lr: 1.0000e-05\n",
            "Epoch 92/100\n",
            "45/45 [==============================] - 38s 849ms/step - loss: 1.0950 - accuracy: 0.3770 - val_loss: 1.0950 - val_accuracy: 0.3540 - lr: 1.0000e-05\n",
            "Epoch 93/100\n",
            "45/45 [==============================] - 38s 840ms/step - loss: 1.0952 - accuracy: 0.3749 - val_loss: 1.0950 - val_accuracy: 0.3540 - lr: 1.0000e-05\n",
            "Epoch 94/100\n",
            "45/45 [==============================] - 38s 843ms/step - loss: 1.0951 - accuracy: 0.3749 - val_loss: 1.0948 - val_accuracy: 0.3540 - lr: 1.0000e-05\n",
            "Epoch 95/100\n",
            "45/45 [==============================] - 38s 842ms/step - loss: 1.0950 - accuracy: 0.3756 - val_loss: 1.0949 - val_accuracy: 0.3540 - lr: 1.0000e-05\n",
            "Epoch 96/100\n",
            "45/45 [==============================] - 38s 842ms/step - loss: 1.0951 - accuracy: 0.3742 - val_loss: 1.0949 - val_accuracy: 0.3540 - lr: 1.0000e-05\n",
            "Epoch 97/100\n",
            "45/45 [==============================] - 39s 856ms/step - loss: 1.0950 - accuracy: 0.3756 - val_loss: 1.0947 - val_accuracy: 0.3540 - lr: 1.0000e-05\n",
            "Epoch 98/100\n",
            "45/45 [==============================] - 39s 849ms/step - loss: 1.0949 - accuracy: 0.3785 - val_loss: 1.0947 - val_accuracy: 0.3540 - lr: 1.0000e-05\n",
            "Epoch 99/100\n",
            "45/45 [==============================] - 41s 901ms/step - loss: 1.0951 - accuracy: 0.3749 - val_loss: 1.0946 - val_accuracy: 0.3540 - lr: 1.0000e-05\n",
            "Epoch 100/100\n",
            "45/45 [==============================] - 39s 861ms/step - loss: 1.0951 - accuracy: 0.3763 - val_loss: 1.0947 - val_accuracy: 0.3540 - lr: 1.0000e-05\n"
          ]
        }
      ]
    },
    {
      "cell_type": "code",
      "source": [
        "import matplotlib.pyplot as plt\n",
        "\n",
        "plt.plot(history.history['accuracy'])\n",
        "plt.plot(history.history['val_accuracy'])\n",
        "plt.title('model accuracy')\n",
        "plt.ylabel('accuracy')\n",
        "plt.xlabel('epoch')\n",
        "plt.legend(['train', 'test'], loc='upper left')\n",
        "plt.show()\n",
        "plt.plot(history.history['loss'])\n",
        "plt.plot(history.history['val_loss'])\n",
        "plt.title('model loss')\n",
        "plt.ylabel('loss')\n",
        "plt.xlabel('epoch')\n",
        "plt.legend(['train', 'test'], loc='upper left')\n",
        "plt.show()"
      ],
      "metadata": {
        "colab": {
          "base_uri": "https://localhost:8080/",
          "height": 927
        },
        "id": "0EB4eM-5X6te",
        "outputId": "50cb457a-0ed2-4c99-e7d9-8c1fd8718d3b"
      },
      "execution_count": 77,
      "outputs": [
        {
          "output_type": "display_data",
          "data": {
            "text/plain": [
              "<Figure size 640x480 with 1 Axes>"
            ],
            "image/png": "[encoded data removed]"
          },
          "metadata": {}
        },
        {
          "output_type": "display_data",
          "data": {
            "text/plain": [
              "<Figure size 640x480 with 1 Axes>"
            ],
            "image/png": "[encoded data removed]"
          },
          "metadata": {}
        }
      ]
    },
    {
      "cell_type": "code",
      "source": [
        "import itertools\n",
        "def plot_confusion_matrix(cm, classes,\n",
        "                          normalize=False,\n",
        "                          title='Confusion matrix',\n",
        "                          cmap=plt.cm.Blues):\n",
        "    \"\"\"\n",
        "    This function prints and plots the confusion matrix.\n",
        "    Normalization can be applied by setting `normalize=True`.\n",
        "    \"\"\"\n",
        "    plt.imshow(cm, interpolation='nearest', cmap=cmap)\n",
        "    plt.title(title)\n",
        "    plt.colorbar()\n",
        "    tick_marks = np.arange(len(classes))\n",
        "    plt.xticks(tick_marks, classes, rotation=45)\n",
        "    plt.yticks(tick_marks, classes)\n",
        "\n",
        "    if normalize:\n",
        "        cm = cm.astype('float') / cm.sum(axis=1)[:, np.newaxis]\n",
        "\n",
        "    thresh = cm.max() / 2.\n",
        "    for i, j in itertools.product(range(cm.shape[0]), range(cm.shape[1])):\n",
        "        plt.text(j, i, cm[i, j],\n",
        "                 horizontalalignment=\"center\",\n",
        "                 color=\"white\" if cm[i, j] > thresh else \"black\")\n",
        "\n",
        "    plt.tight_layout()\n",
        "    plt.ylabel('True label')\n",
        "    plt.xlabel('Predicted label')\n",
        "Y_pred = model.predict(x_test)\n",
        "Y_pred_classes = np.argmax(Y_pred,axis = 1)\n",
        "# Convert validation observations to one hot vectors\n",
        "Y_true = np.argmax(y_test,axis = 1)  #test süreci için Y_true = np.argmax(y_test,axis = 1)\n",
        "# compute the confusion matrix\n",
        "confusion_mtx = confusion_matrix(Y_true, Y_pred_classes)\n",
        "# plot the confusion matrix\n",
        "plot_confusion_matrix(confusion_mtx, classes = range(3))"
      ],
      "metadata": {
        "colab": {
          "base_uri": "https://localhost:8080/",
          "height": 523
        },
        "id": "EBsxXvNwqfsE",
        "outputId": "0d750402-b6fa-418f-d207-387b3cbab592"
      },
      "execution_count": 79,
      "outputs": [
        {
          "output_type": "stream",
          "name": "stdout",
          "text": [
            "13/13 [==============================] - 8s 403ms/step\n"
          ]
        },
        {
          "output_type": "display_data",
          "data": {
            "text/plain": [
              "<Figure size 640x480 with 2 Axes>"
            ],
            "image/png": "[encoded data removed]"
          },
          "metadata": {}
        }
      ]
    },
    {
      "cell_type": "code",
      "source": [
        "from sklearn.metrics import classification_report\n",
        "report = classification_report(Y_true, Y_pred_classes)\n",
        "print(report)"
      ],
      "metadata": {
        "colab": {
          "base_uri": "https://localhost:8080/"
        },
        "id": "PvKCp0a1qj9u",
        "outputId": "ca1c2c9b-ac7f-49b1-a250-9047d99c9b86"
      },
      "execution_count": 80,
      "outputs": [
        {
          "output_type": "stream",
          "name": "stdout",
          "text": [
            "              precision    recall  f1-score   support\n",
            "\n",
            "           0       0.00      0.00      0.00       120\n",
            "           1       0.00      0.00      0.00       125\n",
            "           2       0.39      1.00      0.56       157\n",
            "\n",
            "    accuracy                           0.39       402\n",
            "   macro avg       0.13      0.33      0.19       402\n",
            "weighted avg       0.15      0.39      0.22       402\n",
            "\n"
          ]
        },
        {
          "output_type": "stream",
          "name": "stderr",
          "text": [
            "/usr/local/lib/python3.10/dist-packages/sklearn/metrics/_classification.py:1344: UndefinedMetricWarning: Precision and F-score are ill-defined and being set to 0.0 in labels with no predicted samples. Use `zero_division` parameter to control this behavior.\n",
            "  _warn_prf(average, modifier, msg_start, len(result))\n",
            "/usr/local/lib/python3.10/dist-packages/sklearn/metrics/_classification.py:1344: UndefinedMetricWarning: Precision and F-score are ill-defined and being set to 0.0 in labels with no predicted samples. Use `zero_division` parameter to control this behavior.\n",
            "  _warn_prf(average, modifier, msg_start, len(result))\n",
            "/usr/local/lib/python3.10/dist-packages/sklearn/metrics/_classification.py:1344: UndefinedMetricWarning: Precision and F-score are ill-defined and being set to 0.0 in labels with no predicted samples. Use `zero_division` parameter to control this behavior.\n",
            "  _warn_prf(average, modifier, msg_start, len(result))\n"
          ]
        }
      ]
    },
    {
      "cell_type": "code",
      "source": [],
      "metadata": {
        "id": "nUv-ldiFqyYC"
      },
      "execution_count": null,
      "outputs": []
    }
  ]
}