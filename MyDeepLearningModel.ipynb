{
  "nbformat": 4,
  "nbformat_minor": 0,
  "metadata": {
    "colab": {
      "provenance": [],
      "machine_shape": "hm",
      "gpuType": "V100",
      "authorship_tag": "ABX9TyM19F0BY61Pm5pV+eUF9lJL",
      "include_colab_link": true
    },
    "kernelspec": {
      "name": "python3",
      "display_name": "Python 3"
    },
    "language_info": {
      "name": "python"
    },
    "accelerator": "GPU"
  },
  "cells": [
    {
      "cell_type": "markdown",
      "metadata": {
        "id": "view-in-github",
        "colab_type": "text"
      },
      "source": [
        "<a href=\"https://colab.research.google.com/github/seymadogru/BasicDataTypes/blob/master/MyDeepLearningModel.ipynb\" target=\"_parent\"><img src=\"https://colab.research.google.com/assets/colab-badge.svg\" alt=\"Open In Colab\"/></a>"
      ]
    },
    {
      "cell_type": "code",
      "execution_count": 1,
      "metadata": {
        "colab": {
          "base_uri": "https://localhost:8080/"
        },
        "id": "ELSqtx3eMbUB",
        "outputId": "bfa1a86d-610c-443d-c792-89f737ebcd24"
      },
      "outputs": [
        {
          "output_type": "stream",
          "name": "stdout",
          "text": [
            "Drive already mounted at /content/drive; to attempt to forcibly remount, call drive.mount(\"/content/drive\", force_remount=True).\n"
          ]
        }
      ],
      "source": [
        "from google.colab import drive\n",
        "drive.mount('/content/drive')"
      ]
    },
    {
      "cell_type": "code",
      "source": [
        "from tensorflow.keras.preprocessing.image import ImageDataGenerator\n",
        "from tensorflow.keras.preprocessing.image import img_to_array\n",
        "from tensorflow.keras.preprocessing.image import load_img\n",
        "import numpy as np\n",
        "import random\n",
        "import math\n",
        "import csv\n",
        "import cv2\n",
        "import os\n",
        "from keras.utils import to_categorical\n",
        "from sklearn.preprocessing import LabelEncoder\n",
        "from sklearn.metrics import confusion_matrix\n",
        "from sklearn.metrics import mean_squared_error\n",
        "import tensorflow as tf\n",
        "from tensorflow.keras.models import Sequential\n",
        "from tensorflow.keras.layers import BatchNormalization\n",
        "from tensorflow.keras.layers import Conv2D\n",
        "from tensorflow.keras.layers import MaxPooling2D\n",
        "from tensorflow.keras.layers import MaxPool2D\n",
        "from tensorflow.keras.layers import Activation\n",
        "from tensorflow.keras.layers import Flatten\n",
        "from tensorflow.keras.layers import Dropout\n",
        "from tensorflow.keras.layers import Dense\n",
        "from tensorflow.keras.optimizers import Adam\n",
        "from tensorflow.keras.optimizers import SGD"
      ],
      "metadata": {
        "id": "j9cFKmCCMy0-"
      },
      "execution_count": 2,
      "outputs": []
    },
    {
      "cell_type": "code",
      "source": [
        "inputBasePath = \"/content/drive/MyDrive/CDD-CESM_last\"\n",
        "outputBasePath = \"/content/drive/MyDrive/imagearraynew\""
      ],
      "metadata": {
        "id": "TqfY873uNFac"
      },
      "execution_count": 3,
      "outputs": []
    },
    {
      "cell_type": "code",
      "source": [
        "image_width = 224\n",
        "image_height = 224"
      ],
      "metadata": {
        "id": "fvEgqf-iNO7v"
      },
      "execution_count": 4,
      "outputs": []
    },
    {
      "cell_type": "code",
      "source": [
        "classes = ['Benign','Malignant','Normal']"
      ],
      "metadata": {
        "id": "fgANM5FxNX6k"
      },
      "execution_count": 5,
      "outputs": []
    },
    {
      "cell_type": "code",
      "source": [
        "os.chdir(inputBasePath)"
      ],
      "metadata": {
        "id": "ydVL9cyONZZ1"
      },
      "execution_count": 6,
      "outputs": []
    },
    {
      "cell_type": "code",
      "source": [
        "X = []\n",
        "Y = []"
      ],
      "metadata": {
        "id": "WT4DXRonNauh"
      },
      "execution_count": 7,
      "outputs": []
    },
    {
      "cell_type": "code",
      "source": [
        "i = 0\n",
        "for class1 in classes:\n",
        "  os.chdir(class1)\n",
        "  print('=> '+class1)\n",
        "  for files in os.listdir('./'):\n",
        "    img = cv2.imread(files)\n",
        "    img = cv2.resize(img, (image_width,image_height))\n",
        "    X.append(img)\n",
        "    Y.append(class1)\n",
        "    i = i + 1\n",
        "  os.chdir('..')"
      ],
      "metadata": {
        "colab": {
          "base_uri": "https://localhost:8080/"
        },
        "id": "reCto4pPNciJ",
        "outputId": "f9fb1901-0dee-4534-c201-616416c5f13c"
      },
      "execution_count": 8,
      "outputs": [
        {
          "output_type": "stream",
          "name": "stdout",
          "text": [
            "=> Benign\n",
            "=> Malignant\n",
            "=> Normal\n"
          ]
        }
      ]
    },
    {
      "cell_type": "code",
      "source": [
        "print(\"X : \",len(X))\n",
        "print(\"Y : \",len(Y))"
      ],
      "metadata": {
        "colab": {
          "base_uri": "https://localhost:8080/"
        },
        "id": "fa-5iM68Nd_9",
        "outputId": "fcedc1ac-38af-4698-8c13-5768c790dd9a"
      },
      "execution_count": 9,
      "outputs": [
        {
          "output_type": "stream",
          "name": "stdout",
          "text": [
            "X :  17006\n",
            "Y :  17006\n"
          ]
        }
      ]
    },
    {
      "cell_type": "code",
      "source": [
        "X = np.array(X).reshape(-1,image_width,image_height,3)\n",
        "\n",
        "Y = np.array(Y)\n",
        "\n",
        "print(\"X : \",X.shape)\n",
        "print(\"Y : \",Y.shape)\n",
        "\n",
        "print(\"X : \",len(X))\n",
        "print(\"Y : \",len(Y))"
      ],
      "metadata": {
        "id": "cZHzMZGmRKmP",
        "outputId": "f94f2f0c-a8a6-40c4-db12-bca3cc68d0e1",
        "colab": {
          "base_uri": "https://localhost:8080/"
        }
      },
      "execution_count": 10,
      "outputs": [
        {
          "output_type": "stream",
          "name": "stdout",
          "text": [
            "X :  (17006, 224, 224, 3)\n",
            "Y :  (17006,)\n",
            "X :  17006\n",
            "Y :  17006\n"
          ]
        }
      ]
    },
    {
      "cell_type": "code",
      "source": [
        "os.chdir('..')"
      ],
      "metadata": {
        "id": "liZOKlDYRM6b"
      },
      "execution_count": 11,
      "outputs": []
    },
    {
      "cell_type": "code",
      "source": [
        "os.chdir(\"imagearraynew\")"
      ],
      "metadata": {
        "id": "8qR8lt0PRO3F"
      },
      "execution_count": 12,
      "outputs": []
    },
    {
      "cell_type": "code",
      "source": [
        "np.save(str(image_width)+'x'+str(image_height)+'_images', X)\n",
        "\n",
        "np.save(str(image_width)+'x'+str(image_height)+'_labels', Y)\n",
        "\n",
        "print(\"[ INFO - STAGE1 ]  NUMPY ARRAY CREATION COMPLETED \\n \")"
      ],
      "metadata": {
        "id": "Cfz75NfWRQsW",
        "outputId": "c234fa18-2bfb-4eb5-b10e-9f763bc0b11c",
        "colab": {
          "base_uri": "https://localhost:8080/"
        }
      },
      "execution_count": 13,
      "outputs": [
        {
          "output_type": "stream",
          "name": "stdout",
          "text": [
            "[ INFO - STAGE1 ]  NUMPY ARRAY CREATION COMPLETED \n",
            " \n"
          ]
        }
      ]
    },
    {
      "cell_type": "code",
      "source": [
        "from sklearn.metrics import classification_report\n",
        "from sklearn.model_selection import train_test_split\n",
        "from tensorflow.keras import utils\n",
        "utils.to_categorical"
      ],
      "metadata": {
        "id": "2tlSLvgDRSzO",
        "outputId": "03ec92b6-6656-4059-c2ed-8bef412037e4",
        "colab": {
          "base_uri": "https://localhost:8080/",
          "height": 187
        }
      },
      "execution_count": 14,
      "outputs": [
        {
          "output_type": "execute_result",
          "data": {
            "text/plain": [
              "<function keras.src.utils.np_utils.to_categorical(y, num_classes=None, dtype='float32')>"
            ],
            "text/html": [
              "<div style=\"max-width:800px; border: 1px solid var(--colab-border-color);\"><style>\n",
              "      pre.function-repr-contents {\n",
              "        overflow-x: auto;\n",
              "        padding: 8px 12px;\n",
              "        max-height: 500px;\n",
              "      }\n",
              "\n",
              "      pre.function-repr-contents.function-repr-contents-collapsed {\n",
              "        cursor: pointer;\n",
              "        max-height: 100px;\n",
              "      }\n",
              "    </style>\n",
              "    <pre style=\"white-space: initial; background:\n",
              "         var(--colab-secondary-surface-color); padding: 8px 12px;\n",
              "         border-bottom: 1px solid var(--colab-border-color);\"><b>keras.src.utils.np_utils.to_categorical</b><br/>def to_categorical(y, num_classes=None, dtype=&#x27;float32&#x27;)</pre><pre class=\"function-repr-contents function-repr-contents-collapsed\" style=\"\"><a class=\"filepath\" style=\"display:none\" href=\"#\">/usr/local/lib/python3.10/dist-packages/keras/src/utils/np_utils.py</a>Converts a class vector (integers) to binary class matrix.\n",
              "\n",
              "E.g. for use with `categorical_crossentropy`.\n",
              "\n",
              "Args:\n",
              "    y: Array-like with class values to be converted into a matrix\n",
              "        (integers from 0 to `num_classes - 1`).\n",
              "    num_classes: Total number of classes. If `None`, this would be inferred\n",
              "      as `max(y) + 1`.\n",
              "    dtype: The data type expected by the input. Default: `&#x27;float32&#x27;`.\n",
              "\n",
              "Returns:\n",
              "    A binary matrix representation of the input as a NumPy array. The class\n",
              "    axis is placed last.\n",
              "\n",
              "Example:\n",
              "\n",
              "&gt;&gt;&gt; a = tf.keras.utils.to_categorical([0, 1, 2, 3], num_classes=4)\n",
              "&gt;&gt;&gt; print(a)\n",
              "[[1. 0. 0. 0.]\n",
              " [0. 1. 0. 0.]\n",
              " [0. 0. 1. 0.]\n",
              " [0. 0. 0. 1.]]\n",
              "\n",
              "&gt;&gt;&gt; b = tf.constant([.9, .04, .03, .03,\n",
              "...                  .3, .45, .15, .13,\n",
              "...                  .04, .01, .94, .05,\n",
              "...                  .12, .21, .5, .17],\n",
              "...                 shape=[4, 4])\n",
              "&gt;&gt;&gt; loss = tf.keras.backend.categorical_crossentropy(a, b)\n",
              "&gt;&gt;&gt; print(np.around(loss, 5))\n",
              "[0.10536 0.82807 0.1011  1.77196]\n",
              "\n",
              "&gt;&gt;&gt; loss = tf.keras.backend.categorical_crossentropy(a, a)\n",
              "&gt;&gt;&gt; print(np.around(loss, 5))\n",
              "[0. 0. 0. 0.]</pre>\n",
              "      <script>\n",
              "      if (google.colab.kernel.accessAllowed && google.colab.files && google.colab.files.view) {\n",
              "        for (const element of document.querySelectorAll('.filepath')) {\n",
              "          element.style.display = 'block'\n",
              "          element.onclick = (event) => {\n",
              "            event.preventDefault();\n",
              "            event.stopPropagation();\n",
              "            google.colab.files.view(element.textContent, 23);\n",
              "          };\n",
              "        }\n",
              "      }\n",
              "      for (const element of document.querySelectorAll('.function-repr-contents')) {\n",
              "        element.onclick = (event) => {\n",
              "          event.preventDefault();\n",
              "          event.stopPropagation();\n",
              "          element.classList.toggle('function-repr-contents-collapsed');\n",
              "        };\n",
              "      }\n",
              "      </script>\n",
              "      </div>"
            ]
          },
          "metadata": {},
          "execution_count": 14
        }
      ]
    },
    {
      "cell_type": "code",
      "source": [
        "data = np.load('/content/drive/MyDrive/imagearraynew/224x224_images.npy')\n",
        "labels = np.load('/content/drive/MyDrive/imagearraynew/224x224_labels.npy')\n",
        "data.shape"
      ],
      "metadata": {
        "id": "S4zVLO5dRkUT",
        "outputId": "5e2062d4-3ddf-4e3b-839c-04daad4f75fd",
        "colab": {
          "base_uri": "https://localhost:8080/"
        }
      },
      "execution_count": 15,
      "outputs": [
        {
          "output_type": "execute_result",
          "data": {
            "text/plain": [
              "(17006, 224, 224, 3)"
            ]
          },
          "metadata": {},
          "execution_count": 15
        }
      ]
    },
    {
      "cell_type": "code",
      "source": [
        "labelEn = LabelEncoder()\n",
        "labels = labelEn.fit_transform(labels)\n",
        "labels = to_categorical(labels)"
      ],
      "metadata": {
        "id": "wDDl5j3SRmgG"
      },
      "execution_count": 16,
      "outputs": []
    },
    {
      "cell_type": "code",
      "source": [
        "data =  data.reshape(-1,image_width , image_height , 3)"
      ],
      "metadata": {
        "id": "a2y9F8CqRoOU"
      },
      "execution_count": 17,
      "outputs": []
    },
    {
      "cell_type": "code",
      "source": [
        "x_train, x_test, y_train, y_test = train_test_split(data, labels, test_size = .05, shuffle = True)"
      ],
      "metadata": {
        "id": "7AjN3B4NRq0i"
      },
      "execution_count": 18,
      "outputs": []
    },
    {
      "cell_type": "code",
      "source": [
        "print(\n",
        "\"\"\"\n",
        "x_train shape: {}\n",
        "x_test shape: {}\n",
        "y_train shape: {}\n",
        "y_test shape: {}\n",
        "\n",
        "\"\"\".format(x_train.shape, x_test.shape, y_train.shape, y_test.shape))"
      ],
      "metadata": {
        "id": "tXItxmKBRtxM",
        "outputId": "c916e1b0-ffd5-4321-cd9a-bfc986d04500",
        "colab": {
          "base_uri": "https://localhost:8080/"
        }
      },
      "execution_count": 19,
      "outputs": [
        {
          "output_type": "stream",
          "name": "stdout",
          "text": [
            "\n",
            "x_train shape: (16155, 224, 224, 3)\n",
            "x_test shape: (851, 224, 224, 3)\n",
            "y_train shape: (16155, 3)\n",
            "y_test shape: (851, 3)\n",
            "\n",
            "\n"
          ]
        }
      ]
    },
    {
      "cell_type": "code",
      "source": [
        "x_train, x_validate, y_train, y_validate = train_test_split(x_train, y_train, test_size = .05, shuffle = True,random_state=42)"
      ],
      "metadata": {
        "id": "5x4hLk9jSgAe"
      },
      "execution_count": 20,
      "outputs": []
    },
    {
      "cell_type": "code",
      "source": [
        "print(y_train.shape)\n",
        "print(y_validate.shape)"
      ],
      "metadata": {
        "id": "V0933oZaSj6o",
        "outputId": "f1db89a7-30f9-491a-ec72-eceb9eae88ff",
        "colab": {
          "base_uri": "https://localhost:8080/"
        }
      },
      "execution_count": 21,
      "outputs": [
        {
          "output_type": "stream",
          "name": "stdout",
          "text": [
            "(15347, 3)\n",
            "(808, 3)\n"
          ]
        }
      ]
    },
    {
      "cell_type": "code",
      "source": [
        "!pip install keras\n",
        "import keras"
      ],
      "metadata": {
        "id": "qhyPSrlnSqmw",
        "outputId": "007892d6-c83f-4709-efcc-3625989e0610",
        "colab": {
          "base_uri": "https://localhost:8080/"
        }
      },
      "execution_count": 22,
      "outputs": [
        {
          "output_type": "stream",
          "name": "stdout",
          "text": [
            "Requirement already satisfied: keras in /usr/local/lib/python3.10/dist-packages (2.15.0)\n"
          ]
        }
      ]
    },
    {
      "cell_type": "code",
      "source": [
        "def model1(input_shape=(image_width ,image_height ,3), num_classes = 3): #parametrelerin varsayılan değerleri var.\n",
        "    #modelin giriş shape'i ve class sayısı= 3\n",
        "    #burada oluşturulan model VGG16 mimarisi aslında. değiştirilebilir.\n",
        "\tmodel = Sequential()\n",
        "\tchanDim = -1\n",
        "\n",
        "\tmodel.add(Conv2D(64, (3,3), padding=\"same\",input_shape=input_shape))\n",
        "\tmodel.add(Activation(\"relu\"))\n",
        "\tmodel.add(BatchNormalization(axis=chanDim))\n",
        "\tmodel.add(Conv2D(64, (3,3), padding=\"same\"))\n",
        "\tmodel.add(Activation(\"relu\"))\n",
        "\tmodel.add(BatchNormalization(axis=chanDim))\n",
        "\tmodel.add(MaxPooling2D(pool_size=(2, 2)))\n",
        "\n",
        "\t# 2.Layer (CONV => RELU => CONV => RELU) * 2 => POOL\n",
        "\tmodel.add(Conv2D(128, (3,3), padding=\"same\"))\n",
        "\tmodel.add(Activation(\"relu\"))\n",
        "\tmodel.add(BatchNormalization(axis=chanDim))\n",
        "\tmodel.add(Conv2D(128, (3,3), padding=\"same\"))\n",
        "\tmodel.add(Activation(\"relu\"))\n",
        "\tmodel.add(BatchNormalization(axis=chanDim))\n",
        "\tmodel.add(MaxPooling2D(pool_size=(2, 2)))\n",
        "\n",
        "\t# 3.Layer (CONV => RELU => CONV => RELU) * 2 => POOL\n",
        "\tmodel.add(Conv2D(256, (3,3), padding=\"same\"))\n",
        "\tmodel.add(Activation(\"relu\"))\n",
        "\tmodel.add(BatchNormalization(axis=chanDim))\n",
        "\tmodel.add(Conv2D(256, (3,3), padding=\"same\"))\n",
        "\tmodel.add(Activation(\"relu\"))\n",
        "\tmodel.add(BatchNormalization(axis=chanDim))\n",
        "\tmodel.add(Conv2D(256, (3,3), padding=\"same\"))\n",
        "\tmodel.add(Activation(\"relu\"))\n",
        "\tmodel.add(BatchNormalization(axis=chanDim))\n",
        "\tmodel.add(MaxPooling2D(pool_size=(2, 2)))\n",
        "\n",
        "\t# 4.Layer (CONV => RELU => CONV => RELU) * 2 => POOL\n",
        "\tmodel.add(Conv2D(512, (3,3), padding=\"same\"))\n",
        "\tmodel.add(Activation(\"relu\"))\n",
        "\tmodel.add(BatchNormalization(axis=chanDim))\n",
        "\tmodel.add(Conv2D(512, (3,3), padding=\"same\"))\n",
        "\tmodel.add(Activation(\"relu\"))\n",
        "\tmodel.add(BatchNormalization(axis=chanDim))\n",
        "\tmodel.add(Conv2D(512, (3,3), padding=\"same\"))\n",
        "\tmodel.add(Activation(\"relu\"))\n",
        "\tmodel.add(BatchNormalization(axis=chanDim))\n",
        "\tmodel.add(MaxPooling2D(pool_size=(2, 2)))\n",
        "\n",
        "\t# 5.Layer (CONV => RELU => CONV => RELU) * 2 => POOL\n",
        "\tmodel.add(Conv2D(512, (3,3), padding=\"same\"))\n",
        "\tmodel.add(Activation(\"relu\"))\n",
        "\tmodel.add(BatchNormalization(axis=chanDim))\n",
        "\tmodel.add(Conv2D(512, (3,3), padding=\"same\"))\n",
        "\tmodel.add(Activation(\"relu\"))\n",
        "\tmodel.add(BatchNormalization(axis=chanDim))\n",
        "\tmodel.add(Conv2D(512, (3,3), padding=\"same\"))\n",
        "\tmodel.add(Activation(\"relu\"))\n",
        "\tmodel.add(BatchNormalization(axis=chanDim))\n",
        "\tmodel.add(MaxPooling2D(pool_size=(2, 2)))\n",
        "\n",
        "\t# 1. TAM BAĞLANTI KATMANI\n",
        "\tmodel.add(Flatten())\n",
        "\tmodel.add(Dense(4096))\n",
        "\tmodel.add(Activation(\"relu\"))\n",
        "\tmodel.add(BatchNormalization())\n",
        "\tmodel.add(Dropout(0.5))\n",
        "\n",
        "\t# 2. TAM BAĞLANTI KATMANI\n",
        "\tmodel.add(Flatten())\n",
        "\tmodel.add(Dense(4096))\n",
        "\tmodel.add(Activation(\"relu\"))\n",
        "\tmodel.add(BatchNormalization())\n",
        "\tmodel.add(Dropout(0.5))\n",
        "\n",
        "\t# SOFTMAX\n",
        "\tmodel.add(Dense(num_classes))\n",
        "\tmodel.add(Activation(\"softmax\"))\n",
        "\n",
        "\treturn model"
      ],
      "metadata": {
        "id": "X_RfHpE4Tckg"
      },
      "execution_count": 23,
      "outputs": []
    },
    {
      "cell_type": "code",
      "source": [
        "model = model1()"
      ],
      "metadata": {
        "id": "1GYiUlCMVFC5"
      },
      "execution_count": 24,
      "outputs": []
    },
    {
      "cell_type": "code",
      "source": [
        "optimizer = tf.keras.optimizers.legacy.Adam(learning_rate=0.0001, beta_1=0.9, beta_2=0.999, epsilon=None, decay=0.0, amsgrad=False)"
      ],
      "metadata": {
        "id": "RFotfEePTipP"
      },
      "execution_count": 25,
      "outputs": []
    },
    {
      "cell_type": "code",
      "source": [
        "from tensorflow.keras.callbacks import ReduceLROnPlateau\n",
        "learning_rate_reduction = ReduceLROnPlateau(monitor='val_accuracy', patience=3, verbose=1,  factor=0.5, min_lr=0.00001)"
      ],
      "metadata": {
        "id": "EIw6vE5pTs8M"
      },
      "execution_count": 26,
      "outputs": []
    },
    {
      "cell_type": "code",
      "source": [
        "model.compile(optimizer = optimizer , loss = \"categorical_crossentropy\", metrics=[\"accuracy\"])"
      ],
      "metadata": {
        "id": "6tayvNY6TwYb"
      },
      "execution_count": 27,
      "outputs": []
    },
    {
      "cell_type": "code",
      "source": [
        "epc = 50\n",
        "bs = 16"
      ],
      "metadata": {
        "id": "lLMiNYAoTxzc"
      },
      "execution_count": 28,
      "outputs": []
    },
    {
      "cell_type": "code",
      "source": [
        "history = model.fit(x_train,y_train, batch_size=bs,\n",
        "                              epochs = epc, validation_data = (x_validate,y_validate),\n",
        "                              verbose = 1, callbacks=[learning_rate_reduction])"
      ],
      "metadata": {
        "id": "nqZB4C5KT26E",
        "outputId": "6ede76bf-8be2-4926-b9d2-37da1376fa3e",
        "colab": {
          "base_uri": "https://localhost:8080/"
        }
      },
      "execution_count": 29,
      "outputs": [
        {
          "output_type": "stream",
          "name": "stdout",
          "text": [
            "Epoch 1/50\n",
            "960/960 [==============================] - 91s 86ms/step - loss: 2.0061 - accuracy: 0.3652 - val_loss: 1.4605 - val_accuracy: 0.3639 - lr: 1.0000e-04\n",
            "Epoch 2/50\n",
            "960/960 [==============================] - 79s 83ms/step - loss: 1.5534 - accuracy: 0.3738 - val_loss: 1.4241 - val_accuracy: 0.4134 - lr: 1.0000e-04\n",
            "Epoch 3/50\n",
            "960/960 [==============================] - 80s 83ms/step - loss: 1.3773 - accuracy: 0.3984 - val_loss: 1.0967 - val_accuracy: 0.4567 - lr: 1.0000e-04\n",
            "Epoch 4/50\n",
            "960/960 [==============================] - 79s 83ms/step - loss: 1.2746 - accuracy: 0.4224 - val_loss: 1.0935 - val_accuracy: 0.4431 - lr: 1.0000e-04\n",
            "Epoch 5/50\n",
            "960/960 [==============================] - 79s 83ms/step - loss: 1.2185 - accuracy: 0.4308 - val_loss: 1.2629 - val_accuracy: 0.4493 - lr: 1.0000e-04\n",
            "Epoch 6/50\n",
            "960/960 [==============================] - 80s 83ms/step - loss: 1.1675 - accuracy: 0.4460 - val_loss: 1.1152 - val_accuracy: 0.5037 - lr: 1.0000e-04\n",
            "Epoch 7/50\n",
            "960/960 [==============================] - 79s 83ms/step - loss: 1.1225 - accuracy: 0.4701 - val_loss: 1.2420 - val_accuracy: 0.4802 - lr: 1.0000e-04\n",
            "Epoch 8/50\n",
            "960/960 [==============================] - 80s 83ms/step - loss: 1.0953 - accuracy: 0.4748 - val_loss: 1.0963 - val_accuracy: 0.5173 - lr: 1.0000e-04\n",
            "Epoch 9/50\n",
            "960/960 [==============================] - 79s 83ms/step - loss: 1.0440 - accuracy: 0.4972 - val_loss: 1.1875 - val_accuracy: 0.5248 - lr: 1.0000e-04\n",
            "Epoch 10/50\n",
            "960/960 [==============================] - 79s 82ms/step - loss: 1.0163 - accuracy: 0.5154 - val_loss: 1.0085 - val_accuracy: 0.5210 - lr: 1.0000e-04\n",
            "Epoch 11/50\n",
            "960/960 [==============================] - 79s 82ms/step - loss: 1.0504 - accuracy: 0.4863 - val_loss: 1.1852 - val_accuracy: 0.5099 - lr: 1.0000e-04\n",
            "Epoch 12/50\n",
            "960/960 [==============================] - 79s 83ms/step - loss: 0.9719 - accuracy: 0.5345 - val_loss: 0.9457 - val_accuracy: 0.5359 - lr: 1.0000e-04\n",
            "Epoch 13/50\n",
            "960/960 [==============================] - 79s 82ms/step - loss: 0.9385 - accuracy: 0.5490 - val_loss: 0.9383 - val_accuracy: 0.5594 - lr: 1.0000e-04\n",
            "Epoch 14/50\n",
            "960/960 [==============================] - 79s 82ms/step - loss: 0.9138 - accuracy: 0.5698 - val_loss: 0.9604 - val_accuracy: 0.5978 - lr: 1.0000e-04\n",
            "Epoch 15/50\n",
            "960/960 [==============================] - 79s 83ms/step - loss: 0.8952 - accuracy: 0.5787 - val_loss: 0.9003 - val_accuracy: 0.5755 - lr: 1.0000e-04\n",
            "Epoch 16/50\n",
            "960/960 [==============================] - 79s 82ms/step - loss: 0.8597 - accuracy: 0.5987 - val_loss: 0.9037 - val_accuracy: 0.5545 - lr: 1.0000e-04\n",
            "Epoch 17/50\n",
            "959/960 [============================>.] - ETA: 0s - loss: 0.8223 - accuracy: 0.6276\n",
            "Epoch 17: ReduceLROnPlateau reducing learning rate to 4.999999873689376e-05.\n",
            "960/960 [==============================] - 79s 83ms/step - loss: 0.8224 - accuracy: 0.6276 - val_loss: 0.9163 - val_accuracy: 0.5780 - lr: 1.0000e-04\n",
            "Epoch 18/50\n",
            "960/960 [==============================] - 79s 83ms/step - loss: 0.7002 - accuracy: 0.6878 - val_loss: 0.9215 - val_accuracy: 0.6250 - lr: 5.0000e-05\n",
            "Epoch 19/50\n",
            "960/960 [==============================] - 80s 83ms/step - loss: 0.6141 - accuracy: 0.7399 - val_loss: 1.0063 - val_accuracy: 0.6361 - lr: 5.0000e-05\n",
            "Epoch 20/50\n",
            "960/960 [==============================] - 80s 83ms/step - loss: 0.5361 - accuracy: 0.7776 - val_loss: 0.8957 - val_accuracy: 0.6522 - lr: 5.0000e-05\n",
            "Epoch 21/50\n",
            "960/960 [==============================] - 80s 83ms/step - loss: 0.4755 - accuracy: 0.8062 - val_loss: 0.9112 - val_accuracy: 0.6473 - lr: 5.0000e-05\n",
            "Epoch 22/50\n",
            "960/960 [==============================] - 80s 83ms/step - loss: 0.4040 - accuracy: 0.8413 - val_loss: 0.8960 - val_accuracy: 0.6510 - lr: 5.0000e-05\n",
            "Epoch 23/50\n",
            "960/960 [==============================] - 80s 83ms/step - loss: 0.3535 - accuracy: 0.8633 - val_loss: 1.0717 - val_accuracy: 0.6535 - lr: 5.0000e-05\n",
            "Epoch 24/50\n",
            "960/960 [==============================] - 80s 83ms/step - loss: 0.3072 - accuracy: 0.8817 - val_loss: 1.0328 - val_accuracy: 0.6609 - lr: 5.0000e-05\n",
            "Epoch 25/50\n",
            "960/960 [==============================] - 80s 83ms/step - loss: 0.2664 - accuracy: 0.8985 - val_loss: 1.1575 - val_accuracy: 0.6361 - lr: 5.0000e-05\n",
            "Epoch 26/50\n",
            "960/960 [==============================] - 80s 83ms/step - loss: 0.2485 - accuracy: 0.9064 - val_loss: 1.1153 - val_accuracy: 0.6634 - lr: 5.0000e-05\n",
            "Epoch 27/50\n",
            "960/960 [==============================] - 80s 83ms/step - loss: 0.2198 - accuracy: 0.9152 - val_loss: 1.1704 - val_accuracy: 0.6498 - lr: 5.0000e-05\n",
            "Epoch 28/50\n",
            "960/960 [==============================] - 80s 83ms/step - loss: 0.2014 - accuracy: 0.9247 - val_loss: 1.1776 - val_accuracy: 0.6646 - lr: 5.0000e-05\n",
            "Epoch 29/50\n",
            "960/960 [==============================] - 79s 83ms/step - loss: 0.1864 - accuracy: 0.9305 - val_loss: 1.3293 - val_accuracy: 0.6225 - lr: 5.0000e-05\n",
            "Epoch 30/50\n",
            "960/960 [==============================] - 79s 83ms/step - loss: 0.1767 - accuracy: 0.9342 - val_loss: 1.1490 - val_accuracy: 0.6869 - lr: 5.0000e-05\n",
            "Epoch 31/50\n",
            "960/960 [==============================] - 79s 82ms/step - loss: 0.1719 - accuracy: 0.9365 - val_loss: 1.1431 - val_accuracy: 0.6918 - lr: 5.0000e-05\n",
            "Epoch 32/50\n",
            "960/960 [==============================] - 79s 83ms/step - loss: 0.1576 - accuracy: 0.9433 - val_loss: 1.5845 - val_accuracy: 0.6287 - lr: 5.0000e-05\n",
            "Epoch 33/50\n",
            "960/960 [==============================] - 79s 83ms/step - loss: 0.1639 - accuracy: 0.9408 - val_loss: 1.3020 - val_accuracy: 0.6807 - lr: 5.0000e-05\n",
            "Epoch 34/50\n",
            "960/960 [==============================] - 80s 83ms/step - loss: 0.1438 - accuracy: 0.9490 - val_loss: 1.1855 - val_accuracy: 0.7054 - lr: 5.0000e-05\n",
            "Epoch 35/50\n",
            "960/960 [==============================] - 80s 83ms/step - loss: 0.1284 - accuracy: 0.9531 - val_loss: 1.1985 - val_accuracy: 0.6869 - lr: 5.0000e-05\n",
            "Epoch 36/50\n",
            "960/960 [==============================] - 80s 83ms/step - loss: 0.1134 - accuracy: 0.9606 - val_loss: 1.2420 - val_accuracy: 0.6733 - lr: 5.0000e-05\n",
            "Epoch 37/50\n",
            "959/960 [============================>.] - ETA: 0s - loss: 0.1246 - accuracy: 0.9559\n",
            "Epoch 37: ReduceLROnPlateau reducing learning rate to 2.499999936844688e-05.\n",
            "960/960 [==============================] - 80s 83ms/step - loss: 0.1252 - accuracy: 0.9559 - val_loss: 1.2841 - val_accuracy: 0.6782 - lr: 5.0000e-05\n",
            "Epoch 38/50\n",
            "960/960 [==============================] - 80s 83ms/step - loss: 0.0783 - accuracy: 0.9730 - val_loss: 1.2707 - val_accuracy: 0.6931 - lr: 2.5000e-05\n",
            "Epoch 39/50\n",
            "960/960 [==============================] - 80s 83ms/step - loss: 0.0486 - accuracy: 0.9845 - val_loss: 1.2949 - val_accuracy: 0.6968 - lr: 2.5000e-05\n",
            "Epoch 40/50\n",
            "959/960 [============================>.] - ETA: 0s - loss: 0.0457 - accuracy: 0.9839\n",
            "Epoch 40: ReduceLROnPlateau reducing learning rate to 1.249999968422344e-05.\n",
            "960/960 [==============================] - 80s 83ms/step - loss: 0.0457 - accuracy: 0.9839 - val_loss: 1.3618 - val_accuracy: 0.6906 - lr: 2.5000e-05\n",
            "Epoch 41/50\n",
            "960/960 [==============================] - 80s 83ms/step - loss: 0.0391 - accuracy: 0.9869 - val_loss: 1.2347 - val_accuracy: 0.7141 - lr: 1.2500e-05\n",
            "Epoch 42/50\n",
            "960/960 [==============================] - 79s 83ms/step - loss: 0.0279 - accuracy: 0.9919 - val_loss: 1.4084 - val_accuracy: 0.7129 - lr: 1.2500e-05\n",
            "Epoch 43/50\n",
            "960/960 [==============================] - 79s 83ms/step - loss: 0.0251 - accuracy: 0.9919 - val_loss: 1.3709 - val_accuracy: 0.6955 - lr: 1.2500e-05\n",
            "Epoch 44/50\n",
            "960/960 [==============================] - 79s 83ms/step - loss: 0.0284 - accuracy: 0.9920 - val_loss: 1.3202 - val_accuracy: 0.7302 - lr: 1.2500e-05\n",
            "Epoch 45/50\n",
            "960/960 [==============================] - 79s 83ms/step - loss: 0.0163 - accuracy: 0.9947 - val_loss: 1.4210 - val_accuracy: 0.7054 - lr: 1.2500e-05\n",
            "Epoch 46/50\n",
            "960/960 [==============================] - 79s 83ms/step - loss: 0.0167 - accuracy: 0.9945 - val_loss: 1.4092 - val_accuracy: 0.7240 - lr: 1.2500e-05\n",
            "Epoch 47/50\n",
            "959/960 [============================>.] - ETA: 0s - loss: 0.0163 - accuracy: 0.9950\n",
            "Epoch 47: ReduceLROnPlateau reducing learning rate to 1e-05.\n",
            "960/960 [==============================] - 80s 83ms/step - loss: 0.0163 - accuracy: 0.9950 - val_loss: 1.5356 - val_accuracy: 0.7067 - lr: 1.2500e-05\n",
            "Epoch 48/50\n",
            "960/960 [==============================] - 80s 83ms/step - loss: 0.0178 - accuracy: 0.9947 - val_loss: 1.4394 - val_accuracy: 0.7203 - lr: 1.0000e-05\n",
            "Epoch 49/50\n",
            "960/960 [==============================] - 80s 83ms/step - loss: 0.0200 - accuracy: 0.9935 - val_loss: 1.4734 - val_accuracy: 0.7203 - lr: 1.0000e-05\n",
            "Epoch 50/50\n",
            "960/960 [==============================] - 80s 83ms/step - loss: 0.0157 - accuracy: 0.9950 - val_loss: 1.4855 - val_accuracy: 0.7191 - lr: 1.0000e-05\n"
          ]
        }
      ]
    },
    {
      "cell_type": "code",
      "source": [
        "\n",
        "import matplotlib.pyplot as plt\n",
        "\n",
        "plt.plot(history.history['accuracy'])\n",
        "plt.plot(history.history['val_accuracy'])\n",
        "plt.title('model accuracy')\n",
        "plt.ylabel('accuracy')\n",
        "plt.xlabel('epoch')\n",
        "plt.legend(['train', 'test'], loc='upper left')\n",
        "plt.show()\n",
        "plt.plot(history.history['loss'])\n",
        "plt.plot(history.history['val_loss'])\n",
        "plt.title('model loss')\n",
        "plt.ylabel('loss')\n",
        "plt.xlabel('epoch')\n",
        "plt.legend(['train', 'test'], loc='upper left')\n",
        "plt.show()"
      ],
      "metadata": {
        "id": "sJZJQREtVMN8",
        "outputId": "29ba22ef-5b17-4ca1-a035-3f0f5de0de4c",
        "colab": {
          "base_uri": "https://localhost:8080/",
          "height": 927
        }
      },
      "execution_count": 31,
      "outputs": [
        {
          "output_type": "display_data",
          "data": {
            "text/plain": [
              "<Figure size 640x480 with 1 Axes>"
            ],
            "image/png": "[encoded data removed]"
          },
          "metadata": {}
        },
        {
          "output_type": "display_data",
          "data": {
            "text/plain": [
              "<Figure size 640x480 with 1 Axes>"
            ],
            "image/png": "[encoded data removed]"
          },
          "metadata": {}
        }
      ]
    },
    {
      "cell_type": "code",
      "source": [
        "import itertools\n",
        "def plot_confusion_matrix(cm, classes,\n",
        "                          normalize=False,\n",
        "                          title='Confusion matrix',\n",
        "                          cmap=plt.cm.Blues):\n",
        "    \"\"\"\n",
        "    This function prints and plots the confusion matrix.\n",
        "    Normalization can be applied by setting `normalize=True`.\n",
        "    \"\"\"\n",
        "    plt.imshow(cm, interpolation='nearest', cmap=cmap)\n",
        "    plt.title(title)\n",
        "    plt.colorbar()\n",
        "    tick_marks = np.arange(len(classes))\n",
        "    plt.xticks(tick_marks, classes, rotation=45)\n",
        "    plt.yticks(tick_marks, classes)\n",
        "\n",
        "    if normalize:\n",
        "        cm = cm.astype('float') / cm.sum(axis=1)[:, np.newaxis]\n",
        "\n",
        "    thresh = cm.max() / 2.\n",
        "    for i, j in itertools.product(range(cm.shape[0]), range(cm.shape[1])):\n",
        "        plt.text(j, i, cm[i, j],\n",
        "                 horizontalalignment=\"center\",\n",
        "                 color=\"white\" if cm[i, j] > thresh else \"black\")\n",
        "\n",
        "    plt.tight_layout()\n",
        "    plt.ylabel('True label')\n",
        "    plt.xlabel('Predicted label')\n",
        "Y_pred = model.predict(x_test)\n",
        "Y_pred_classes = np.argmax(Y_pred,axis = 1)\n",
        "# Convert validation observations to one hot vectors\n",
        "Y_true = np.argmax(y_test,axis = 1)  #test süreci için Y_true = np.argmax(y_test,axis = 1)\n",
        "# compute the confusion matrix\n",
        "confusion_mtx = confusion_matrix(Y_true, Y_pred_classes)\n",
        "# plot the confusion matrix\n",
        "plot_confusion_matrix(confusion_mtx, classes = range(3))"
      ],
      "metadata": {
        "id": "1IVBen4PXGdk",
        "outputId": "93992be8-be22-4419-9779-76e59f6da52e",
        "colab": {
          "base_uri": "https://localhost:8080/",
          "height": 523
        }
      },
      "execution_count": 32,
      "outputs": [
        {
          "output_type": "stream",
          "name": "stdout",
          "text": [
            "27/27 [==============================] - 5s 91ms/step\n"
          ]
        },
        {
          "output_type": "display_data",
          "data": {
            "text/plain": [
              "<Figure size 640x480 with 2 Axes>"
            ],
            "image/png": "[encoded data removed]"
          },
          "metadata": {}
        }
      ]
    },
    {
      "cell_type": "code",
      "source": [
        "from sklearn.metrics import classification_report\n",
        "report = classification_report(Y_true, Y_pred_classes)\n",
        "print(report)"
      ],
      "metadata": {
        "id": "3fRKystSXKHE",
        "outputId": "f2d7d1f8-4ca3-4cac-9211-a496624cc5f2",
        "colab": {
          "base_uri": "https://localhost:8080/"
        }
      },
      "execution_count": 33,
      "outputs": [
        {
          "output_type": "stream",
          "name": "stdout",
          "text": [
            "              precision    recall  f1-score   support\n",
            "\n",
            "           0       0.64      0.64      0.64       307\n",
            "           1       0.88      0.72      0.79       299\n",
            "           2       0.63      0.78      0.69       245\n",
            "\n",
            "    accuracy                           0.71       851\n",
            "   macro avg       0.72      0.71      0.71       851\n",
            "weighted avg       0.72      0.71      0.71       851\n",
            "\n"
          ]
        }
      ]
    },
    {
      "cell_type": "code",
      "source": [],
      "metadata": {
        "id": "Fwm92yQ6XJwf"
      },
      "execution_count": null,
      "outputs": []
    }
  ]
}