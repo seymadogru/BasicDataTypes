{
 "cells": [
  {
   "cell_type": "markdown",
   "id": "24c6000a",
   "metadata": {},
   "source": [
    "Bitcoin'in iyi kazandırdığı 2017 yılı sonunda yatırım yaptığınızı farz edelim. Günlük ortalama %12 artan bitcoine 1000$ yatırmış olsaydınız bir hafta sonunda paranız ne kadar olurdu? Lütfen problemi Python kullanarak çözün."
   ]
  },
  {
   "cell_type": "code",
   "execution_count": 1,
   "id": "ac14e7aa",
   "metadata": {},
   "outputs": [
    {
     "name": "stdout",
     "output_type": "stream",
     "text": [
      "2210.6814074060803\n"
     ]
    }
   ],
   "source": [
    "ilk_para=1000\n",
    "for i in range(7):\n",
    "  ilk_para += ilk_para*12/100\n",
    "print(ilk_para)"
   ]
  },
  {
   "cell_type": "markdown",
   "id": "4ae43e7e",
   "metadata": {},
   "source": [
    "Tırnak içindeki metni Python ile yazdırın. Ancak rakamlar değişkenlerden gelmeli. Metin uzun olduğu için iki satıra yazmayı düşünebilirsiniz: \"Hafta başında 1000 dolarlık bitcoin aldığımızda günde ortalama %12 kazançla, bir hafta sonunda 1210.68 dolar kazanırdık\""
   ]
  },
  {
   "cell_type": "code",
   "execution_count": 2,
   "id": "9fb884a6",
   "metadata": {},
   "outputs": [
    {
     "name": "stdout",
     "output_type": "stream",
     "text": [
      "Hafta başında 1000 dolarlık bitcoin aldığımızda günde ortalama %12 kazançla,\n",
      "bir hafta sonunda 1210.68 dolar kazanırdık.\n"
     ]
    }
   ],
   "source": [
    "dolar1=1000\n",
    "dolar2=1210.68\n",
    "yuzde=12\n",
    "print(\"\"\"Hafta başında {} dolarlık bitcoin aldığımızda günde ortalama %{} kazançla,\n",
    "bir hafta sonunda {} dolar kazanırdık.\"\"\".format(dolar1,yuzde,dolar2))"
   ]
  },
  {
   "cell_type": "markdown",
   "id": "a9099b82",
   "metadata": {},
   "source": [
    "Kullanıcıdan sıcaklık değerini Fahrenhiyt cinsinden alıp Celsius nnsinden ekrana yazdıran bir kod yazın. Dönüşüm için aşağıdaki formülü kullanabilirsiniz."
   ]
  },
  {
   "cell_type": "code",
   "execution_count": 3,
   "id": "9da4f0cf",
   "metadata": {},
   "outputs": [
    {
     "name": "stdout",
     "output_type": "stream",
     "text": [
      "Fahrenheit cinsinden sıcaklığı girin:258\n",
      "Sıcaklık (C): 125.55555555555556\n"
     ]
    }
   ],
   "source": [
    "fah = input(\"Fahrenheit cinsinden sıcaklığı girin:\")\n",
    "cel= (5/9)*(int(fah)-32)\n",
    "print(\"Sıcaklık (C):\", cel)"
   ]
  },
  {
   "cell_type": "markdown",
   "id": "f8c2eccb",
   "metadata": {},
   "source": [
    "Kullanıcıdan 3 rakamlı bir sayı alın ve bu üç rakamın toplamını döndürüen bir kod parçası yazın."
   ]
  },
  {
   "cell_type": "code",
   "execution_count": 4,
   "id": "010b0fa0",
   "metadata": {},
   "outputs": [
    {
     "name": "stdout",
     "output_type": "stream",
     "text": [
      "üç rakamlı bir sayı giriniz:458\n",
      "Sayıdaki rakamların toplamı : 17\n"
     ]
    }
   ],
   "source": [
    "sayi= input(\"üç rakamlı bir sayı giriniz:\")\n",
    "if(len(sayi)!=3):\n",
    "  print( \"Lütfen 3 basamaklı girin!\")\n",
    "else:\n",
    "  a=int(sayi[0])\n",
    "  b=int(sayi[1])\n",
    "  c=int(sayi[2])\n",
    "  print(\"Sayıdaki rakamların toplamı :\",a+b+c)\n",
    "  "
   ]
  },
  {
   "cell_type": "markdown",
   "id": "9e6cee3d",
   "metadata": {},
   "source": [
    "Bir dik üçgenin hipotenüs uzunluğunu hesaplayan bir kod parçası yazın. Dik kenarların uzunluğunu kullanıcıdan alın."
   ]
  },
  {
   "cell_type": "code",
   "execution_count": 5,
   "id": "20e520a1",
   "metadata": {},
   "outputs": [
    {
     "name": "stdout",
     "output_type": "stream",
     "text": [
      "Birinci kenar uzunluğu:4\n",
      "İkinci kenar uzunluğu:3\n",
      "Hipotenüsün uzunluğu: 5.0\n"
     ]
    }
   ],
   "source": [
    "kenar1 = int(input(\"Birinci kenar uzunluğu:\"))\n",
    "kenar2 = int(input(\"İkinci kenar uzunluğu:\"))\n",
    "hip = (kenar1**2+kenar2**2)**(1/2)\n",
    "print(\"Hipotenüsün uzunluğu:\", hip) "
   ]
  },
  {
   "cell_type": "code",
   "execution_count": null,
   "id": "ff9affaa",
   "metadata": {},
   "outputs": [],
   "source": []
  }
 ],
 "metadata": {
  "kernelspec": {
   "display_name": "Python 3",
   "language": "python",
   "name": "python3"
  },
  "language_info": {
   "codemirror_mode": {
    "name": "ipython",
    "version": 3
   },
   "file_extension": ".py",
   "mimetype": "text/x-python",
   "name": "python",
   "nbconvert_exporter": "python",
   "pygments_lexer": "ipython3",
   "version": "3.8.8"
  }
 },
 "nbformat": 4,
 "nbformat_minor": 5
}
