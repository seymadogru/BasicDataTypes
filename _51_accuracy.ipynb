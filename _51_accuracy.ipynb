{
  "nbformat": 4,
  "nbformat_minor": 0,
  "metadata": {
    "colab": {
      "provenance": [],
      "machine_shape": "hm",
      "gpuType": "T4",
      "authorship_tag": "ABX9TyN4Jto11vdP/IxpZRtUWoJo",
      "include_colab_link": true
    },
    "kernelspec": {
      "name": "python3",
      "display_name": "Python 3"
    },
    "language_info": {
      "name": "python"
    },
    "accelerator": "GPU"
  },
  "cells": [
    {
      "cell_type": "markdown",
      "metadata": {
        "id": "view-in-github",
        "colab_type": "text"
      },
      "source": [
        "<a href=\"https://colab.research.google.com/github/seymadogru/BasicDataTypes/blob/master/_51_accuracy.ipynb\" target=\"_parent\"><img src=\"https://colab.research.google.com/assets/colab-badge.svg\" alt=\"Open In Colab\"/></a>"
      ]
    },
    {
      "cell_type": "code",
      "execution_count": 2,
      "metadata": {
        "colab": {
          "base_uri": "https://localhost:8080/"
        },
        "id": "WmeTYORwaWRd",
        "outputId": "5a493d86-2e8e-4bb9-f6d0-b714262bb1af"
      },
      "outputs": [
        {
          "output_type": "stream",
          "name": "stdout",
          "text": [
            "Mounted at /content/drive\n"
          ]
        }
      ],
      "source": [
        "from google.colab import drive\n",
        "drive.mount('/content/drive')"
      ]
    },
    {
      "cell_type": "code",
      "source": [
        "from tensorflow.keras.preprocessing.image import ImageDataGenerator\n",
        "from tensorflow.keras.preprocessing.image import img_to_array\n",
        "from tensorflow.keras.preprocessing.image import load_img\n",
        "import numpy as np\n",
        "import random\n",
        "import math\n",
        "import csv\n",
        "import cv2\n",
        "import os\n",
        "from keras.utils import to_categorical\n",
        "from sklearn.preprocessing import LabelEncoder\n",
        "from sklearn.metrics import confusion_matrix\n",
        "from sklearn.metrics import mean_squared_error\n",
        "import tensorflow as tf\n",
        "from tensorflow.keras.models import Sequential\n",
        "from tensorflow.keras.layers import BatchNormalization\n",
        "from tensorflow.keras.layers import Conv2D\n",
        "from tensorflow.keras.layers import MaxPooling2D\n",
        "from tensorflow.keras.layers import MaxPool2D\n",
        "from tensorflow.keras.layers import Activation\n",
        "from tensorflow.keras.layers import Flatten\n",
        "from tensorflow.keras.layers import Dropout\n",
        "from tensorflow.keras.layers import Dense\n",
        "from tensorflow.keras.optimizers import Adam\n",
        "from tensorflow.keras.optimizers import SGD"
      ],
      "metadata": {
        "id": "SoB2n3DxabCS"
      },
      "execution_count": 1,
      "outputs": []
    },
    {
      "cell_type": "code",
      "source": [
        "inputBasePath = \"/content/drive/MyDrive/CDD-CESM_last\"\n",
        "outputBasePath = \"/content/drive/MyDrive/imagearraynew\""
      ],
      "metadata": {
        "id": "L1o0Kr25aq04"
      },
      "execution_count": 3,
      "outputs": []
    },
    {
      "cell_type": "code",
      "source": [
        "image_width = 224\n",
        "image_height = 224"
      ],
      "metadata": {
        "id": "3s4ba3zna09K"
      },
      "execution_count": 4,
      "outputs": []
    },
    {
      "cell_type": "code",
      "source": [
        "classes = ['Benign','Malignant','Normal']"
      ],
      "metadata": {
        "id": "Fa18aT3Ya2pW"
      },
      "execution_count": 5,
      "outputs": []
    },
    {
      "cell_type": "code",
      "source": [
        "os.chdir(inputBasePath)"
      ],
      "metadata": {
        "id": "jPHjfGR-a38r"
      },
      "execution_count": 6,
      "outputs": []
    },
    {
      "cell_type": "code",
      "source": [
        "X = []\n",
        "Y = []"
      ],
      "metadata": {
        "id": "vK0vHsp8a5tG"
      },
      "execution_count": 7,
      "outputs": []
    },
    {
      "cell_type": "code",
      "source": [
        "i = 0\n",
        "for class1 in classes:\n",
        "  os.chdir(class1)\n",
        "  print('=> '+class1)\n",
        "  for files in os.listdir('./'):\n",
        "    img = cv2.imread(files)\n",
        "    img = cv2.resize(img, (image_width,image_height))\n",
        "    X.append(img)\n",
        "    Y.append(class1)\n",
        "    i = i + 1\n",
        "  os.chdir('..')"
      ],
      "metadata": {
        "colab": {
          "base_uri": "https://localhost:8080/"
        },
        "id": "OS6lwYkta7Fp",
        "outputId": "578f57ad-103e-40be-c661-f246fe98eab7"
      },
      "execution_count": 8,
      "outputs": [
        {
          "output_type": "stream",
          "name": "stdout",
          "text": [
            "=> Benign\n",
            "=> Malignant\n",
            "=> Normal\n"
          ]
        }
      ]
    },
    {
      "cell_type": "code",
      "source": [
        "print(\"X : \",len(X))\n",
        "print(\"Y : \",len(Y))"
      ],
      "metadata": {
        "colab": {
          "base_uri": "https://localhost:8080/"
        },
        "id": "0PR0TNOFa8Xo",
        "outputId": "7260811f-6692-459c-f4fd-6a7b86148013"
      },
      "execution_count": 9,
      "outputs": [
        {
          "output_type": "stream",
          "name": "stdout",
          "text": [
            "X :  17006\n",
            "Y :  17006\n"
          ]
        }
      ]
    },
    {
      "cell_type": "code",
      "source": [
        "X = np.array(X).reshape(-1,image_width,image_height,3)\n",
        "Y = np.array(Y)"
      ],
      "metadata": {
        "id": "Dr7CPGuXd1Iu"
      },
      "execution_count": 12,
      "outputs": []
    },
    {
      "cell_type": "code",
      "source": [
        "os.chdir('..')"
      ],
      "metadata": {
        "id": "lEHFLmifeISu"
      },
      "execution_count": 11,
      "outputs": []
    },
    {
      "cell_type": "code",
      "source": [
        "os.chdir(\"imagearraynew\")"
      ],
      "metadata": {
        "id": "P7kPF9TkeKRB"
      },
      "execution_count": 13,
      "outputs": []
    },
    {
      "cell_type": "code",
      "source": [
        "np.save(str(image_width)+'x'+str(image_height)+'_images', X)\n",
        "\n",
        "np.save(str(image_width)+'x'+str(image_height)+'_labels', Y)"
      ],
      "metadata": {
        "id": "hRo_j2btePoY"
      },
      "execution_count": 14,
      "outputs": []
    },
    {
      "cell_type": "code",
      "source": [
        "from sklearn.metrics import classification_report\n",
        "from sklearn.model_selection import train_test_split\n",
        "from tensorflow.keras import utils\n",
        "utils.to_categorical"
      ],
      "metadata": {
        "colab": {
          "base_uri": "https://localhost:8080/",
          "height": 187
        },
        "id": "48AuszXieSF8",
        "outputId": "8b40dfaa-6881-45a4-bc59-ef209eec526a"
      },
      "execution_count": 15,
      "outputs": [
        {
          "output_type": "execute_result",
          "data": {
            "text/plain": [
              "<function keras.src.utils.np_utils.to_categorical(y, num_classes=None, dtype='float32')>"
            ],
            "text/html": [
              "<div style=\"max-width:800px; border: 1px solid var(--colab-border-color);\"><style>\n",
              "      pre.function-repr-contents {\n",
              "        overflow-x: auto;\n",
              "        padding: 8px 12px;\n",
              "        max-height: 500px;\n",
              "      }\n",
              "\n",
              "      pre.function-repr-contents.function-repr-contents-collapsed {\n",
              "        cursor: pointer;\n",
              "        max-height: 100px;\n",
              "      }\n",
              "    </style>\n",
              "    <pre style=\"white-space: initial; background:\n",
              "         var(--colab-secondary-surface-color); padding: 8px 12px;\n",
              "         border-bottom: 1px solid var(--colab-border-color);\"><b>keras.src.utils.np_utils.to_categorical</b><br/>def to_categorical(y, num_classes=None, dtype=&#x27;float32&#x27;)</pre><pre class=\"function-repr-contents function-repr-contents-collapsed\" style=\"\"><a class=\"filepath\" style=\"display:none\" href=\"#\">/usr/local/lib/python3.10/dist-packages/keras/src/utils/np_utils.py</a>Converts a class vector (integers) to binary class matrix.\n",
              "\n",
              "E.g. for use with `categorical_crossentropy`.\n",
              "\n",
              "Args:\n",
              "    y: Array-like with class values to be converted into a matrix\n",
              "        (integers from 0 to `num_classes - 1`).\n",
              "    num_classes: Total number of classes. If `None`, this would be inferred\n",
              "      as `max(y) + 1`.\n",
              "    dtype: The data type expected by the input. Default: `&#x27;float32&#x27;`.\n",
              "\n",
              "Returns:\n",
              "    A binary matrix representation of the input as a NumPy array. The class\n",
              "    axis is placed last.\n",
              "\n",
              "Example:\n",
              "\n",
              "&gt;&gt;&gt; a = tf.keras.utils.to_categorical([0, 1, 2, 3], num_classes=4)\n",
              "&gt;&gt;&gt; print(a)\n",
              "[[1. 0. 0. 0.]\n",
              " [0. 1. 0. 0.]\n",
              " [0. 0. 1. 0.]\n",
              " [0. 0. 0. 1.]]\n",
              "\n",
              "&gt;&gt;&gt; b = tf.constant([.9, .04, .03, .03,\n",
              "...                  .3, .45, .15, .13,\n",
              "...                  .04, .01, .94, .05,\n",
              "...                  .12, .21, .5, .17],\n",
              "...                 shape=[4, 4])\n",
              "&gt;&gt;&gt; loss = tf.keras.backend.categorical_crossentropy(a, b)\n",
              "&gt;&gt;&gt; print(np.around(loss, 5))\n",
              "[0.10536 0.82807 0.1011  1.77196]\n",
              "\n",
              "&gt;&gt;&gt; loss = tf.keras.backend.categorical_crossentropy(a, a)\n",
              "&gt;&gt;&gt; print(np.around(loss, 5))\n",
              "[0. 0. 0. 0.]</pre>\n",
              "      <script>\n",
              "      if (google.colab.kernel.accessAllowed && google.colab.files && google.colab.files.view) {\n",
              "        for (const element of document.querySelectorAll('.filepath')) {\n",
              "          element.style.display = 'block'\n",
              "          element.onclick = (event) => {\n",
              "            event.preventDefault();\n",
              "            event.stopPropagation();\n",
              "            google.colab.files.view(element.textContent, 23);\n",
              "          };\n",
              "        }\n",
              "      }\n",
              "      for (const element of document.querySelectorAll('.function-repr-contents')) {\n",
              "        element.onclick = (event) => {\n",
              "          event.preventDefault();\n",
              "          event.stopPropagation();\n",
              "          element.classList.toggle('function-repr-contents-collapsed');\n",
              "        };\n",
              "      }\n",
              "      </script>\n",
              "      </div>"
            ]
          },
          "metadata": {},
          "execution_count": 15
        }
      ]
    },
    {
      "cell_type": "code",
      "source": [
        "data = np.load('/content/drive/MyDrive/imagearraynew/224x224_images.npy')\n",
        "labels = np.load('/content/drive/MyDrive/imagearraynew/224x224_labels.npy')\n",
        "data.shape"
      ],
      "metadata": {
        "colab": {
          "base_uri": "https://localhost:8080/"
        },
        "id": "qCgFUlKReZ4a",
        "outputId": "db0296e9-6c87-464c-f9e1-9256f214a648"
      },
      "execution_count": 16,
      "outputs": [
        {
          "output_type": "execute_result",
          "data": {
            "text/plain": [
              "(17006, 224, 224, 3)"
            ]
          },
          "metadata": {},
          "execution_count": 16
        }
      ]
    },
    {
      "cell_type": "code",
      "source": [
        "labelEn = LabelEncoder()\n",
        "labels = labelEn.fit_transform(labels)\n",
        "labels = to_categorical(labels)"
      ],
      "metadata": {
        "id": "i48BbwB-ebcK"
      },
      "execution_count": 17,
      "outputs": []
    },
    {
      "cell_type": "code",
      "source": [
        "data =  data.reshape(-1,image_width , image_height , 3)"
      ],
      "metadata": {
        "id": "Q_BnmL3jeiMg"
      },
      "execution_count": 18,
      "outputs": []
    },
    {
      "cell_type": "code",
      "source": [
        "x_train, x_test, y_train, y_test = train_test_split(data, labels, test_size = .05, shuffle = True)"
      ],
      "metadata": {
        "id": "p7u9RBZjejdd"
      },
      "execution_count": 19,
      "outputs": []
    },
    {
      "cell_type": "code",
      "source": [
        "x_train, x_validate, y_train, y_validate = train_test_split(x_train, y_train, test_size = .05, shuffle = True,random_state=42)"
      ],
      "metadata": {
        "id": "_3PIH83oelMi"
      },
      "execution_count": 20,
      "outputs": []
    },
    {
      "cell_type": "code",
      "source": [
        "import keras"
      ],
      "metadata": {
        "id": "NUxGOF7Ken7g"
      },
      "execution_count": 21,
      "outputs": []
    },
    {
      "cell_type": "code",
      "source": [
        "from tensorflow.keras.applications.vgg16 import VGG16  # The Transfer Learning model to be used in this project...\n",
        "from tensorflow.keras.applications.vgg16 import preprocess_input, decode_predictions\n",
        "vgg = VGG16()"
      ],
      "metadata": {
        "colab": {
          "base_uri": "https://localhost:8080/"
        },
        "id": "170-V6d9ep4m",
        "outputId": "7f9185b7-ecad-41ef-a87b-a7041c1e3e4a"
      },
      "execution_count": 23,
      "outputs": [
        {
          "output_type": "stream",
          "name": "stdout",
          "text": [
            "Downloading data from https://storage.googleapis.com/tensorflow/keras-applications/vgg16/vgg16_weights_tf_dim_ordering_tf_kernels.h5\n",
            "553467096/553467096 [==============================] - 14s 0us/step\n"
          ]
        }
      ]
    },
    {
      "cell_type": "code",
      "source": [
        "vgg_layers = vgg.layers\n",
        "print(vgg_layers)"
      ],
      "metadata": {
        "colab": {
          "base_uri": "https://localhost:8080/"
        },
        "id": "AXtNMJwxe1wF",
        "outputId": "34ed676c-7249-4fe7-b963-4f1b18eb630b"
      },
      "execution_count": 24,
      "outputs": [
        {
          "output_type": "stream",
          "name": "stdout",
          "text": [
            "[<keras.src.engine.input_layer.InputLayer object at 0x7f8db8661240>, <keras.src.layers.convolutional.conv2d.Conv2D object at 0x7f8db79d5d50>, <keras.src.layers.convolutional.conv2d.Conv2D object at 0x7f8db79d64d0>, <keras.src.layers.pooling.max_pooling2d.MaxPooling2D object at 0x7f8db79d60b0>, <keras.src.layers.convolutional.conv2d.Conv2D object at 0x7f8db79d75e0>, <keras.src.layers.convolutional.conv2d.Conv2D object at 0x7f8db79d7970>, <keras.src.layers.pooling.max_pooling2d.MaxPooling2D object at 0x7f8db77b1720>, <keras.src.layers.convolutional.conv2d.Conv2D object at 0x7f8db77b1ff0>, <keras.src.layers.convolutional.conv2d.Conv2D object at 0x7f8db77b0eb0>, <keras.src.layers.convolutional.conv2d.Conv2D object at 0x7f8db77b2aa0>, <keras.src.layers.pooling.max_pooling2d.MaxPooling2D object at 0x7f8db77b2ce0>, <keras.src.layers.convolutional.conv2d.Conv2D object at 0x7f8db77b3550>, <keras.src.layers.convolutional.conv2d.Conv2D object at 0x7f8db77b0e50>, <keras.src.layers.convolutional.conv2d.Conv2D object at 0x7f8db7769570>, <keras.src.layers.pooling.max_pooling2d.MaxPooling2D object at 0x7f8db77680a0>, <keras.src.layers.convolutional.conv2d.Conv2D object at 0x7f8db776af80>, <keras.src.layers.convolutional.conv2d.Conv2D object at 0x7f8db776b6a0>, <keras.src.layers.convolutional.conv2d.Conv2D object at 0x7f8db776abf0>, <keras.src.layers.pooling.max_pooling2d.MaxPooling2D object at 0x7f8db77d4430>, <keras.src.layers.reshaping.flatten.Flatten object at 0x7f8db776a9e0>, <keras.src.layers.core.dense.Dense object at 0x7f8db77d5e10>, <keras.src.layers.core.dense.Dense object at 0x7f8db77d6500>, <keras.src.layers.core.dense.Dense object at 0x7f8db77d6bf0>]\n"
          ]
        }
      ]
    },
    {
      "cell_type": "code",
      "source": [
        "vggmodel_layersize_tobe_used = len(vgg_layers) - 1\n",
        "\n",
        "model = Sequential()\n",
        "for i in range(vggmodel_layersize_tobe_used):\n",
        "    model.add(vgg_layers[i])"
      ],
      "metadata": {
        "id": "P8pXfktufBQU"
      },
      "execution_count": 25,
      "outputs": []
    },
    {
      "cell_type": "code",
      "source": [
        "numberOfCancerTypes = 3"
      ],
      "metadata": {
        "id": "41ojJSQZfERu"
      },
      "execution_count": 26,
      "outputs": []
    },
    {
      "cell_type": "code",
      "source": [
        "for layers in model.layers:\n",
        "    layers.trainable = False\n",
        "\n",
        "# Since I have omitted the original output layer of VGG16, I have to add my new output layer to my new model!\n",
        "model.add(Dense(numberOfCancerTypes, activation=\"softmax\"))\n",
        "\n",
        "print(model.summary())"
      ],
      "metadata": {
        "colab": {
          "base_uri": "https://localhost:8080/"
        },
        "id": "X7NzOLUtfKpw",
        "outputId": "946aa52f-9fdf-463e-bff1-529f65863748"
      },
      "execution_count": 27,
      "outputs": [
        {
          "output_type": "stream",
          "name": "stdout",
          "text": [
            "Model: \"sequential\"\n",
            "_________________________________________________________________\n",
            " Layer (type)                Output Shape              Param #   \n",
            "=================================================================\n",
            " block1_conv1 (Conv2D)       (None, 224, 224, 64)      1792      \n",
            "                                                                 \n",
            " block1_conv2 (Conv2D)       (None, 224, 224, 64)      36928     \n",
            "                                                                 \n",
            " block1_pool (MaxPooling2D)  (None, 112, 112, 64)      0         \n",
            "                                                                 \n",
            " block2_conv1 (Conv2D)       (None, 112, 112, 128)     73856     \n",
            "                                                                 \n",
            " block2_conv2 (Conv2D)       (None, 112, 112, 128)     147584    \n",
            "                                                                 \n",
            " block2_pool (MaxPooling2D)  (None, 56, 56, 128)       0         \n",
            "                                                                 \n",
            " block3_conv1 (Conv2D)       (None, 56, 56, 256)       295168    \n",
            "                                                                 \n",
            " block3_conv2 (Conv2D)       (None, 56, 56, 256)       590080    \n",
            "                                                                 \n",
            " block3_conv3 (Conv2D)       (None, 56, 56, 256)       590080    \n",
            "                                                                 \n",
            " block3_pool (MaxPooling2D)  (None, 28, 28, 256)       0         \n",
            "                                                                 \n",
            " block4_conv1 (Conv2D)       (None, 28, 28, 512)       1180160   \n",
            "                                                                 \n",
            " block4_conv2 (Conv2D)       (None, 28, 28, 512)       2359808   \n",
            "                                                                 \n",
            " block4_conv3 (Conv2D)       (None, 28, 28, 512)       2359808   \n",
            "                                                                 \n",
            " block4_pool (MaxPooling2D)  (None, 14, 14, 512)       0         \n",
            "                                                                 \n",
            " block5_conv1 (Conv2D)       (None, 14, 14, 512)       2359808   \n",
            "                                                                 \n",
            " block5_conv2 (Conv2D)       (None, 14, 14, 512)       2359808   \n",
            "                                                                 \n",
            " block5_conv3 (Conv2D)       (None, 14, 14, 512)       2359808   \n",
            "                                                                 \n",
            " block5_pool (MaxPooling2D)  (None, 7, 7, 512)         0         \n",
            "                                                                 \n",
            " flatten (Flatten)           (None, 25088)             0         \n",
            "                                                                 \n",
            " fc1 (Dense)                 (None, 4096)              102764544 \n",
            "                                                                 \n",
            " fc2 (Dense)                 (None, 4096)              16781312  \n",
            "                                                                 \n",
            " dense (Dense)               (None, 3)                 12291     \n",
            "                                                                 \n",
            "=================================================================\n",
            "Total params: 134272835 (512.21 MB)\n",
            "Trainable params: 12291 (48.01 KB)\n",
            "Non-trainable params: 134260544 (512.16 MB)\n",
            "_________________________________________________________________\n",
            "None\n"
          ]
        }
      ]
    },
    {
      "cell_type": "code",
      "source": [
        "# After model design is complete, it's time to compile...\n",
        "model.compile(loss = \"categorical_crossentropy\",\n",
        "              optimizer = \"rmsprop\",\n",
        "              metrics = [\"accuracy\"])"
      ],
      "metadata": {
        "id": "-eAt3e0ZfN6v"
      },
      "execution_count": 28,
      "outputs": []
    },
    {
      "cell_type": "code",
      "source": [
        "optimizer = tf.keras.optimizers.legacy.Adam(learning_rate=0.0001, beta_1=0.9, beta_2=0.999, epsilon=None, decay=0.0, amsgrad=False)"
      ],
      "metadata": {
        "id": "fek7IKILf7z7"
      },
      "execution_count": 31,
      "outputs": []
    },
    {
      "cell_type": "code",
      "source": [
        "from tensorflow.keras.callbacks import ReduceLROnPlateau\n",
        "learning_rate_reduction = ReduceLROnPlateau(monitor='val_accuracy', patience=3, verbose=1,  factor=0.5, min_lr=0.00001)"
      ],
      "metadata": {
        "id": "_717agSvf-WJ"
      },
      "execution_count": 32,
      "outputs": []
    },
    {
      "cell_type": "code",
      "source": [
        "model.compile(optimizer = optimizer , loss = \"categorical_crossentropy\", metrics=[\"accuracy\"])"
      ],
      "metadata": {
        "id": "pINrr69-gAeT"
      },
      "execution_count": 33,
      "outputs": []
    },
    {
      "cell_type": "code",
      "source": [
        "epc = 30\n",
        "bs = 16\n",
        "model.fit(x_train,y_train, batch_size=bs,\n",
        "                              epochs = epc, validation_data = (x_validate,y_validate),\n",
        "                              verbose = 1, callbacks=[learning_rate_reduction])"
      ],
      "metadata": {
        "colab": {
          "base_uri": "https://localhost:8080/"
        },
        "id": "cXjSD9OqfRHd",
        "outputId": "e46a9cc6-ee1e-487f-8e72-401d164ab508"
      },
      "execution_count": 34,
      "outputs": [
        {
          "output_type": "stream",
          "name": "stdout",
          "text": [
            "Epoch 1/30\n",
            "960/960 [==============================] - 74s 71ms/step - loss: 1.0953 - accuracy: 0.4423 - val_loss: 1.0455 - val_accuracy: 0.4740 - lr: 1.0000e-04\n",
            "Epoch 2/30\n",
            "960/960 [==============================] - 65s 68ms/step - loss: 0.9920 - accuracy: 0.5004 - val_loss: 1.0384 - val_accuracy: 0.4889 - lr: 1.0000e-04\n",
            "Epoch 3/30\n",
            "960/960 [==============================] - 66s 68ms/step - loss: 0.9512 - accuracy: 0.5329 - val_loss: 1.0633 - val_accuracy: 0.4926 - lr: 1.0000e-04\n",
            "Epoch 4/30\n",
            "960/960 [==============================] - 66s 68ms/step - loss: 0.9298 - accuracy: 0.5464 - val_loss: 0.9930 - val_accuracy: 0.5309 - lr: 1.0000e-04\n",
            "Epoch 5/30\n",
            "960/960 [==============================] - 65s 68ms/step - loss: 0.9067 - accuracy: 0.5604 - val_loss: 0.9824 - val_accuracy: 0.4988 - lr: 1.0000e-04\n",
            "Epoch 6/30\n",
            "960/960 [==============================] - 65s 68ms/step - loss: 0.8886 - accuracy: 0.5753 - val_loss: 0.9863 - val_accuracy: 0.5309 - lr: 1.0000e-04\n",
            "Epoch 7/30\n",
            "959/960 [============================>.] - ETA: 0s - loss: 0.8738 - accuracy: 0.5889\n",
            "Epoch 7: ReduceLROnPlateau reducing learning rate to 4.999999873689376e-05.\n",
            "960/960 [==============================] - 66s 68ms/step - loss: 0.8738 - accuracy: 0.5888 - val_loss: 1.0030 - val_accuracy: 0.5260 - lr: 1.0000e-04\n",
            "Epoch 8/30\n",
            "960/960 [==============================] - 66s 68ms/step - loss: 0.8482 - accuracy: 0.6055 - val_loss: 0.9731 - val_accuracy: 0.5421 - lr: 5.0000e-05\n",
            "Epoch 9/30\n",
            "960/960 [==============================] - 65s 68ms/step - loss: 0.8411 - accuracy: 0.6094 - val_loss: 0.9746 - val_accuracy: 0.5396 - lr: 5.0000e-05\n",
            "Epoch 10/30\n",
            "960/960 [==============================] - 65s 68ms/step - loss: 0.8357 - accuracy: 0.6164 - val_loss: 0.9714 - val_accuracy: 0.5384 - lr: 5.0000e-05\n",
            "Epoch 11/30\n",
            "959/960 [============================>.] - ETA: 0s - loss: 0.8302 - accuracy: 0.6204\n",
            "Epoch 11: ReduceLROnPlateau reducing learning rate to 2.499999936844688e-05.\n",
            "960/960 [==============================] - 65s 68ms/step - loss: 0.8301 - accuracy: 0.6205 - val_loss: 0.9636 - val_accuracy: 0.5347 - lr: 5.0000e-05\n",
            "Epoch 12/30\n",
            "960/960 [==============================] - 65s 68ms/step - loss: 0.8178 - accuracy: 0.6261 - val_loss: 0.9618 - val_accuracy: 0.5495 - lr: 2.5000e-05\n",
            "Epoch 13/30\n",
            "960/960 [==============================] - 65s 68ms/step - loss: 0.8152 - accuracy: 0.6289 - val_loss: 0.9558 - val_accuracy: 0.5545 - lr: 2.5000e-05\n",
            "Epoch 14/30\n",
            "960/960 [==============================] - 66s 68ms/step - loss: 0.8135 - accuracy: 0.6304 - val_loss: 0.9522 - val_accuracy: 0.5557 - lr: 2.5000e-05\n",
            "Epoch 15/30\n",
            "960/960 [==============================] - 66s 68ms/step - loss: 0.8106 - accuracy: 0.6337 - val_loss: 0.9533 - val_accuracy: 0.5644 - lr: 2.5000e-05\n",
            "Epoch 16/30\n",
            "960/960 [==============================] - 65s 68ms/step - loss: 0.8075 - accuracy: 0.6368 - val_loss: 0.9542 - val_accuracy: 0.5396 - lr: 2.5000e-05\n",
            "Epoch 17/30\n",
            "960/960 [==============================] - 65s 68ms/step - loss: 0.8056 - accuracy: 0.6402 - val_loss: 0.9572 - val_accuracy: 0.5532 - lr: 2.5000e-05\n",
            "Epoch 18/30\n",
            "959/960 [============================>.] - ETA: 0s - loss: 0.8031 - accuracy: 0.6404\n",
            "Epoch 18: ReduceLROnPlateau reducing learning rate to 1.249999968422344e-05.\n",
            "960/960 [==============================] - 65s 68ms/step - loss: 0.8031 - accuracy: 0.6405 - val_loss: 0.9584 - val_accuracy: 0.5507 - lr: 2.5000e-05\n",
            "Epoch 19/30\n",
            "960/960 [==============================] - 65s 68ms/step - loss: 0.7979 - accuracy: 0.6448 - val_loss: 0.9516 - val_accuracy: 0.5569 - lr: 1.2500e-05\n",
            "Epoch 20/30\n",
            "960/960 [==============================] - 66s 68ms/step - loss: 0.7959 - accuracy: 0.6445 - val_loss: 0.9506 - val_accuracy: 0.5446 - lr: 1.2500e-05\n",
            "Epoch 21/30\n",
            "959/960 [============================>.] - ETA: 0s - loss: 0.7954 - accuracy: 0.6465\n",
            "Epoch 21: ReduceLROnPlateau reducing learning rate to 1e-05.\n",
            "960/960 [==============================] - 66s 68ms/step - loss: 0.7955 - accuracy: 0.6464 - val_loss: 0.9543 - val_accuracy: 0.5421 - lr: 1.2500e-05\n",
            "Epoch 22/30\n",
            "960/960 [==============================] - 66s 68ms/step - loss: 0.7935 - accuracy: 0.6462 - val_loss: 0.9543 - val_accuracy: 0.5458 - lr: 1.0000e-05\n",
            "Epoch 23/30\n",
            "960/960 [==============================] - 66s 68ms/step - loss: 0.7929 - accuracy: 0.6460 - val_loss: 0.9485 - val_accuracy: 0.5483 - lr: 1.0000e-05\n",
            "Epoch 24/30\n",
            "960/960 [==============================] - 66s 68ms/step - loss: 0.7914 - accuracy: 0.6493 - val_loss: 0.9523 - val_accuracy: 0.5532 - lr: 1.0000e-05\n",
            "Epoch 25/30\n",
            "960/960 [==============================] - 66s 68ms/step - loss: 0.7906 - accuracy: 0.6486 - val_loss: 0.9471 - val_accuracy: 0.5458 - lr: 1.0000e-05\n",
            "Epoch 26/30\n",
            "960/960 [==============================] - 66s 68ms/step - loss: 0.7899 - accuracy: 0.6491 - val_loss: 0.9537 - val_accuracy: 0.5532 - lr: 1.0000e-05\n",
            "Epoch 27/30\n",
            "960/960 [==============================] - 66s 68ms/step - loss: 0.7888 - accuracy: 0.6504 - val_loss: 0.9488 - val_accuracy: 0.5545 - lr: 1.0000e-05\n",
            "Epoch 28/30\n",
            "960/960 [==============================] - 66s 68ms/step - loss: 0.7877 - accuracy: 0.6499 - val_loss: 0.9505 - val_accuracy: 0.5594 - lr: 1.0000e-05\n",
            "Epoch 29/30\n",
            "960/960 [==============================] - 66s 68ms/step - loss: 0.7873 - accuracy: 0.6523 - val_loss: 0.9467 - val_accuracy: 0.5495 - lr: 1.0000e-05\n",
            "Epoch 30/30\n",
            "960/960 [==============================] - 66s 68ms/step - loss: 0.7863 - accuracy: 0.6527 - val_loss: 0.9489 - val_accuracy: 0.5594 - lr: 1.0000e-05\n"
          ]
        },
        {
          "output_type": "execute_result",
          "data": {
            "text/plain": [
              "<keras.src.callbacks.History at 0x7f8d5b9a1420>"
            ]
          },
          "metadata": {},
          "execution_count": 34
        }
      ]
    },
    {
      "cell_type": "code",
      "source": [
        "\n",
        "import matplotlib.pyplot as plt\n",
        "import itertools\n",
        "def plot_confusion_matrix(cm, classes,\n",
        "                          normalize=False,\n",
        "                          title='Confusion matrix',\n",
        "                          cmap=plt.cm.Blues):\n",
        "    \"\"\"\n",
        "    This function prints and plots the confusion matrix.\n",
        "    Normalization can be applied by setting `normalize=True`.\n",
        "    \"\"\"\n",
        "    plt.imshow(cm, interpolation='nearest', cmap=cmap)\n",
        "    plt.title(title)\n",
        "    plt.colorbar()\n",
        "    tick_marks = np.arange(len(classes))\n",
        "    plt.xticks(tick_marks, classes, rotation=45)\n",
        "    plt.yticks(tick_marks, classes)\n",
        "\n",
        "    if normalize:\n",
        "        cm = cm.astype('float') / cm.sum(axis=1)[:, np.newaxis]\n",
        "\n",
        "    thresh = cm.max() / 2.\n",
        "    for i, j in itertools.product(range(cm.shape[0]), range(cm.shape[1])):\n",
        "        plt.text(j, i, cm[i, j],\n",
        "                 horizontalalignment=\"center\",\n",
        "                 color=\"white\" if cm[i, j] > thresh else \"black\")\n",
        "\n",
        "    plt.tight_layout()\n",
        "    plt.ylabel('True label')\n",
        "    plt.xlabel('Predicted label')\n",
        "Y_pred = model.predict(x_test)\n",
        "Y_pred_classes = np.argmax(Y_pred,axis = 1)\n",
        "# Convert validation observations to one hot vectors\n",
        "Y_true = np.argmax(y_test,axis = 1)  #test süreci için Y_true = np.argmax(y_test,axis = 1)\n",
        "# compute the confusion matrix\n",
        "confusion_mtx = confusion_matrix(Y_true, Y_pred_classes)\n",
        "# plot the confusion matrix\n",
        "plot_confusion_matrix(confusion_mtx, classes = range(3))"
      ],
      "metadata": {
        "colab": {
          "base_uri": "https://localhost:8080/",
          "height": 523
        },
        "id": "KHZ-Bn5ufkt4",
        "outputId": "5cdceb81-09c1-428e-dff0-f71e7948b5c0"
      },
      "execution_count": 36,
      "outputs": [
        {
          "output_type": "stream",
          "name": "stdout",
          "text": [
            "27/27 [==============================] - 14s 298ms/step\n"
          ]
        },
        {
          "output_type": "display_data",
          "data": {
            "text/plain": [
              "<Figure size 640x480 with 2 Axes>"
            ],
            "image/png": "[encoded data removed]"
          },
          "metadata": {}
        }
      ]
    },
    {
      "cell_type": "code",
      "source": [
        "from sklearn.metrics import classification_report\n",
        "report = classification_report(Y_true, Y_pred_classes)\n",
        "print(report)"
      ],
      "metadata": {
        "colab": {
          "base_uri": "https://localhost:8080/"
        },
        "id": "iAyDC6HTl4Yi",
        "outputId": "a4c09e61-ea73-4974-cbf2-9c09551aa5dc"
      },
      "execution_count": 37,
      "outputs": [
        {
          "output_type": "stream",
          "name": "stdout",
          "text": [
            "              precision    recall  f1-score   support\n",
            "\n",
            "           0       0.47      0.45      0.46       292\n",
            "           1       0.56      0.54      0.55       276\n",
            "           2       0.52      0.55      0.53       283\n",
            "\n",
            "    accuracy                           0.51       851\n",
            "   macro avg       0.51      0.51      0.51       851\n",
            "weighted avg       0.51      0.51      0.51       851\n",
            "\n"
          ]
        }
      ]
    },
    {
      "cell_type": "code",
      "source": [],
      "metadata": {
        "id": "d70zYamhn4KW"
      },
      "execution_count": null,
      "outputs": []
    }
  ]
}