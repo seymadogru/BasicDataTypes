{
  "nbformat": 4,
  "nbformat_minor": 0,
  "metadata": {
    "colab": {
      "provenance": [],
      "gpuType": "T4",
      "authorship_tag": "ABX9TyPELGhWxq9eDvcwRLYL8bCv",
      "include_colab_link": true
    },
    "kernelspec": {
      "name": "python3",
      "display_name": "Python 3"
    },
    "language_info": {
      "name": "python"
    },
    "accelerator": "GPU"
  },
  "cells": [
    {
      "cell_type": "markdown",
      "metadata": {
        "id": "view-in-github",
        "colab_type": "text"
      },
      "source": [
        "<a href=\"https://colab.research.google.com/github/seymadogru/BasicDataTypes/blob/master/Art%C4%B1r%C4%B1lm%C4%B1sVeri.ipynb\" target=\"_parent\"><img src=\"https://colab.research.google.com/assets/colab-badge.svg\" alt=\"Open In Colab\"/></a>"
      ]
    },
    {
      "cell_type": "code",
      "execution_count": 1,
      "metadata": {
        "colab": {
          "base_uri": "https://localhost:8080/"
        },
        "id": "3BDfSnc0_hVu",
        "outputId": "5555c205-7800-46dd-b63b-cfea1c5f433c"
      },
      "outputs": [
        {
          "output_type": "stream",
          "name": "stdout",
          "text": [
            "Mounted at /content/drive\n"
          ]
        }
      ],
      "source": [
        "from google.colab import drive\n",
        "drive.mount('/content/drive')"
      ]
    },
    {
      "cell_type": "code",
      "source": [
        "pip install --upgrade tensorflow"
      ],
      "metadata": {
        "colab": {
          "base_uri": "https://localhost:8080/"
        },
        "id": "UUVN_Qk3_6XT",
        "outputId": "1626202b-234f-4f09-e726-385b9bb408c6"
      },
      "execution_count": 2,
      "outputs": [
        {
          "output_type": "stream",
          "name": "stdout",
          "text": [
            "Requirement already satisfied: tensorflow in /usr/local/lib/python3.10/dist-packages (2.15.0)\n",
            "Collecting tensorflow\n",
            "  Downloading tensorflow-2.15.0.post1-cp310-cp310-manylinux_2_17_x86_64.manylinux2014_x86_64.whl (475.2 MB)\n",
            "\u001b[2K     \u001b[90m━━━━━━━━━━━━━━━━━━━━━━━━━━━━━━━━━━━━━━━━\u001b[0m \u001b[32m475.2/475.2 MB\u001b[0m \u001b[31m2.9 MB/s\u001b[0m eta \u001b[36m0:00:00\u001b[0m\n",
            "\u001b[?25hRequirement already satisfied: absl-py>=1.0.0 in /usr/local/lib/python3.10/dist-packages (from tensorflow) (1.4.0)\n",
            "Requirement already satisfied: astunparse>=1.6.0 in /usr/local/lib/python3.10/dist-packages (from tensorflow) (1.6.3)\n",
            "Requirement already satisfied: flatbuffers>=23.5.26 in /usr/local/lib/python3.10/dist-packages (from tensorflow) (23.5.26)\n",
            "Requirement already satisfied: gast!=0.5.0,!=0.5.1,!=0.5.2,>=0.2.1 in /usr/local/lib/python3.10/dist-packages (from tensorflow) (0.5.4)\n",
            "Requirement already satisfied: google-pasta>=0.1.1 in /usr/local/lib/python3.10/dist-packages (from tensorflow) (0.2.0)\n",
            "Requirement already satisfied: h5py>=2.9.0 in /usr/local/lib/python3.10/dist-packages (from tensorflow) (3.9.0)\n",
            "Requirement already satisfied: libclang>=13.0.0 in /usr/local/lib/python3.10/dist-packages (from tensorflow) (16.0.6)\n",
            "Requirement already satisfied: ml-dtypes~=0.2.0 in /usr/local/lib/python3.10/dist-packages (from tensorflow) (0.2.0)\n",
            "Requirement already satisfied: numpy<2.0.0,>=1.23.5 in /usr/local/lib/python3.10/dist-packages (from tensorflow) (1.25.2)\n",
            "Requirement already satisfied: opt-einsum>=2.3.2 in /usr/local/lib/python3.10/dist-packages (from tensorflow) (3.3.0)\n",
            "Requirement already satisfied: packaging in /usr/local/lib/python3.10/dist-packages (from tensorflow) (23.2)\n",
            "Requirement already satisfied: protobuf!=4.21.0,!=4.21.1,!=4.21.2,!=4.21.3,!=4.21.4,!=4.21.5,<5.0.0dev,>=3.20.3 in /usr/local/lib/python3.10/dist-packages (from tensorflow) (3.20.3)\n",
            "Requirement already satisfied: setuptools in /usr/local/lib/python3.10/dist-packages (from tensorflow) (67.7.2)\n",
            "Requirement already satisfied: six>=1.12.0 in /usr/local/lib/python3.10/dist-packages (from tensorflow) (1.16.0)\n",
            "Requirement already satisfied: termcolor>=1.1.0 in /usr/local/lib/python3.10/dist-packages (from tensorflow) (2.4.0)\n",
            "Requirement already satisfied: typing-extensions>=3.6.6 in /usr/local/lib/python3.10/dist-packages (from tensorflow) (4.10.0)\n",
            "Requirement already satisfied: wrapt<1.15,>=1.11.0 in /usr/local/lib/python3.10/dist-packages (from tensorflow) (1.14.1)\n",
            "Requirement already satisfied: tensorflow-io-gcs-filesystem>=0.23.1 in /usr/local/lib/python3.10/dist-packages (from tensorflow) (0.36.0)\n",
            "Requirement already satisfied: grpcio<2.0,>=1.24.3 in /usr/local/lib/python3.10/dist-packages (from tensorflow) (1.62.0)\n",
            "Requirement already satisfied: tensorboard<2.16,>=2.15 in /usr/local/lib/python3.10/dist-packages (from tensorflow) (2.15.2)\n",
            "Requirement already satisfied: tensorflow-estimator<2.16,>=2.15.0 in /usr/local/lib/python3.10/dist-packages (from tensorflow) (2.15.0)\n",
            "Requirement already satisfied: keras<2.16,>=2.15.0 in /usr/local/lib/python3.10/dist-packages (from tensorflow) (2.15.0)\n",
            "Requirement already satisfied: wheel<1.0,>=0.23.0 in /usr/local/lib/python3.10/dist-packages (from astunparse>=1.6.0->tensorflow) (0.42.0)\n",
            "Requirement already satisfied: google-auth<3,>=1.6.3 in /usr/local/lib/python3.10/dist-packages (from tensorboard<2.16,>=2.15->tensorflow) (2.27.0)\n",
            "Requirement already satisfied: google-auth-oauthlib<2,>=0.5 in /usr/local/lib/python3.10/dist-packages (from tensorboard<2.16,>=2.15->tensorflow) (1.2.0)\n",
            "Requirement already satisfied: markdown>=2.6.8 in /usr/local/lib/python3.10/dist-packages (from tensorboard<2.16,>=2.15->tensorflow) (3.5.2)\n",
            "Requirement already satisfied: requests<3,>=2.21.0 in /usr/local/lib/python3.10/dist-packages (from tensorboard<2.16,>=2.15->tensorflow) (2.31.0)\n",
            "Requirement already satisfied: tensorboard-data-server<0.8.0,>=0.7.0 in /usr/local/lib/python3.10/dist-packages (from tensorboard<2.16,>=2.15->tensorflow) (0.7.2)\n",
            "Requirement already satisfied: werkzeug>=1.0.1 in /usr/local/lib/python3.10/dist-packages (from tensorboard<2.16,>=2.15->tensorflow) (3.0.1)\n",
            "Requirement already satisfied: cachetools<6.0,>=2.0.0 in /usr/local/lib/python3.10/dist-packages (from google-auth<3,>=1.6.3->tensorboard<2.16,>=2.15->tensorflow) (5.3.3)\n",
            "Requirement already satisfied: pyasn1-modules>=0.2.1 in /usr/local/lib/python3.10/dist-packages (from google-auth<3,>=1.6.3->tensorboard<2.16,>=2.15->tensorflow) (0.3.0)\n",
            "Requirement already satisfied: rsa<5,>=3.1.4 in /usr/local/lib/python3.10/dist-packages (from google-auth<3,>=1.6.3->tensorboard<2.16,>=2.15->tensorflow) (4.9)\n",
            "Requirement already satisfied: requests-oauthlib>=0.7.0 in /usr/local/lib/python3.10/dist-packages (from google-auth-oauthlib<2,>=0.5->tensorboard<2.16,>=2.15->tensorflow) (1.3.1)\n",
            "Requirement already satisfied: charset-normalizer<4,>=2 in /usr/local/lib/python3.10/dist-packages (from requests<3,>=2.21.0->tensorboard<2.16,>=2.15->tensorflow) (3.3.2)\n",
            "Requirement already satisfied: idna<4,>=2.5 in /usr/local/lib/python3.10/dist-packages (from requests<3,>=2.21.0->tensorboard<2.16,>=2.15->tensorflow) (3.6)\n",
            "Requirement already satisfied: urllib3<3,>=1.21.1 in /usr/local/lib/python3.10/dist-packages (from requests<3,>=2.21.0->tensorboard<2.16,>=2.15->tensorflow) (2.0.7)\n",
            "Requirement already satisfied: certifi>=2017.4.17 in /usr/local/lib/python3.10/dist-packages (from requests<3,>=2.21.0->tensorboard<2.16,>=2.15->tensorflow) (2024.2.2)\n",
            "Requirement already satisfied: MarkupSafe>=2.1.1 in /usr/local/lib/python3.10/dist-packages (from werkzeug>=1.0.1->tensorboard<2.16,>=2.15->tensorflow) (2.1.5)\n",
            "Requirement already satisfied: pyasn1<0.6.0,>=0.4.6 in /usr/local/lib/python3.10/dist-packages (from pyasn1-modules>=0.2.1->google-auth<3,>=1.6.3->tensorboard<2.16,>=2.15->tensorflow) (0.5.1)\n",
            "Requirement already satisfied: oauthlib>=3.0.0 in /usr/local/lib/python3.10/dist-packages (from requests-oauthlib>=0.7.0->google-auth-oauthlib<2,>=0.5->tensorboard<2.16,>=2.15->tensorflow) (3.2.2)\n",
            "Installing collected packages: tensorflow\n",
            "  Attempting uninstall: tensorflow\n",
            "    Found existing installation: tensorflow 2.15.0\n",
            "    Uninstalling tensorflow-2.15.0:\n",
            "      Successfully uninstalled tensorflow-2.15.0\n",
            "Successfully installed tensorflow-2.15.0.post1\n"
          ]
        }
      ]
    },
    {
      "cell_type": "code",
      "source": [
        "pip install opencv-python-headless"
      ],
      "metadata": {
        "colab": {
          "base_uri": "https://localhost:8080/"
        },
        "id": "BVggs-0vfKEz",
        "outputId": "fdb449fa-05f7-48cd-ec59-9d1bad3d262e"
      },
      "execution_count": 3,
      "outputs": [
        {
          "output_type": "stream",
          "name": "stdout",
          "text": [
            "Requirement already satisfied: opencv-python-headless in /usr/local/lib/python3.10/dist-packages (4.9.0.80)\n",
            "Requirement already satisfied: numpy>=1.21.2 in /usr/local/lib/python3.10/dist-packages (from opencv-python-headless) (1.25.2)\n"
          ]
        }
      ]
    },
    {
      "cell_type": "code",
      "source": [
        "from tensorflow.keras.preprocessing.image import ImageDataGenerator\n",
        "from tensorflow.keras.preprocessing.image import img_to_array\n",
        "from tensorflow.keras.preprocessing.image import load_img\n",
        "import numpy as np\n",
        "import random\n",
        "import math\n",
        "import csv\n",
        "import cv2\n",
        "import os"
      ],
      "metadata": {
        "id": "JI9InS0Qiacb"
      },
      "execution_count": 4,
      "outputs": []
    },
    {
      "cell_type": "code",
      "source": [
        "inputBasePath = \"/content/drive/MyDrive/CDD-CESM-MM\"\n",
        "outputBasePath = \"/content/drive/MyDrive/imagearray\""
      ],
      "metadata": {
        "id": "O6gYpt8dieZV"
      },
      "execution_count": 5,
      "outputs": []
    },
    {
      "cell_type": "code",
      "source": [
        "image_width = 224\n",
        "image_height = 224"
      ],
      "metadata": {
        "id": "qslsj7Smi0T5"
      },
      "execution_count": 6,
      "outputs": []
    },
    {
      "cell_type": "code",
      "source": [
        "classes = ['Benign','Malignant','Normal']"
      ],
      "metadata": {
        "id": "g5eI870Xi2Wj"
      },
      "execution_count": 7,
      "outputs": []
    },
    {
      "cell_type": "code",
      "source": [
        "os.chdir(inputBasePath)"
      ],
      "metadata": {
        "id": "IHcnvXfgi3_F"
      },
      "execution_count": 8,
      "outputs": []
    },
    {
      "cell_type": "code",
      "source": [
        "pwd"
      ],
      "metadata": {
        "colab": {
          "base_uri": "https://localhost:8080/",
          "height": 36
        },
        "id": "PzPeIOg6i5Ns",
        "outputId": "d6afd6de-9900-4cd7-8e7c-a4db19c87f67"
      },
      "execution_count": 9,
      "outputs": [
        {
          "output_type": "execute_result",
          "data": {
            "text/plain": [
              "'/content/drive/MyDrive/CDD-CESM-MM'"
            ],
            "application/vnd.google.colaboratory.intrinsic+json": {
              "type": "string"
            }
          },
          "metadata": {},
          "execution_count": 9
        }
      ]
    },
    {
      "cell_type": "code",
      "source": [
        "X = []\n",
        "Y = []"
      ],
      "metadata": {
        "id": "EZQaHttci6za"
      },
      "execution_count": 10,
      "outputs": []
    },
    {
      "cell_type": "code",
      "source": [
        "i = 0\n",
        "for class1 in classes:\n",
        "  os.chdir(class1)\n",
        "  print('=> '+class1)\n",
        "  for files in os.listdir('./'):\n",
        "    img = cv2.imread(files)\n",
        "    img = cv2.resize(img, (image_width,image_height))\n",
        "    X.append(img)\n",
        "    Y.append(class1)\n",
        "    i = i + 1\n",
        "  os.chdir('..')"
      ],
      "metadata": {
        "colab": {
          "base_uri": "https://localhost:8080/"
        },
        "id": "edS-XP5Pi8Nt",
        "outputId": "49719b19-bbea-4c06-ffe9-4224f0fbf80d"
      },
      "execution_count": 11,
      "outputs": [
        {
          "output_type": "stream",
          "name": "stdout",
          "text": [
            "=> Benign\n",
            "=> Malignant\n",
            "=> Normal\n"
          ]
        }
      ]
    },
    {
      "cell_type": "code",
      "source": [
        "print(\"X : \",len(X))\n",
        "print(\"Y : \",len(Y))"
      ],
      "metadata": {
        "colab": {
          "base_uri": "https://localhost:8080/"
        },
        "id": "QBoIsCK3i-57",
        "outputId": "73e1109f-906b-4f0b-b164-9abadf0ca3f3"
      },
      "execution_count": 12,
      "outputs": [
        {
          "output_type": "stream",
          "name": "stdout",
          "text": [
            "X :  2006\n",
            "Y :  2006\n"
          ]
        }
      ]
    },
    {
      "cell_type": "code",
      "source": [
        "X = np.array(X).reshape(-1,image_width,image_height,3)\n",
        "\n",
        "Y = np.array(Y)\n",
        "\n",
        "print(\"X : \",X.shape)\n",
        "print(\"Y : \",Y.shape)\n",
        "\n",
        "print(\"X : \",len(X))\n",
        "print(\"Y : \",len(Y))"
      ],
      "metadata": {
        "colab": {
          "base_uri": "https://localhost:8080/"
        },
        "id": "T1dRs9_nlH5I",
        "outputId": "1b044ee1-0f80-4e85-fc62-825a210d5503"
      },
      "execution_count": 13,
      "outputs": [
        {
          "output_type": "stream",
          "name": "stdout",
          "text": [
            "X :  (2006, 224, 224, 3)\n",
            "Y :  (2006,)\n",
            "X :  2006\n",
            "Y :  2006\n"
          ]
        }
      ]
    },
    {
      "cell_type": "code",
      "source": [
        "pwd"
      ],
      "metadata": {
        "colab": {
          "base_uri": "https://localhost:8080/",
          "height": 36
        },
        "id": "wGPXMBxOlKK9",
        "outputId": "129fc9f4-eff1-42df-be4b-9e3f43ab4acf"
      },
      "execution_count": 14,
      "outputs": [
        {
          "output_type": "execute_result",
          "data": {
            "text/plain": [
              "'/content/drive/MyDrive/CDD-CESM-MM'"
            ],
            "application/vnd.google.colaboratory.intrinsic+json": {
              "type": "string"
            }
          },
          "metadata": {},
          "execution_count": 14
        }
      ]
    },
    {
      "cell_type": "code",
      "source": [
        "os.chdir('..')"
      ],
      "metadata": {
        "id": "6Q0eK9JSlMp-"
      },
      "execution_count": 15,
      "outputs": []
    },
    {
      "cell_type": "code",
      "source": [
        "pwd"
      ],
      "metadata": {
        "colab": {
          "base_uri": "https://localhost:8080/",
          "height": 36
        },
        "id": "jAryw77wlOpX",
        "outputId": "d908a69e-e310-4d56-cc59-19650dededcd"
      },
      "execution_count": 16,
      "outputs": [
        {
          "output_type": "execute_result",
          "data": {
            "text/plain": [
              "'/content/drive/MyDrive'"
            ],
            "application/vnd.google.colaboratory.intrinsic+json": {
              "type": "string"
            }
          },
          "metadata": {},
          "execution_count": 16
        }
      ]
    },
    {
      "cell_type": "code",
      "source": [
        "os.chdir(\"imagearray\")"
      ],
      "metadata": {
        "id": "8ItIE9balPPy"
      },
      "execution_count": 17,
      "outputs": []
    },
    {
      "cell_type": "code",
      "source": [
        "np.save(str(image_width)+'x'+str(image_height)+'_images', X)\n",
        "\n",
        "np.save(str(image_width)+'x'+str(image_height)+'_labels', Y)\n",
        "\n",
        "print(\"[ INFO - STAGE1 ]  NUMPY ARRAY CREATION COMPLETED \\n \")"
      ],
      "metadata": {
        "colab": {
          "base_uri": "https://localhost:8080/"
        },
        "id": "uhVhykj2lSQi",
        "outputId": "f62bc360-c584-4423-86d2-941c1c887f83"
      },
      "execution_count": 18,
      "outputs": [
        {
          "output_type": "stream",
          "name": "stdout",
          "text": [
            "[ INFO - STAGE1 ]  NUMPY ARRAY CREATION COMPLETED \n",
            " \n"
          ]
        }
      ]
    },
    {
      "cell_type": "code",
      "source": [
        "from sklearn.metrics import classification_report\n",
        "from sklearn.model_selection import train_test_split\n",
        "from tensorflow.keras import utils\n",
        "utils.to_categorical"
      ],
      "metadata": {
        "colab": {
          "base_uri": "https://localhost:8080/",
          "height": 187
        },
        "id": "5BltW5Tslzac",
        "outputId": "d18f8de9-0e51-46d5-9df2-0f289647f4ea"
      },
      "execution_count": 19,
      "outputs": [
        {
          "output_type": "execute_result",
          "data": {
            "text/plain": [
              "<function keras.src.utils.np_utils.to_categorical(y, num_classes=None, dtype='float32')>"
            ],
            "text/html": [
              "<div style=\"max-width:800px; border: 1px solid var(--colab-border-color);\"><style>\n",
              "      pre.function-repr-contents {\n",
              "        overflow-x: auto;\n",
              "        padding: 8px 12px;\n",
              "        max-height: 500px;\n",
              "      }\n",
              "\n",
              "      pre.function-repr-contents.function-repr-contents-collapsed {\n",
              "        cursor: pointer;\n",
              "        max-height: 100px;\n",
              "      }\n",
              "    </style>\n",
              "    <pre style=\"white-space: initial; background:\n",
              "         var(--colab-secondary-surface-color); padding: 8px 12px;\n",
              "         border-bottom: 1px solid var(--colab-border-color);\"><b>keras.src.utils.np_utils.to_categorical</b><br/>def to_categorical(y, num_classes=None, dtype=&#x27;float32&#x27;)</pre><pre class=\"function-repr-contents function-repr-contents-collapsed\" style=\"\"><a class=\"filepath\" style=\"display:none\" href=\"#\">/usr/local/lib/python3.10/dist-packages/keras/src/utils/np_utils.py</a>Converts a class vector (integers) to binary class matrix.\n",
              "\n",
              "E.g. for use with `categorical_crossentropy`.\n",
              "\n",
              "Args:\n",
              "    y: Array-like with class values to be converted into a matrix\n",
              "        (integers from 0 to `num_classes - 1`).\n",
              "    num_classes: Total number of classes. If `None`, this would be inferred\n",
              "      as `max(y) + 1`.\n",
              "    dtype: The data type expected by the input. Default: `&#x27;float32&#x27;`.\n",
              "\n",
              "Returns:\n",
              "    A binary matrix representation of the input as a NumPy array. The class\n",
              "    axis is placed last.\n",
              "\n",
              "Example:\n",
              "\n",
              "&gt;&gt;&gt; a = tf.keras.utils.to_categorical([0, 1, 2, 3], num_classes=4)\n",
              "&gt;&gt;&gt; print(a)\n",
              "[[1. 0. 0. 0.]\n",
              " [0. 1. 0. 0.]\n",
              " [0. 0. 1. 0.]\n",
              " [0. 0. 0. 1.]]\n",
              "\n",
              "&gt;&gt;&gt; b = tf.constant([.9, .04, .03, .03,\n",
              "...                  .3, .45, .15, .13,\n",
              "...                  .04, .01, .94, .05,\n",
              "...                  .12, .21, .5, .17],\n",
              "...                 shape=[4, 4])\n",
              "&gt;&gt;&gt; loss = tf.keras.backend.categorical_crossentropy(a, b)\n",
              "&gt;&gt;&gt; print(np.around(loss, 5))\n",
              "[0.10536 0.82807 0.1011  1.77196]\n",
              "\n",
              "&gt;&gt;&gt; loss = tf.keras.backend.categorical_crossentropy(a, a)\n",
              "&gt;&gt;&gt; print(np.around(loss, 5))\n",
              "[0. 0. 0. 0.]</pre>\n",
              "      <script>\n",
              "      if (google.colab.kernel.accessAllowed && google.colab.files && google.colab.files.view) {\n",
              "        for (const element of document.querySelectorAll('.filepath')) {\n",
              "          element.style.display = 'block'\n",
              "          element.onclick = (event) => {\n",
              "            event.preventDefault();\n",
              "            event.stopPropagation();\n",
              "            google.colab.files.view(element.textContent, 23);\n",
              "          };\n",
              "        }\n",
              "      }\n",
              "      for (const element of document.querySelectorAll('.function-repr-contents')) {\n",
              "        element.onclick = (event) => {\n",
              "          event.preventDefault();\n",
              "          event.stopPropagation();\n",
              "          element.classList.toggle('function-repr-contents-collapsed');\n",
              "        };\n",
              "      }\n",
              "      </script>\n",
              "      </div>"
            ]
          },
          "metadata": {},
          "execution_count": 19
        }
      ]
    },
    {
      "cell_type": "code",
      "source": [
        "from keras.utils import to_categorical\n",
        "from sklearn.preprocessing import LabelEncoder\n",
        "from sklearn.metrics import confusion_matrix\n",
        "from sklearn.metrics import mean_squared_error\n",
        "import tensorflow as tf\n",
        "from tensorflow.keras.models import Sequential\n",
        "from tensorflow.keras.layers import BatchNormalization\n",
        "from tensorflow.keras.layers import Conv2D\n",
        "from tensorflow.keras.layers import MaxPooling2D\n",
        "from tensorflow.keras.layers import MaxPool2D\n",
        "from tensorflow.keras.layers import Activation\n",
        "from tensorflow.keras.layers import Flatten\n",
        "from tensorflow.keras.layers import Dropout\n",
        "from tensorflow.keras.layers import Dense\n",
        "from tensorflow.keras.optimizers import Adam\n",
        "from tensorflow.keras.optimizers import SGD"
      ],
      "metadata": {
        "id": "S2wFedTYl5le"
      },
      "execution_count": 20,
      "outputs": []
    },
    {
      "cell_type": "code",
      "source": [
        "data = np.load('/content/drive/MyDrive/imagearray/224x224_images.npy')\n",
        "labels = np.load('/content/drive/MyDrive/imagearray/224x224_labels.npy')\n",
        "data.shape"
      ],
      "metadata": {
        "colab": {
          "base_uri": "https://localhost:8080/"
        },
        "id": "ULu-Q3Tml_D7",
        "outputId": "9c30dca5-0439-4cb0-86f0-0f80c8141309"
      },
      "execution_count": 21,
      "outputs": [
        {
          "output_type": "execute_result",
          "data": {
            "text/plain": [
              "(2006, 224, 224, 3)"
            ]
          },
          "metadata": {},
          "execution_count": 21
        }
      ]
    },
    {
      "cell_type": "code",
      "source": [
        "labels"
      ],
      "metadata": {
        "colab": {
          "base_uri": "https://localhost:8080/"
        },
        "id": "qyQLgtEFmHuV",
        "outputId": "a68df1cb-6274-4d67-8154-496d2cece454"
      },
      "execution_count": 22,
      "outputs": [
        {
          "output_type": "execute_result",
          "data": {
            "text/plain": [
              "array(['Benign', 'Benign', 'Benign', ..., 'Normal', 'Normal', 'Normal'],\n",
              "      dtype='<U9')"
            ]
          },
          "metadata": {},
          "execution_count": 22
        }
      ]
    },
    {
      "cell_type": "code",
      "source": [
        "labelEn = LabelEncoder()\n",
        "labels = labelEn.fit_transform(labels)\n",
        "labels = to_categorical(labels)"
      ],
      "metadata": {
        "id": "P5ON3Q0KmJwE"
      },
      "execution_count": 23,
      "outputs": []
    },
    {
      "cell_type": "code",
      "source": [
        "labels"
      ],
      "metadata": {
        "colab": {
          "base_uri": "https://localhost:8080/"
        },
        "id": "9vpWpwSHmOO8",
        "outputId": "3797b80d-6d3d-49a1-8467-030ae54b4ec9"
      },
      "execution_count": 24,
      "outputs": [
        {
          "output_type": "execute_result",
          "data": {
            "text/plain": [
              "array([[1., 0., 0.],\n",
              "       [1., 0., 0.],\n",
              "       [1., 0., 0.],\n",
              "       ...,\n",
              "       [0., 0., 1.],\n",
              "       [0., 0., 1.],\n",
              "       [0., 0., 1.]], dtype=float32)"
            ]
          },
          "metadata": {},
          "execution_count": 24
        }
      ]
    },
    {
      "cell_type": "code",
      "source": [
        "data =  data.reshape(-1,image_width , image_height , 3)"
      ],
      "metadata": {
        "id": "HwW3msKpmQIf"
      },
      "execution_count": 25,
      "outputs": []
    },
    {
      "cell_type": "code",
      "source": [
        "x_train, x_test, y_train, y_test = train_test_split(data, labels, test_size = .10, shuffle = True)"
      ],
      "metadata": {
        "id": "R1F66WJxmSVj"
      },
      "execution_count": 26,
      "outputs": []
    },
    {
      "cell_type": "code",
      "source": [
        "print(\n",
        "\"\"\"\n",
        "x_train shape: {}\n",
        "x_test shape: {}\n",
        "y_train shape: {}\n",
        "y_test shape: {}\n",
        "\n",
        "\"\"\".format(x_train.shape, x_test.shape, y_train.shape, y_test.shape))"
      ],
      "metadata": {
        "colab": {
          "base_uri": "https://localhost:8080/"
        },
        "id": "3H5NBQ5cmVUa",
        "outputId": "cf77a9de-23fd-4413-cf83-bf265bcd7769"
      },
      "execution_count": 27,
      "outputs": [
        {
          "output_type": "stream",
          "name": "stdout",
          "text": [
            "\n",
            "x_train shape: (1805, 224, 224, 3)\n",
            "x_test shape: (201, 224, 224, 3)\n",
            "y_train shape: (1805, 3)\n",
            "y_test shape: (201, 3)\n",
            "\n",
            "\n"
          ]
        }
      ]
    },
    {
      "cell_type": "code",
      "source": [
        "x_train_mean = np.mean(x_train)\n",
        "x_train_std = np.std(x_train)\n",
        "\n",
        "x_test_mean = np.mean(x_test)\n",
        "x_test_std = np.std(x_test)\n",
        "\n",
        "x_train = (x_train - x_train_mean)/x_train_std\n",
        "x_test = (x_test - x_test_mean)/x_test_std"
      ],
      "metadata": {
        "id": "pmBsfWLhmavp"
      },
      "execution_count": 28,
      "outputs": []
    },
    {
      "cell_type": "code",
      "source": [
        "x_train, x_validate, y_train, y_validate = train_test_split(x_train, y_train, test_size = .10, shuffle = True,random_state=42)"
      ],
      "metadata": {
        "id": "WaH23gXrmfKP"
      },
      "execution_count": 29,
      "outputs": []
    },
    {
      "cell_type": "code",
      "source": [
        "print(y_train.shape)\n",
        "print(y_validate.shape)"
      ],
      "metadata": {
        "colab": {
          "base_uri": "https://localhost:8080/"
        },
        "id": "lM7Wse3dmi6h",
        "outputId": "93f945dd-19b8-4512-a852-d5b5f6734ebc"
      },
      "execution_count": 30,
      "outputs": [
        {
          "output_type": "stream",
          "name": "stdout",
          "text": [
            "(1624, 3)\n",
            "(181, 3)\n"
          ]
        }
      ]
    },
    {
      "cell_type": "code",
      "source": [
        "datagen = ImageDataGenerator(\n",
        "        featurewise_center=False,  # set input mean to 0 over the dataset\n",
        "        samplewise_center=False,  # set each sample mean to 0\n",
        "        featurewise_std_normalization=False,  # divide inputs by std of the dataset\n",
        "        samplewise_std_normalization=False,  # divide each input by its std\n",
        "        zca_whitening=False,  # apply ZCA whitening\n",
        "        rotation_range=10,  # randomly rotate images in the range (degrees, 0 to 180) 10 degrees\n",
        "        zoom_range = 0.1, # Randomly zoom image %10\n",
        "        width_shift_range=0.1,  # randomly shift images horizontally (fraction of total width) %10\n",
        "        height_shift_range=0.1,  # randomly shift images vertically (fraction of total height) %10\n",
        "        horizontal_flip=False,  # randomly flip images\n",
        "        vertical_flip=False  # randomly flip images\n",
        "                        )\n",
        "datagen.fit(x_train) #datagen'i x_train üzerinden çalıştır ve veri üret"
      ],
      "metadata": {
        "id": "DNQ57MuDmkvJ"
      },
      "execution_count": 31,
      "outputs": []
    },
    {
      "cell_type": "code",
      "source": [
        "from keras.applications.vgg16 import VGG16, preprocess_input\n",
        "base_model = VGG16(\n",
        "    weights=\"imagenet\",\n",
        "    include_top=False,\n",
        "    input_shape=(image_width ,image_height ,3)\n",
        "\n",
        ")"
      ],
      "metadata": {
        "colab": {
          "base_uri": "https://localhost:8080/"
        },
        "id": "wPiVa2kuoVtN",
        "outputId": "80ec8495-8470-4193-c6cd-9bd60e11134f"
      },
      "execution_count": 33,
      "outputs": [
        {
          "output_type": "stream",
          "name": "stdout",
          "text": [
            "Downloading data from https://storage.googleapis.com/tensorflow/keras-applications/vgg16/vgg16_weights_tf_dim_ordering_tf_kernels_notop.h5\n",
            "58889256/58889256 [==============================] - 0s 0us/step\n"
          ]
        }
      ]
    },
    {
      "cell_type": "code",
      "source": [
        "NUM_CLASSES=3\n",
        "model = Sequential()\n",
        "model.add(base_model)\n",
        "model.add(Flatten())\n",
        "model.add(Dropout(0.5))\n",
        "model.add(Dense(NUM_CLASSES, activation='softmax'))\n",
        "\n",
        "model.layers[0].trainable = False"
      ],
      "metadata": {
        "id": "G3S09a3nsCxM"
      },
      "execution_count": 34,
      "outputs": []
    },
    {
      "cell_type": "code",
      "source": [
        "optimizer = tf.keras.optimizers.legacy.Adam(learning_rate=0.0001, beta_1=0.9, beta_2=0.999, epsilon=None, decay=0.0, amsgrad=False)"
      ],
      "metadata": {
        "id": "XOtFmF7psE5c"
      },
      "execution_count": 36,
      "outputs": []
    },
    {
      "cell_type": "code",
      "source": [
        "from tensorflow.keras.callbacks import ReduceLROnPlateau\n",
        "learning_rate_reduction = ReduceLROnPlateau(monitor='val_accuracy', patience=3, verbose=1,  factor=0.5, min_lr=0.00001)"
      ],
      "metadata": {
        "id": "RmLapFNgsMWy"
      },
      "execution_count": 37,
      "outputs": []
    },
    {
      "cell_type": "code",
      "source": [
        "model.compile(optimizer = optimizer , loss = \"categorical_crossentropy\", metrics=[\"accuracy\"])"
      ],
      "metadata": {
        "id": "A6lz8SJNsfsI"
      },
      "execution_count": 38,
      "outputs": []
    },
    {
      "cell_type": "code",
      "source": [
        "epc = 100\n",
        "bs = 16"
      ],
      "metadata": {
        "id": "DcNZopIgshgy"
      },
      "execution_count": 39,
      "outputs": []
    },
    {
      "cell_type": "code",
      "source": [
        "history = model.fit_generator(datagen.flow(np.array(x_train),np.array(y_train), batch_size=bs),\n",
        "                              epochs = epc, validation_data = datagen.flow(np.array(x_validate),\n",
        "                             np.array(y_validate),batch_size=bs),verbose = 1,\n",
        "                              steps_per_epoch=x_train.shape[0] // bs,\n",
        "                              callbacks=[learning_rate_reduction])"
      ],
      "metadata": {
        "colab": {
          "base_uri": "https://localhost:8080/"
        },
        "id": "5ee0DaAcsk3n",
        "outputId": "6e7f0499-02cd-4daa-9c0b-762e3bbe9ea6"
      },
      "execution_count": 41,
      "outputs": [
        {
          "output_type": "stream",
          "name": "stderr",
          "text": [
            "<ipython-input-41-3e48a0840e29>:1: UserWarning: `Model.fit_generator` is deprecated and will be removed in a future version. Please use `Model.fit`, which supports generators.\n",
            "  history = model.fit_generator(datagen.flow(np.array(x_train),np.array(y_train), batch_size=bs),\n"
          ]
        },
        {
          "output_type": "stream",
          "name": "stdout",
          "text": [
            "Epoch 1/100\n",
            "101/101 [==============================] - 30s 293ms/step - loss: 1.3207 - accuracy: 0.3576 - val_loss: 1.0185 - val_accuracy: 0.4751 - lr: 1.0000e-04\n",
            "Epoch 2/100\n",
            "101/101 [==============================] - 26s 259ms/step - loss: 1.1969 - accuracy: 0.4123 - val_loss: 1.0152 - val_accuracy: 0.5083 - lr: 1.0000e-04\n",
            "Epoch 3/100\n",
            "101/101 [==============================] - 26s 260ms/step - loss: 1.1570 - accuracy: 0.4179 - val_loss: 0.9918 - val_accuracy: 0.5470 - lr: 1.0000e-04\n",
            "Epoch 4/100\n",
            "101/101 [==============================] - 26s 256ms/step - loss: 1.0951 - accuracy: 0.4639 - val_loss: 0.9822 - val_accuracy: 0.4972 - lr: 1.0000e-04\n",
            "Epoch 5/100\n",
            "101/101 [==============================] - 26s 260ms/step - loss: 1.0450 - accuracy: 0.4994 - val_loss: 0.9743 - val_accuracy: 0.5525 - lr: 1.0000e-04\n",
            "Epoch 6/100\n",
            "101/101 [==============================] - 27s 269ms/step - loss: 1.0238 - accuracy: 0.5236 - val_loss: 0.9881 - val_accuracy: 0.5249 - lr: 1.0000e-04\n",
            "Epoch 7/100\n",
            "101/101 [==============================] - 27s 268ms/step - loss: 0.9745 - accuracy: 0.5274 - val_loss: 0.9442 - val_accuracy: 0.5359 - lr: 1.0000e-04\n",
            "Epoch 8/100\n",
            "101/101 [==============================] - 28s 273ms/step - loss: 0.9547 - accuracy: 0.5609 - val_loss: 0.9276 - val_accuracy: 0.5801 - lr: 1.0000e-04\n",
            "Epoch 9/100\n",
            "101/101 [==============================] - 26s 259ms/step - loss: 0.9295 - accuracy: 0.5532 - val_loss: 0.9584 - val_accuracy: 0.5580 - lr: 1.0000e-04\n",
            "Epoch 10/100\n",
            "101/101 [==============================] - 26s 255ms/step - loss: 0.9106 - accuracy: 0.5752 - val_loss: 0.9622 - val_accuracy: 0.5470 - lr: 1.0000e-04\n",
            "Epoch 11/100\n",
            "101/101 [==============================] - ETA: 0s - loss: 0.9015 - accuracy: 0.5746\n",
            "Epoch 11: ReduceLROnPlateau reducing learning rate to 4.999999873689376e-05.\n",
            "101/101 [==============================] - 26s 262ms/step - loss: 0.9015 - accuracy: 0.5746 - val_loss: 0.9532 - val_accuracy: 0.5580 - lr: 1.0000e-04\n",
            "Epoch 12/100\n",
            "101/101 [==============================] - 27s 263ms/step - loss: 0.8758 - accuracy: 0.5989 - val_loss: 0.9583 - val_accuracy: 0.5193 - lr: 5.0000e-05\n",
            "Epoch 13/100\n",
            "101/101 [==============================] - 27s 263ms/step - loss: 0.8570 - accuracy: 0.6132 - val_loss: 0.9349 - val_accuracy: 0.5801 - lr: 5.0000e-05\n",
            "Epoch 14/100\n",
            "101/101 [==============================] - ETA: 0s - loss: 0.8651 - accuracy: 0.5927\n",
            "Epoch 14: ReduceLROnPlateau reducing learning rate to 2.499999936844688e-05.\n",
            "101/101 [==============================] - 27s 271ms/step - loss: 0.8651 - accuracy: 0.5927 - val_loss: 0.9303 - val_accuracy: 0.5691 - lr: 5.0000e-05\n",
            "Epoch 15/100\n",
            "101/101 [==============================] - 27s 272ms/step - loss: 0.8321 - accuracy: 0.6101 - val_loss: 0.9277 - val_accuracy: 0.5470 - lr: 2.5000e-05\n",
            "Epoch 16/100\n",
            "101/101 [==============================] - 26s 258ms/step - loss: 0.8256 - accuracy: 0.6250 - val_loss: 0.9515 - val_accuracy: 0.5359 - lr: 2.5000e-05\n",
            "Epoch 17/100\n",
            "101/101 [==============================] - ETA: 0s - loss: 0.8314 - accuracy: 0.6126\n",
            "Epoch 17: ReduceLROnPlateau reducing learning rate to 1.249999968422344e-05.\n",
            "101/101 [==============================] - 28s 271ms/step - loss: 0.8314 - accuracy: 0.6126 - val_loss: 0.9289 - val_accuracy: 0.5580 - lr: 2.5000e-05\n",
            "Epoch 18/100\n",
            "101/101 [==============================] - 27s 271ms/step - loss: 0.8449 - accuracy: 0.6101 - val_loss: 0.9605 - val_accuracy: 0.5414 - lr: 1.2500e-05\n",
            "Epoch 19/100\n",
            "101/101 [==============================] - 26s 254ms/step - loss: 0.8357 - accuracy: 0.6350 - val_loss: 0.9079 - val_accuracy: 0.5525 - lr: 1.2500e-05\n",
            "Epoch 20/100\n",
            "101/101 [==============================] - ETA: 0s - loss: 0.8140 - accuracy: 0.6188\n",
            "Epoch 20: ReduceLROnPlateau reducing learning rate to 1e-05.\n",
            "101/101 [==============================] - 26s 257ms/step - loss: 0.8140 - accuracy: 0.6188 - val_loss: 0.9290 - val_accuracy: 0.5801 - lr: 1.2500e-05\n",
            "Epoch 21/100\n",
            "101/101 [==============================] - 25s 247ms/step - loss: 0.8090 - accuracy: 0.6393 - val_loss: 0.9485 - val_accuracy: 0.5304 - lr: 1.0000e-05\n",
            "Epoch 22/100\n",
            "101/101 [==============================] - 26s 254ms/step - loss: 0.8222 - accuracy: 0.6238 - val_loss: 0.9000 - val_accuracy: 0.5912 - lr: 1.0000e-05\n",
            "Epoch 23/100\n",
            "101/101 [==============================] - 27s 270ms/step - loss: 0.8205 - accuracy: 0.6337 - val_loss: 0.8826 - val_accuracy: 0.5746 - lr: 1.0000e-05\n",
            "Epoch 24/100\n",
            "101/101 [==============================] - 26s 254ms/step - loss: 0.8355 - accuracy: 0.6051 - val_loss: 0.9391 - val_accuracy: 0.5635 - lr: 1.0000e-05\n",
            "Epoch 25/100\n",
            "101/101 [==============================] - 25s 248ms/step - loss: 0.8082 - accuracy: 0.6275 - val_loss: 0.9269 - val_accuracy: 0.5856 - lr: 1.0000e-05\n",
            "Epoch 26/100\n",
            "101/101 [==============================] - 26s 259ms/step - loss: 0.8275 - accuracy: 0.6325 - val_loss: 0.9369 - val_accuracy: 0.5304 - lr: 1.0000e-05\n",
            "Epoch 27/100\n",
            "101/101 [==============================] - 31s 306ms/step - loss: 0.8240 - accuracy: 0.6076 - val_loss: 0.9435 - val_accuracy: 0.5691 - lr: 1.0000e-05\n",
            "Epoch 28/100\n",
            "101/101 [==============================] - 26s 262ms/step - loss: 0.8251 - accuracy: 0.6306 - val_loss: 0.9407 - val_accuracy: 0.5414 - lr: 1.0000e-05\n",
            "Epoch 29/100\n",
            "101/101 [==============================] - 27s 266ms/step - loss: 0.8024 - accuracy: 0.6405 - val_loss: 0.9450 - val_accuracy: 0.5470 - lr: 1.0000e-05\n",
            "Epoch 30/100\n",
            "101/101 [==============================] - 28s 275ms/step - loss: 0.8126 - accuracy: 0.6356 - val_loss: 0.9316 - val_accuracy: 0.5359 - lr: 1.0000e-05\n",
            "Epoch 31/100\n",
            "101/101 [==============================] - 27s 265ms/step - loss: 0.8082 - accuracy: 0.6381 - val_loss: 0.9399 - val_accuracy: 0.5746 - lr: 1.0000e-05\n",
            "Epoch 32/100\n",
            "101/101 [==============================] - 26s 257ms/step - loss: 0.7994 - accuracy: 0.6343 - val_loss: 0.9542 - val_accuracy: 0.5304 - lr: 1.0000e-05\n",
            "Epoch 33/100\n",
            "101/101 [==============================] - 26s 256ms/step - loss: 0.8186 - accuracy: 0.6281 - val_loss: 0.9360 - val_accuracy: 0.5414 - lr: 1.0000e-05\n",
            "Epoch 34/100\n",
            "101/101 [==============================] - 27s 269ms/step - loss: 0.8115 - accuracy: 0.6350 - val_loss: 0.9388 - val_accuracy: 0.5912 - lr: 1.0000e-05\n",
            "Epoch 35/100\n",
            "101/101 [==============================] - 26s 259ms/step - loss: 0.8050 - accuracy: 0.6325 - val_loss: 0.9053 - val_accuracy: 0.5359 - lr: 1.0000e-05\n",
            "Epoch 36/100\n",
            "101/101 [==============================] - 27s 269ms/step - loss: 0.8086 - accuracy: 0.6374 - val_loss: 0.9369 - val_accuracy: 0.5525 - lr: 1.0000e-05\n",
            "Epoch 37/100\n",
            "101/101 [==============================] - 27s 266ms/step - loss: 0.8109 - accuracy: 0.6362 - val_loss: 0.9477 - val_accuracy: 0.5414 - lr: 1.0000e-05\n",
            "Epoch 38/100\n",
            "101/101 [==============================] - 26s 256ms/step - loss: 0.7993 - accuracy: 0.6374 - val_loss: 0.9338 - val_accuracy: 0.5525 - lr: 1.0000e-05\n",
            "Epoch 39/100\n",
            "101/101 [==============================] - 27s 270ms/step - loss: 0.8064 - accuracy: 0.6325 - val_loss: 0.9624 - val_accuracy: 0.5304 - lr: 1.0000e-05\n",
            "Epoch 40/100\n",
            "101/101 [==============================] - 26s 258ms/step - loss: 0.8123 - accuracy: 0.6213 - val_loss: 0.9057 - val_accuracy: 0.5359 - lr: 1.0000e-05\n",
            "Epoch 41/100\n",
            "101/101 [==============================] - 26s 258ms/step - loss: 0.8030 - accuracy: 0.6238 - val_loss: 0.9125 - val_accuracy: 0.5525 - lr: 1.0000e-05\n",
            "Epoch 42/100\n",
            "101/101 [==============================] - 25s 247ms/step - loss: 0.8017 - accuracy: 0.6281 - val_loss: 0.9287 - val_accuracy: 0.5580 - lr: 1.0000e-05\n",
            "Epoch 43/100\n",
            "101/101 [==============================] - 25s 246ms/step - loss: 0.7968 - accuracy: 0.6430 - val_loss: 0.9370 - val_accuracy: 0.5470 - lr: 1.0000e-05\n",
            "Epoch 44/100\n",
            "101/101 [==============================] - 27s 272ms/step - loss: 0.8066 - accuracy: 0.6374 - val_loss: 0.9146 - val_accuracy: 0.5801 - lr: 1.0000e-05\n",
            "Epoch 45/100\n",
            "101/101 [==============================] - 26s 259ms/step - loss: 0.8124 - accuracy: 0.6381 - val_loss: 0.9363 - val_accuracy: 0.5304 - lr: 1.0000e-05\n",
            "Epoch 46/100\n",
            "101/101 [==============================] - 27s 272ms/step - loss: 0.7767 - accuracy: 0.6553 - val_loss: 0.9142 - val_accuracy: 0.5856 - lr: 1.0000e-05\n",
            "Epoch 47/100\n",
            "101/101 [==============================] - 27s 268ms/step - loss: 0.7887 - accuracy: 0.6399 - val_loss: 0.9400 - val_accuracy: 0.5801 - lr: 1.0000e-05\n",
            "Epoch 48/100\n",
            "101/101 [==============================] - 26s 253ms/step - loss: 0.7816 - accuracy: 0.6536 - val_loss: 0.9591 - val_accuracy: 0.5414 - lr: 1.0000e-05\n",
            "Epoch 49/100\n",
            "101/101 [==============================] - 28s 277ms/step - loss: 0.7834 - accuracy: 0.6418 - val_loss: 0.9208 - val_accuracy: 0.5083 - lr: 1.0000e-05\n",
            "Epoch 50/100\n",
            "101/101 [==============================] - 26s 256ms/step - loss: 0.7912 - accuracy: 0.6318 - val_loss: 0.9184 - val_accuracy: 0.5414 - lr: 1.0000e-05\n",
            "Epoch 51/100\n",
            "101/101 [==============================] - 26s 254ms/step - loss: 0.7996 - accuracy: 0.6318 - val_loss: 0.9095 - val_accuracy: 0.5249 - lr: 1.0000e-05\n",
            "Epoch 52/100\n",
            "101/101 [==============================] - 26s 260ms/step - loss: 0.7716 - accuracy: 0.6604 - val_loss: 0.9031 - val_accuracy: 0.5691 - lr: 1.0000e-05\n",
            "Epoch 53/100\n",
            "101/101 [==============================] - 25s 243ms/step - loss: 0.7734 - accuracy: 0.6573 - val_loss: 0.9248 - val_accuracy: 0.5359 - lr: 1.0000e-05\n",
            "Epoch 54/100\n",
            "101/101 [==============================] - 25s 247ms/step - loss: 0.7706 - accuracy: 0.6642 - val_loss: 0.9257 - val_accuracy: 0.5525 - lr: 1.0000e-05\n",
            "Epoch 55/100\n",
            "101/101 [==============================] - 26s 255ms/step - loss: 0.7994 - accuracy: 0.6381 - val_loss: 0.9127 - val_accuracy: 0.5856 - lr: 1.0000e-05\n",
            "Epoch 56/100\n",
            "101/101 [==============================] - 26s 258ms/step - loss: 0.7903 - accuracy: 0.6343 - val_loss: 0.9316 - val_accuracy: 0.5414 - lr: 1.0000e-05\n",
            "Epoch 57/100\n",
            "101/101 [==============================] - 27s 271ms/step - loss: 0.8051 - accuracy: 0.6374 - val_loss: 0.9072 - val_accuracy: 0.5746 - lr: 1.0000e-05\n",
            "Epoch 58/100\n",
            "101/101 [==============================] - 26s 257ms/step - loss: 0.7747 - accuracy: 0.6517 - val_loss: 0.9133 - val_accuracy: 0.5746 - lr: 1.0000e-05\n",
            "Epoch 59/100\n",
            "101/101 [==============================] - 26s 259ms/step - loss: 0.7832 - accuracy: 0.6586 - val_loss: 0.9550 - val_accuracy: 0.5193 - lr: 1.0000e-05\n",
            "Epoch 60/100\n",
            "101/101 [==============================] - 26s 259ms/step - loss: 0.7655 - accuracy: 0.6499 - val_loss: 0.9265 - val_accuracy: 0.5635 - lr: 1.0000e-05\n",
            "Epoch 61/100\n",
            "101/101 [==============================] - 26s 253ms/step - loss: 0.7700 - accuracy: 0.6505 - val_loss: 0.9099 - val_accuracy: 0.5967 - lr: 1.0000e-05\n",
            "Epoch 62/100\n",
            "101/101 [==============================] - 27s 266ms/step - loss: 0.7826 - accuracy: 0.6474 - val_loss: 0.9303 - val_accuracy: 0.5525 - lr: 1.0000e-05\n",
            "Epoch 63/100\n",
            "101/101 [==============================] - 27s 269ms/step - loss: 0.7864 - accuracy: 0.6499 - val_loss: 0.9244 - val_accuracy: 0.5580 - lr: 1.0000e-05\n",
            "Epoch 64/100\n",
            "101/101 [==============================] - 26s 257ms/step - loss: 0.7607 - accuracy: 0.6723 - val_loss: 0.8966 - val_accuracy: 0.5746 - lr: 1.0000e-05\n",
            "Epoch 65/100\n",
            "101/101 [==============================] - 27s 270ms/step - loss: 0.7696 - accuracy: 0.6791 - val_loss: 0.9161 - val_accuracy: 0.5580 - lr: 1.0000e-05\n",
            "Epoch 66/100\n",
            "101/101 [==============================] - 26s 257ms/step - loss: 0.7711 - accuracy: 0.6536 - val_loss: 0.9505 - val_accuracy: 0.5580 - lr: 1.0000e-05\n",
            "Epoch 67/100\n",
            "101/101 [==============================] - 26s 258ms/step - loss: 0.7597 - accuracy: 0.6611 - val_loss: 0.9242 - val_accuracy: 0.5801 - lr: 1.0000e-05\n",
            "Epoch 68/100\n",
            "101/101 [==============================] - 26s 262ms/step - loss: 0.7700 - accuracy: 0.6405 - val_loss: 0.9531 - val_accuracy: 0.5083 - lr: 1.0000e-05\n",
            "Epoch 69/100\n",
            "101/101 [==============================] - 25s 252ms/step - loss: 0.7712 - accuracy: 0.6573 - val_loss: 0.9480 - val_accuracy: 0.5470 - lr: 1.0000e-05\n",
            "Epoch 70/100\n",
            "101/101 [==============================] - 25s 248ms/step - loss: 0.7756 - accuracy: 0.6567 - val_loss: 0.9516 - val_accuracy: 0.5414 - lr: 1.0000e-05\n",
            "Epoch 71/100\n",
            "101/101 [==============================] - 26s 257ms/step - loss: 0.7539 - accuracy: 0.6654 - val_loss: 0.9382 - val_accuracy: 0.5635 - lr: 1.0000e-05\n",
            "Epoch 72/100\n",
            "101/101 [==============================] - 26s 259ms/step - loss: 0.7600 - accuracy: 0.6567 - val_loss: 0.9059 - val_accuracy: 0.5856 - lr: 1.0000e-05\n",
            "Epoch 73/100\n",
            "101/101 [==============================] - 26s 258ms/step - loss: 0.7625 - accuracy: 0.6586 - val_loss: 0.9181 - val_accuracy: 0.5801 - lr: 1.0000e-05\n",
            "Epoch 74/100\n",
            "101/101 [==============================] - 26s 257ms/step - loss: 0.7615 - accuracy: 0.6604 - val_loss: 0.8874 - val_accuracy: 0.5912 - lr: 1.0000e-05\n",
            "Epoch 75/100\n",
            "101/101 [==============================] - 26s 257ms/step - loss: 0.7528 - accuracy: 0.6723 - val_loss: 0.9138 - val_accuracy: 0.5580 - lr: 1.0000e-05\n",
            "Epoch 76/100\n",
            "101/101 [==============================] - 27s 268ms/step - loss: 0.7377 - accuracy: 0.6779 - val_loss: 0.9238 - val_accuracy: 0.5856 - lr: 1.0000e-05\n",
            "Epoch 77/100\n",
            "101/101 [==============================] - 26s 256ms/step - loss: 0.7492 - accuracy: 0.6766 - val_loss: 0.9106 - val_accuracy: 0.5746 - lr: 1.0000e-05\n",
            "Epoch 78/100\n",
            "101/101 [==============================] - 26s 252ms/step - loss: 0.7518 - accuracy: 0.6654 - val_loss: 0.9233 - val_accuracy: 0.5525 - lr: 1.0000e-05\n",
            "Epoch 79/100\n",
            "101/101 [==============================] - 26s 254ms/step - loss: 0.7586 - accuracy: 0.6493 - val_loss: 0.9406 - val_accuracy: 0.5359 - lr: 1.0000e-05\n",
            "Epoch 80/100\n",
            "101/101 [==============================] - 25s 248ms/step - loss: 0.7461 - accuracy: 0.6673 - val_loss: 0.9247 - val_accuracy: 0.5304 - lr: 1.0000e-05\n",
            "Epoch 81/100\n",
            "101/101 [==============================] - 25s 250ms/step - loss: 0.7714 - accuracy: 0.6555 - val_loss: 0.9277 - val_accuracy: 0.5746 - lr: 1.0000e-05\n",
            "Epoch 82/100\n",
            "101/101 [==============================] - 26s 261ms/step - loss: 0.7581 - accuracy: 0.6604 - val_loss: 0.9583 - val_accuracy: 0.5414 - lr: 1.0000e-05\n",
            "Epoch 83/100\n",
            "101/101 [==============================] - 26s 254ms/step - loss: 0.7369 - accuracy: 0.6841 - val_loss: 0.9210 - val_accuracy: 0.5746 - lr: 1.0000e-05\n",
            "Epoch 84/100\n",
            "101/101 [==============================] - 26s 259ms/step - loss: 0.7503 - accuracy: 0.6660 - val_loss: 0.9470 - val_accuracy: 0.5249 - lr: 1.0000e-05\n",
            "Epoch 85/100\n",
            "101/101 [==============================] - 26s 257ms/step - loss: 0.7450 - accuracy: 0.6872 - val_loss: 0.9417 - val_accuracy: 0.5635 - lr: 1.0000e-05\n",
            "Epoch 86/100\n",
            "101/101 [==============================] - 26s 258ms/step - loss: 0.7679 - accuracy: 0.6623 - val_loss: 0.9328 - val_accuracy: 0.5525 - lr: 1.0000e-05\n",
            "Epoch 87/100\n",
            "101/101 [==============================] - 27s 263ms/step - loss: 0.7294 - accuracy: 0.6835 - val_loss: 0.9347 - val_accuracy: 0.5470 - lr: 1.0000e-05\n",
            "Epoch 88/100\n",
            "101/101 [==============================] - 27s 266ms/step - loss: 0.7522 - accuracy: 0.6673 - val_loss: 0.9040 - val_accuracy: 0.5580 - lr: 1.0000e-05\n",
            "Epoch 89/100\n",
            "101/101 [==============================] - 27s 265ms/step - loss: 0.7494 - accuracy: 0.6648 - val_loss: 0.9355 - val_accuracy: 0.5304 - lr: 1.0000e-05\n",
            "Epoch 90/100\n",
            "101/101 [==============================] - 28s 274ms/step - loss: 0.7515 - accuracy: 0.6573 - val_loss: 0.9157 - val_accuracy: 0.5359 - lr: 1.0000e-05\n",
            "Epoch 91/100\n",
            "101/101 [==============================] - 26s 253ms/step - loss: 0.7397 - accuracy: 0.6586 - val_loss: 0.9226 - val_accuracy: 0.5691 - lr: 1.0000e-05\n",
            "Epoch 92/100\n",
            "101/101 [==============================] - 28s 277ms/step - loss: 0.7423 - accuracy: 0.6828 - val_loss: 0.9067 - val_accuracy: 0.5856 - lr: 1.0000e-05\n",
            "Epoch 93/100\n",
            "101/101 [==============================] - 26s 257ms/step - loss: 0.7495 - accuracy: 0.6636 - val_loss: 0.9302 - val_accuracy: 0.5359 - lr: 1.0000e-05\n",
            "Epoch 94/100\n",
            "101/101 [==============================] - 27s 270ms/step - loss: 0.7362 - accuracy: 0.6617 - val_loss: 0.8893 - val_accuracy: 0.5580 - lr: 1.0000e-05\n",
            "Epoch 95/100\n",
            "101/101 [==============================] - 27s 272ms/step - loss: 0.7368 - accuracy: 0.6832 - val_loss: 0.9275 - val_accuracy: 0.5856 - lr: 1.0000e-05\n",
            "Epoch 96/100\n",
            "101/101 [==============================] - 26s 256ms/step - loss: 0.7483 - accuracy: 0.6729 - val_loss: 0.9172 - val_accuracy: 0.5580 - lr: 1.0000e-05\n",
            "Epoch 97/100\n",
            "101/101 [==============================] - 26s 254ms/step - loss: 0.7456 - accuracy: 0.6741 - val_loss: 0.9043 - val_accuracy: 0.5912 - lr: 1.0000e-05\n",
            "Epoch 98/100\n",
            "101/101 [==============================] - 26s 259ms/step - loss: 0.7333 - accuracy: 0.6766 - val_loss: 0.9487 - val_accuracy: 0.5414 - lr: 1.0000e-05\n",
            "Epoch 99/100\n",
            "101/101 [==============================] - 27s 271ms/step - loss: 0.7489 - accuracy: 0.6667 - val_loss: 0.9393 - val_accuracy: 0.5249 - lr: 1.0000e-05\n",
            "Epoch 100/100\n",
            "101/101 [==============================] - 26s 254ms/step - loss: 0.7516 - accuracy: 0.6611 - val_loss: 0.9392 - val_accuracy: 0.5359 - lr: 1.0000e-05\n"
          ]
        }
      ]
    },
    {
      "cell_type": "code",
      "source": [
        "import matplotlib.pyplot as plt\n",
        "\n",
        "plt.plot(history.history['accuracy'])\n",
        "plt.plot(history.history['val_accuracy'])\n",
        "plt.title('model accuracy')\n",
        "plt.ylabel('accuracy')\n",
        "plt.xlabel('epoch')\n",
        "plt.legend(['train', 'test'], loc='upper left')\n",
        "plt.show()\n",
        "plt.plot(history.history['loss'])\n",
        "plt.plot(history.history['val_loss'])\n",
        "plt.title('model loss')\n",
        "plt.ylabel('loss')\n",
        "plt.xlabel('epoch')\n",
        "plt.legend(['train', 'test'], loc='upper left')\n",
        "plt.show()"
      ],
      "metadata": {
        "colab": {
          "base_uri": "https://localhost:8080/",
          "height": 927
        },
        "id": "XlRt-VTusstn",
        "outputId": "649adefa-1ce2-4e8c-d095-c7f0c3d41e9a"
      },
      "execution_count": 44,
      "outputs": [
        {
          "output_type": "display_data",
          "data": {
            "text/plain": [
              "<Figure size 640x480 with 1 Axes>"
            ],
            "image/png": "[encoded data removed]"
          },
          "metadata": {}
        },
        {
          "output_type": "display_data",
          "data": {
            "text/plain": [
              "<Figure size 640x480 with 1 Axes>"
            ],
            "image/png": "[encoded data removed]"
          },
          "metadata": {}
        }
      ]
    },
    {
      "cell_type": "code",
      "source": [
        "from sklearn.metrics import classification_report\n",
        "report = classification_report(Y_true, Y_pred_classes)\n",
        "print(report)"
      ],
      "metadata": {
        "colab": {
          "base_uri": "https://localhost:8080/"
        },
        "id": "5L8eC7nE5IJC",
        "outputId": "b202787f-ff98-4f01-84db-9b2d44d000fb"
      },
      "execution_count": 45,
      "outputs": [
        {
          "output_type": "stream",
          "name": "stdout",
          "text": [
            "              precision    recall  f1-score   support\n",
            "\n",
            "           0       0.35      0.27      0.30        45\n",
            "           1       0.77      0.69      0.73        74\n",
            "           2       0.67      0.83      0.74        82\n",
            "\n",
            "    accuracy                           0.65       201\n",
            "   macro avg       0.60      0.60      0.59       201\n",
            "weighted avg       0.64      0.65      0.64       201\n",
            "\n"
          ]
        }
      ]
    },
    {
      "cell_type": "code",
      "source": [],
      "metadata": {
        "id": "fBmLiCRJ5lZ6"
      },
      "execution_count": null,
      "outputs": []
    }
  ]
}