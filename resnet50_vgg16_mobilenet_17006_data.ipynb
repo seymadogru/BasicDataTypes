{
  "cells": [
    {
      "cell_type": "markdown",
      "metadata": {
        "id": "view-in-github",
        "colab_type": "text"
      },
      "source": [
        "<a href=\"https://colab.research.google.com/github/seymadogru/BasicDataTypes/blob/master/resnet50_vgg16_mobilenet_17006_data.ipynb\" target=\"_parent\"><img src=\"https://colab.research.google.com/assets/colab-badge.svg\" alt=\"Open In Colab\"/></a>"
      ]
    },
    {
      "cell_type": "code",
      "execution_count": null,
      "metadata": {
        "colab": {
          "base_uri": "https://localhost:8080/"
        },
        "id": "QOn6vb1otv6g",
        "outputId": "e6818010-efe5-4615-ac6c-46e794cd9e29"
      },
      "outputs": [
        {
          "output_type": "stream",
          "name": "stdout",
          "text": [
            "Drive already mounted at /content/drive; to attempt to forcibly remount, call drive.mount(\"/content/drive\", force_remount=True).\n"
          ]
        }
      ],
      "source": [
        "from google.colab import drive\n",
        "drive.mount('/content/drive')"
      ]
    },
    {
      "cell_type": "code",
      "execution_count": null,
      "metadata": {
        "id": "PhHDKbdKt1KI"
      },
      "outputs": [],
      "source": [
        "from tensorflow.keras.preprocessing.image import ImageDataGenerator\n",
        "from tensorflow.keras.preprocessing.image import img_to_array\n",
        "from tensorflow.keras.preprocessing.image import load_img\n",
        "import numpy as np\n",
        "import random\n",
        "import math\n",
        "import csv\n",
        "import cv2\n",
        "import os"
      ]
    },
    {
      "cell_type": "code",
      "execution_count": null,
      "metadata": {
        "id": "9jKqmuhKt77d"
      },
      "outputs": [],
      "source": [
        "inputBasePath = \"/content/drive/MyDrive/CDD-CESM_last\"\n",
        "outputBasePath = \"/content/drive/MyDrive/imagearray\""
      ]
    },
    {
      "cell_type": "code",
      "execution_count": null,
      "metadata": {
        "id": "em7cMr9-u22k"
      },
      "outputs": [],
      "source": [
        "image_width = 224\n",
        "image_height = 224"
      ]
    },
    {
      "cell_type": "code",
      "execution_count": null,
      "metadata": {
        "id": "Wuh-ARkbu5jf"
      },
      "outputs": [],
      "source": [
        "classes = ['Benign','Malignant','Normal']"
      ]
    },
    {
      "cell_type": "code",
      "execution_count": null,
      "metadata": {
        "id": "U6GmFzgbu7jK"
      },
      "outputs": [],
      "source": [
        "os.chdir(inputBasePath)"
      ]
    },
    {
      "cell_type": "code",
      "execution_count": null,
      "metadata": {
        "id": "M9O7X_xfu83J"
      },
      "outputs": [],
      "source": [
        "X = []\n",
        "Y = []"
      ]
    },
    {
      "cell_type": "code",
      "execution_count": null,
      "metadata": {
        "colab": {
          "base_uri": "https://localhost:8080/"
        },
        "id": "_lfMKsAxu-ji",
        "outputId": "3ce80d69-debe-4787-dd37-0dfe2576c7ae"
      },
      "outputs": [
        {
          "output_type": "stream",
          "name": "stdout",
          "text": [
            "=> Benign\n",
            "=> Malignant\n",
            "=> Normal\n"
          ]
        }
      ],
      "source": [
        "i = 0\n",
        "for class1 in classes:\n",
        "  os.chdir(class1)\n",
        "  print('=> '+class1)\n",
        "  for files in os.listdir('./'):\n",
        "    img = cv2.imread(files)\n",
        "    img = cv2.resize(img, (image_width,image_height))\n",
        "    X.append(img)\n",
        "    Y.append(class1)\n",
        "    i = i + 1\n",
        "  os.chdir('..')"
      ]
    },
    {
      "cell_type": "code",
      "execution_count": null,
      "metadata": {
        "id": "FBX8S6sBvAY_",
        "colab": {
          "base_uri": "https://localhost:8080/"
        },
        "outputId": "38159304-2514-43df-f0d5-401983aef3c2"
      },
      "outputs": [
        {
          "output_type": "stream",
          "name": "stdout",
          "text": [
            "X :  2006\n",
            "Y :  2006\n"
          ]
        }
      ],
      "source": [
        "print(\"X : \",len(X))\n",
        "print(\"Y : \",len(Y))"
      ]
    },
    {
      "cell_type": "code",
      "source": [
        "X = np.array(X).reshape(-1,image_width,image_height,3)\n",
        "\n",
        "Y = np.array(Y)\n",
        "\n",
        "print(\"X : \",X.shape)\n",
        "print(\"Y : \",Y.shape)\n",
        "\n",
        "print(\"X : \",len(X))\n",
        "print(\"Y : \",len(Y))"
      ],
      "metadata": {
        "colab": {
          "base_uri": "https://localhost:8080/"
        },
        "id": "Tm__o32mCJ6O",
        "outputId": "8b5878cb-40df-455b-a261-407190824da7"
      },
      "execution_count": null,
      "outputs": [
        {
          "output_type": "stream",
          "name": "stdout",
          "text": [
            "X :  (2006, 224, 224, 3)\n",
            "Y :  (2006,)\n",
            "X :  2006\n",
            "Y :  2006\n"
          ]
        }
      ]
    },
    {
      "cell_type": "code",
      "source": [
        "os.chdir('..')"
      ],
      "metadata": {
        "id": "YgjOF2O0CMJ-"
      },
      "execution_count": null,
      "outputs": []
    },
    {
      "cell_type": "code",
      "source": [
        "os.chdir(\"imagearray\")"
      ],
      "metadata": {
        "id": "qfVPLughCOP1"
      },
      "execution_count": null,
      "outputs": []
    },
    {
      "cell_type": "code",
      "source": [
        "np.save(str(image_width)+'x'+str(image_height)+'_images', X)\n",
        "\n",
        "np.save(str(image_width)+'x'+str(image_height)+'_labels', Y)\n",
        "\n",
        "print(\"[ INFO - STAGE1 ]  NUMPY ARRAY CREATION COMPLETED \\n \")"
      ],
      "metadata": {
        "colab": {
          "base_uri": "https://localhost:8080/"
        },
        "id": "4tmERbLZCPef",
        "outputId": "4b0fbb79-9750-4e79-f45e-7163cb0d01fe"
      },
      "execution_count": null,
      "outputs": [
        {
          "output_type": "stream",
          "name": "stdout",
          "text": [
            "[ INFO - STAGE1 ]  NUMPY ARRAY CREATION COMPLETED \n",
            " \n"
          ]
        }
      ]
    },
    {
      "cell_type": "code",
      "source": [
        "from sklearn.metrics import classification_report\n",
        "from sklearn.model_selection import train_test_split\n",
        "from tensorflow.keras import utils\n",
        "utils.to_categorical"
      ],
      "metadata": {
        "colab": {
          "base_uri": "https://localhost:8080/",
          "height": 187
        },
        "id": "nh7GAQ-sCRFU",
        "outputId": "fa2464d4-a13d-4893-8cc1-296419cb20c5"
      },
      "execution_count": null,
      "outputs": [
        {
          "output_type": "execute_result",
          "data": {
            "text/plain": [
              "<function keras.src.utils.np_utils.to_categorical(y, num_classes=None, dtype='float32')>"
            ],
            "text/html": [
              "<div style=\"max-width:800px; border: 1px solid var(--colab-border-color);\"><style>\n",
              "      pre.function-repr-contents {\n",
              "        overflow-x: auto;\n",
              "        padding: 8px 12px;\n",
              "        max-height: 500px;\n",
              "      }\n",
              "\n",
              "      pre.function-repr-contents.function-repr-contents-collapsed {\n",
              "        cursor: pointer;\n",
              "        max-height: 100px;\n",
              "      }\n",
              "    </style>\n",
              "    <pre style=\"white-space: initial; background:\n",
              "         var(--colab-secondary-surface-color); padding: 8px 12px;\n",
              "         border-bottom: 1px solid var(--colab-border-color);\"><b>keras.src.utils.np_utils.to_categorical</b><br/>def to_categorical(y, num_classes=None, dtype=&#x27;float32&#x27;)</pre><pre class=\"function-repr-contents function-repr-contents-collapsed\" style=\"\"><a class=\"filepath\" style=\"display:none\" href=\"#\">/usr/local/lib/python3.10/dist-packages/keras/src/utils/np_utils.py</a>Converts a class vector (integers) to binary class matrix.\n",
              "\n",
              "E.g. for use with `categorical_crossentropy`.\n",
              "\n",
              "Args:\n",
              "    y: Array-like with class values to be converted into a matrix\n",
              "        (integers from 0 to `num_classes - 1`).\n",
              "    num_classes: Total number of classes. If `None`, this would be inferred\n",
              "      as `max(y) + 1`.\n",
              "    dtype: The data type expected by the input. Default: `&#x27;float32&#x27;`.\n",
              "\n",
              "Returns:\n",
              "    A binary matrix representation of the input as a NumPy array. The class\n",
              "    axis is placed last.\n",
              "\n",
              "Example:\n",
              "\n",
              "&gt;&gt;&gt; a = tf.keras.utils.to_categorical([0, 1, 2, 3], num_classes=4)\n",
              "&gt;&gt;&gt; print(a)\n",
              "[[1. 0. 0. 0.]\n",
              " [0. 1. 0. 0.]\n",
              " [0. 0. 1. 0.]\n",
              " [0. 0. 0. 1.]]\n",
              "\n",
              "&gt;&gt;&gt; b = tf.constant([.9, .04, .03, .03,\n",
              "...                  .3, .45, .15, .13,\n",
              "...                  .04, .01, .94, .05,\n",
              "...                  .12, .21, .5, .17],\n",
              "...                 shape=[4, 4])\n",
              "&gt;&gt;&gt; loss = tf.keras.backend.categorical_crossentropy(a, b)\n",
              "&gt;&gt;&gt; print(np.around(loss, 5))\n",
              "[0.10536 0.82807 0.1011  1.77196]\n",
              "\n",
              "&gt;&gt;&gt; loss = tf.keras.backend.categorical_crossentropy(a, a)\n",
              "&gt;&gt;&gt; print(np.around(loss, 5))\n",
              "[0. 0. 0. 0.]</pre>\n",
              "      <script>\n",
              "      if (google.colab.kernel.accessAllowed && google.colab.files && google.colab.files.view) {\n",
              "        for (const element of document.querySelectorAll('.filepath')) {\n",
              "          element.style.display = 'block'\n",
              "          element.onclick = (event) => {\n",
              "            event.preventDefault();\n",
              "            event.stopPropagation();\n",
              "            google.colab.files.view(element.textContent, 23);\n",
              "          };\n",
              "        }\n",
              "      }\n",
              "      for (const element of document.querySelectorAll('.function-repr-contents')) {\n",
              "        element.onclick = (event) => {\n",
              "          event.preventDefault();\n",
              "          event.stopPropagation();\n",
              "          element.classList.toggle('function-repr-contents-collapsed');\n",
              "        };\n",
              "      }\n",
              "      </script>\n",
              "      </div>"
            ]
          },
          "metadata": {},
          "execution_count": 14
        }
      ]
    },
    {
      "cell_type": "code",
      "source": [
        "from keras.utils import to_categorical\n",
        "from sklearn.preprocessing import LabelEncoder\n",
        "from sklearn.metrics import confusion_matrix\n",
        "from sklearn.metrics import mean_squared_error\n",
        "import tensorflow as tf\n",
        "from tensorflow.keras.models import Sequential\n",
        "from tensorflow.keras.layers import BatchNormalization\n",
        "from tensorflow.keras.layers import Conv2D\n",
        "from tensorflow.keras.layers import MaxPooling2D\n",
        "from tensorflow.keras.layers import MaxPool2D\n",
        "from tensorflow.keras.layers import Activation\n",
        "from tensorflow.keras.layers import Flatten\n",
        "from tensorflow.keras.layers import Dropout\n",
        "from tensorflow.keras.layers import Dense\n",
        "from tensorflow.keras.optimizers import Adam\n",
        "from tensorflow.keras.optimizers import SGD"
      ],
      "metadata": {
        "id": "NAy_--7FCTNZ"
      },
      "execution_count": null,
      "outputs": []
    },
    {
      "cell_type": "code",
      "source": [
        "data = np.load('/content/drive/MyDrive/imagearray/224x224_images.npy')\n",
        "labels = np.load('/content/drive/MyDrive/imagearray/224x224_labels.npy')\n",
        "data.shape"
      ],
      "metadata": {
        "colab": {
          "base_uri": "https://localhost:8080/"
        },
        "id": "djocU1KeCWGP",
        "outputId": "4419e668-57d7-475c-8f2e-b51223eecd70"
      },
      "execution_count": null,
      "outputs": [
        {
          "output_type": "execute_result",
          "data": {
            "text/plain": [
              "(2006, 224, 224, 3)"
            ]
          },
          "metadata": {},
          "execution_count": 16
        }
      ]
    },
    {
      "cell_type": "code",
      "source": [
        "labels"
      ],
      "metadata": {
        "colab": {
          "base_uri": "https://localhost:8080/"
        },
        "id": "E8sENXusCYEv",
        "outputId": "a9232b63-745a-4310-9981-7967a57f2751"
      },
      "execution_count": null,
      "outputs": [
        {
          "output_type": "execute_result",
          "data": {
            "text/plain": [
              "array(['Benign', 'Benign', 'Benign', ..., 'Normal', 'Normal', 'Normal'],\n",
              "      dtype='<U9')"
            ]
          },
          "metadata": {},
          "execution_count": 17
        }
      ]
    },
    {
      "cell_type": "code",
      "source": [
        "labelEn = LabelEncoder()\n",
        "labels = labelEn.fit_transform(labels)\n",
        "labels = to_categorical(labels)"
      ],
      "metadata": {
        "id": "fstCApl0Cb1A"
      },
      "execution_count": null,
      "outputs": []
    },
    {
      "cell_type": "code",
      "source": [
        "labels"
      ],
      "metadata": {
        "colab": {
          "base_uri": "https://localhost:8080/"
        },
        "id": "JfkmCOOvCdX_",
        "outputId": "499fa542-b26b-44ec-fb39-037155c542ef"
      },
      "execution_count": null,
      "outputs": [
        {
          "output_type": "execute_result",
          "data": {
            "text/plain": [
              "array([[1., 0., 0.],\n",
              "       [1., 0., 0.],\n",
              "       [1., 0., 0.],\n",
              "       ...,\n",
              "       [0., 0., 1.],\n",
              "       [0., 0., 1.],\n",
              "       [0., 0., 1.]], dtype=float32)"
            ]
          },
          "metadata": {},
          "execution_count": 19
        }
      ]
    },
    {
      "cell_type": "code",
      "source": [
        "data =  data.reshape(-1,image_width , image_height , 3)"
      ],
      "metadata": {
        "id": "Cnk5T5FYCfYx"
      },
      "execution_count": null,
      "outputs": []
    },
    {
      "cell_type": "code",
      "source": [
        "x_train, x_test, y_train, y_test = train_test_split(data, labels, test_size = .10, shuffle = True)"
      ],
      "metadata": {
        "id": "1Vk7_jA9Ch4K"
      },
      "execution_count": null,
      "outputs": []
    },
    {
      "cell_type": "code",
      "source": [
        "print(\n",
        "\"\"\"\n",
        "x_train shape: {}\n",
        "x_test shape: {}\n",
        "y_train shape: {}\n",
        "y_test shape: {}\n",
        "\n",
        "\"\"\".format(x_train.shape, x_test.shape, y_train.shape, y_test.shape))"
      ],
      "metadata": {
        "colab": {
          "base_uri": "https://localhost:8080/"
        },
        "id": "9JmiYRsqCjna",
        "outputId": "b8ab7da3-be65-431c-ea29-2245ff1fa2eb"
      },
      "execution_count": null,
      "outputs": [
        {
          "output_type": "stream",
          "name": "stdout",
          "text": [
            "\n",
            "x_train shape: (1805, 224, 224, 3)\n",
            "x_test shape: (201, 224, 224, 3)\n",
            "y_train shape: (1805, 3)\n",
            "y_test shape: (201, 3)\n",
            "\n",
            "\n"
          ]
        }
      ]
    },
    {
      "cell_type": "code",
      "source": [
        "x_train_mean = np.mean(x_train)\n",
        "x_train_std = np.std(x_train)\n",
        "\n",
        "x_test_mean = np.mean(x_test)\n",
        "x_test_std = np.std(x_test)\n",
        "\n",
        "x_train = (x_train - x_train_mean)/x_train_std\n",
        "x_test = (x_test - x_test_mean)/x_test_std"
      ],
      "metadata": {
        "id": "AX5YwsKxCk7f"
      },
      "execution_count": null,
      "outputs": []
    },
    {
      "cell_type": "code",
      "source": [
        "x_train, x_validate, y_train, y_validate = train_test_split(x_train, y_train, test_size = .10, shuffle = True,random_state=42)"
      ],
      "metadata": {
        "id": "RO0v8nNjCmiA"
      },
      "execution_count": null,
      "outputs": []
    },
    {
      "cell_type": "code",
      "source": [
        "print(y_train.shape)\n",
        "print(y_validate.shape)"
      ],
      "metadata": {
        "colab": {
          "base_uri": "https://localhost:8080/"
        },
        "id": "hhTlXHh5CnvF",
        "outputId": "ec6f2164-f0e0-44a5-b8c7-1842e91b0974"
      },
      "execution_count": null,
      "outputs": [
        {
          "output_type": "stream",
          "name": "stdout",
          "text": [
            "(1624, 3)\n",
            "(181, 3)\n"
          ]
        }
      ]
    },
    {
      "cell_type": "code",
      "source": [
        "datagen = ImageDataGenerator(\n",
        "    rescale=1.0/255,\n",
        "    rotation_range=40,\n",
        "    width_shift_range=0.2,\n",
        "    height_shift_range=0.2,\n",
        "    shear_range=0.2,\n",
        "    zoom_range=0.2,\n",
        "    horizontal_flip=True,\n",
        "    fill_mode='nearest'\n",
        ")\n",
        "\n",
        "# Resimleri yüklemek için flow_from_directory kullanın\n",
        "train_generator = datagen.flow_from_directory(\n",
        "    directory=\"/content/drive/MyDrive/CDD-CESM_last\",\n",
        "    target_size=(image_width, image_height),\n",
        "    batch_size=32,\n",
        "    class_mode='categorical',\n",
        "    subset='training'\n",
        ")\n",
        "\n",
        "# Her sınıf için resimleri ayrı ayrı arttırın\n",
        "for cls in classes:\n",
        "    # Sınıfın resimlerini yüklemek için flow_from_directory kullanın\n",
        "    cls_generator = datagen.flow_from_directory(\n",
        "        directory=\"/content/drive/MyDrive/CDD-CESM_last\",\n",
        "        target_size=(image_width, image_height),\n",
        "        batch_size=32,\n",
        "        class_mode='categorical',\n",
        "        subset='training',\n",
        "        classes=[cls]\n",
        "    )\n",
        "\n",
        "    # Resimleri arttırın ve kaydedin\n",
        "    i = 0\n",
        "    for batch in cls_generator:\n",
        "        images, labels = batch\n",
        "        for image in images:\n",
        "            # Resmi kaydetmek için imwrite kullanın\n",
        "            cv2.imwrite(os.path.join(\"/content/drive/MyDrive/CDD-CESM_last\", cls, f\"augmented_{i}.jpg\"), image * 255)\n",
        "            i += 1\n",
        "            if i >= 5000:  # Maksimum resim sayısına ulaşıldığında döngüyü durdur\n",
        "                break\n",
        "        else:\n",
        "            continue\n",
        "        break"
      ],
      "metadata": {
        "colab": {
          "base_uri": "https://localhost:8080/"
        },
        "id": "BG4Wt3KnLYCK",
        "outputId": "ab9108e8-d577-458a-cfae-44b933bd5d6c"
      },
      "execution_count": null,
      "outputs": [
        {
          "output_type": "stream",
          "name": "stdout",
          "text": [
            "Found 2006 images belonging to 3 classes.\n",
            "Found 587 images belonging to 1 classes.\n",
            "Found 662 images belonging to 1 classes.\n",
            "Found 757 images belonging to 1 classes.\n"
          ]
        }
      ]
    },
    {
      "cell_type": "code",
      "source": [
        "\n",
        "\n",
        "# Load the augmented images for the malignant class\n",
        "augmented_images = os.listdir(\"/content/drive/MyDrive/CDD-CESM_last/Malignant\")\n",
        "\n",
        "# Count the number of augmented images\n",
        "num_malignant_images = len(augmented_images)\n",
        "\n",
        "# Print the number of malignant images\n",
        "print(\"Number of malignant images:\", num_malignant_images)\n"
      ],
      "metadata": {
        "id": "-xZvFhRhdJ4q",
        "colab": {
          "base_uri": "https://localhost:8080/"
        },
        "outputId": "26c120e6-7568-49df-a7bb-b5b33b766d32"
      },
      "execution_count": null,
      "outputs": [
        {
          "output_type": "stream",
          "name": "stdout",
          "text": [
            "Number of malignant images: 5662\n"
          ]
        }
      ]
    },
    {
      "cell_type": "code",
      "source": [
        "# Load the augmented images for the malignant class\n",
        "augmented_images2 = os.listdir(\"/content/drive/MyDrive/CDD-CESM_last/Normal\")\n",
        "\n",
        "# Count the number of augmented images\n",
        "num_normal_images = len(augmented_images2)\n",
        "\n",
        "# Print the number of malignant images\n",
        "print(\"Number of normal images:\", num_normal_images)"
      ],
      "metadata": {
        "colab": {
          "base_uri": "https://localhost:8080/"
        },
        "id": "rdZ6NcJTQkBn",
        "outputId": "e5d6a136-3c39-493a-f57f-8e097336076b"
      },
      "execution_count": null,
      "outputs": [
        {
          "output_type": "stream",
          "name": "stdout",
          "text": [
            "Number of normal images: 5757\n"
          ]
        }
      ]
    },
    {
      "cell_type": "code",
      "source": [
        "augmented_images3 = os.listdir(\"/content/drive/MyDrive/CDD-CESM_last/Benign\")\n",
        "\n",
        "# Count the number of augmented images\n",
        "num_benign_images = len(augmented_images3)\n",
        "\n",
        "# Print the number of malignant images\n",
        "print(\"Number of benign images:\", num_benign_images)"
      ],
      "metadata": {
        "colab": {
          "base_uri": "https://localhost:8080/"
        },
        "id": "YIiSeqeYQtze",
        "outputId": "93bc849f-4d7e-40d1-ae40-d45abf410bf2"
      },
      "execution_count": null,
      "outputs": [
        {
          "output_type": "stream",
          "name": "stdout",
          "text": [
            "Number of benign images: 5587\n"
          ]
        }
      ]
    },
    {
      "cell_type": "markdown",
      "source": [
        "## Toplam görüntü sayısı; 17006"
      ],
      "metadata": {
        "id": "7jAROdDzRCR8"
      }
    },
    {
      "cell_type": "code",
      "source": [
        "from google.colab import drive\n",
        "drive.mount('/content/drive')"
      ],
      "metadata": {
        "colab": {
          "base_uri": "https://localhost:8080/"
        },
        "id": "-PhJAv43Zd9H",
        "outputId": "35c51bee-5e55-41fa-896d-47107107b2cf"
      },
      "execution_count": 1,
      "outputs": [
        {
          "output_type": "stream",
          "name": "stdout",
          "text": [
            "Mounted at /content/drive\n"
          ]
        }
      ]
    },
    {
      "cell_type": "code",
      "source": [
        "from tensorflow.keras.preprocessing.image import ImageDataGenerator\n",
        "from tensorflow.keras.preprocessing.image import img_to_array\n",
        "from tensorflow.keras.preprocessing.image import load_img\n",
        "import numpy as np\n",
        "import random\n",
        "import math\n",
        "import csv\n",
        "import cv2\n",
        "import os"
      ],
      "metadata": {
        "id": "LbGNyopbZin9"
      },
      "execution_count": 2,
      "outputs": []
    },
    {
      "cell_type": "code",
      "source": [
        "from keras.utils import to_categorical\n",
        "from sklearn.preprocessing import LabelEncoder\n",
        "from sklearn.metrics import confusion_matrix\n",
        "from sklearn.metrics import mean_squared_error\n",
        "import tensorflow as tf\n",
        "from tensorflow.keras.models import Sequential\n",
        "from tensorflow.keras.layers import BatchNormalization\n",
        "from tensorflow.keras.layers import Conv2D\n",
        "from tensorflow.keras.layers import MaxPooling2D\n",
        "from tensorflow.keras.layers import MaxPool2D\n",
        "from tensorflow.keras.layers import Activation\n",
        "from tensorflow.keras.layers import Flatten\n",
        "from tensorflow.keras.layers import Dropout\n",
        "from tensorflow.keras.layers import Dense\n",
        "from tensorflow.keras.optimizers import Adam\n",
        "from tensorflow.keras.optimizers import SGD"
      ],
      "metadata": {
        "id": "JcxcNA6dZrFk"
      },
      "execution_count": 3,
      "outputs": []
    },
    {
      "cell_type": "code",
      "source": [
        "inputBasePath = \"/content/drive/MyDrive/CDD-CESM_last\"\n",
        "outputBasePath = \"/content/drive/MyDrive/imagearraynew\""
      ],
      "metadata": {
        "id": "FOW4wS8HRG4D"
      },
      "execution_count": 4,
      "outputs": []
    },
    {
      "cell_type": "code",
      "source": [
        "image_width = 224\n",
        "image_height = 224"
      ],
      "metadata": {
        "id": "FUX8bNAlRpIa"
      },
      "execution_count": 5,
      "outputs": []
    },
    {
      "cell_type": "code",
      "source": [
        "classes = ['Benign','Malignant','Normal']"
      ],
      "metadata": {
        "id": "feKlvxByRs7b"
      },
      "execution_count": 6,
      "outputs": []
    },
    {
      "cell_type": "code",
      "source": [
        "os.chdir(inputBasePath)"
      ],
      "metadata": {
        "id": "Dkfkp9bWR0vo"
      },
      "execution_count": 7,
      "outputs": []
    },
    {
      "cell_type": "code",
      "source": [
        "X = []\n",
        "Y = []"
      ],
      "metadata": {
        "id": "UAjBIc-rR4MY"
      },
      "execution_count": 8,
      "outputs": []
    },
    {
      "cell_type": "code",
      "source": [
        "i = 0\n",
        "for class1 in classes:\n",
        "  os.chdir(class1)\n",
        "  print('=> '+class1)\n",
        "  for files in os.listdir('./'):\n",
        "    img = cv2.imread(files)\n",
        "    img = cv2.resize(img, (image_width,image_height))\n",
        "    X.append(img)\n",
        "    Y.append(class1)\n",
        "    i = i + 1\n",
        "  os.chdir('..')"
      ],
      "metadata": {
        "colab": {
          "base_uri": "https://localhost:8080/"
        },
        "id": "YyAXn-z4R6_W",
        "outputId": "f0c2b550-d6cc-43ce-8219-14a33260cc09"
      },
      "execution_count": 9,
      "outputs": [
        {
          "output_type": "stream",
          "name": "stdout",
          "text": [
            "=> Benign\n",
            "=> Malignant\n",
            "=> Normal\n"
          ]
        }
      ]
    },
    {
      "cell_type": "code",
      "source": [
        "print(\"X : \",len(X))\n",
        "print(\"Y : \",len(Y))"
      ],
      "metadata": {
        "colab": {
          "base_uri": "https://localhost:8080/"
        },
        "id": "bEhv3dkyR-Os",
        "outputId": "dbfe570e-c397-46d4-9092-bfdb2c1e6fd0"
      },
      "execution_count": 10,
      "outputs": [
        {
          "output_type": "stream",
          "name": "stdout",
          "text": [
            "X :  17006\n",
            "Y :  17006\n"
          ]
        }
      ]
    },
    {
      "cell_type": "code",
      "source": [
        "X = np.array(X).reshape(-1,image_width,image_height,3)\n",
        "\n",
        "Y = np.array(Y)\n",
        "\n",
        "print(\"X : \",X.shape)\n",
        "print(\"Y : \",Y.shape)\n",
        "\n",
        "print(\"X : \",len(X))\n",
        "print(\"Y : \",len(Y))"
      ],
      "metadata": {
        "colab": {
          "base_uri": "https://localhost:8080/"
        },
        "id": "-6iZuGruTMux",
        "outputId": "ba23e312-d745-469b-8010-4e00cf17f9b8"
      },
      "execution_count": 11,
      "outputs": [
        {
          "output_type": "stream",
          "name": "stdout",
          "text": [
            "X :  (17006, 224, 224, 3)\n",
            "Y :  (17006,)\n",
            "X :  17006\n",
            "Y :  17006\n"
          ]
        }
      ]
    },
    {
      "cell_type": "code",
      "source": [
        "os.chdir('..')"
      ],
      "metadata": {
        "id": "SrRtsxNOTSnY"
      },
      "execution_count": 12,
      "outputs": []
    },
    {
      "cell_type": "code",
      "source": [
        "os.chdir(\"imagearraynew\")"
      ],
      "metadata": {
        "id": "7gea2N7nTWkf"
      },
      "execution_count": 13,
      "outputs": []
    },
    {
      "cell_type": "code",
      "source": [
        "np.save(str(image_width)+'x'+str(image_height)+'_images', X)\n",
        "\n",
        "np.save(str(image_width)+'x'+str(image_height)+'_labels', Y)\n",
        "\n",
        "print(\"[ INFO - STAGE1 ]  NUMPY ARRAY CREATION COMPLETED \\n \")"
      ],
      "metadata": {
        "colab": {
          "base_uri": "https://localhost:8080/"
        },
        "id": "CcVkW4sVTlp3",
        "outputId": "7e527eee-b108-421d-eecb-7b854fd0225b"
      },
      "execution_count": 14,
      "outputs": [
        {
          "output_type": "stream",
          "name": "stdout",
          "text": [
            "[ INFO - STAGE1 ]  NUMPY ARRAY CREATION COMPLETED \n",
            " \n"
          ]
        }
      ]
    },
    {
      "cell_type": "code",
      "source": [
        "from sklearn.metrics import classification_report\n",
        "from sklearn.model_selection import train_test_split\n",
        "from tensorflow.keras import utils\n",
        "utils.to_categorical"
      ],
      "metadata": {
        "colab": {
          "base_uri": "https://localhost:8080/",
          "height": 187
        },
        "id": "tWaZIzyETq3T",
        "outputId": "2fc65ad4-6113-41bd-b6f9-12e7894e7e70"
      },
      "execution_count": 15,
      "outputs": [
        {
          "output_type": "execute_result",
          "data": {
            "text/plain": [
              "<function keras.src.utils.np_utils.to_categorical(y, num_classes=None, dtype='float32')>"
            ],
            "text/html": [
              "<div style=\"max-width:800px; border: 1px solid var(--colab-border-color);\"><style>\n",
              "      pre.function-repr-contents {\n",
              "        overflow-x: auto;\n",
              "        padding: 8px 12px;\n",
              "        max-height: 500px;\n",
              "      }\n",
              "\n",
              "      pre.function-repr-contents.function-repr-contents-collapsed {\n",
              "        cursor: pointer;\n",
              "        max-height: 100px;\n",
              "      }\n",
              "    </style>\n",
              "    <pre style=\"white-space: initial; background:\n",
              "         var(--colab-secondary-surface-color); padding: 8px 12px;\n",
              "         border-bottom: 1px solid var(--colab-border-color);\"><b>keras.src.utils.np_utils.to_categorical</b><br/>def to_categorical(y, num_classes=None, dtype=&#x27;float32&#x27;)</pre><pre class=\"function-repr-contents function-repr-contents-collapsed\" style=\"\"><a class=\"filepath\" style=\"display:none\" href=\"#\">/usr/local/lib/python3.10/dist-packages/keras/src/utils/np_utils.py</a>Converts a class vector (integers) to binary class matrix.\n",
              "\n",
              "E.g. for use with `categorical_crossentropy`.\n",
              "\n",
              "Args:\n",
              "    y: Array-like with class values to be converted into a matrix\n",
              "        (integers from 0 to `num_classes - 1`).\n",
              "    num_classes: Total number of classes. If `None`, this would be inferred\n",
              "      as `max(y) + 1`.\n",
              "    dtype: The data type expected by the input. Default: `&#x27;float32&#x27;`.\n",
              "\n",
              "Returns:\n",
              "    A binary matrix representation of the input as a NumPy array. The class\n",
              "    axis is placed last.\n",
              "\n",
              "Example:\n",
              "\n",
              "&gt;&gt;&gt; a = tf.keras.utils.to_categorical([0, 1, 2, 3], num_classes=4)\n",
              "&gt;&gt;&gt; print(a)\n",
              "[[1. 0. 0. 0.]\n",
              " [0. 1. 0. 0.]\n",
              " [0. 0. 1. 0.]\n",
              " [0. 0. 0. 1.]]\n",
              "\n",
              "&gt;&gt;&gt; b = tf.constant([.9, .04, .03, .03,\n",
              "...                  .3, .45, .15, .13,\n",
              "...                  .04, .01, .94, .05,\n",
              "...                  .12, .21, .5, .17],\n",
              "...                 shape=[4, 4])\n",
              "&gt;&gt;&gt; loss = tf.keras.backend.categorical_crossentropy(a, b)\n",
              "&gt;&gt;&gt; print(np.around(loss, 5))\n",
              "[0.10536 0.82807 0.1011  1.77196]\n",
              "\n",
              "&gt;&gt;&gt; loss = tf.keras.backend.categorical_crossentropy(a, a)\n",
              "&gt;&gt;&gt; print(np.around(loss, 5))\n",
              "[0. 0. 0. 0.]</pre>\n",
              "      <script>\n",
              "      if (google.colab.kernel.accessAllowed && google.colab.files && google.colab.files.view) {\n",
              "        for (const element of document.querySelectorAll('.filepath')) {\n",
              "          element.style.display = 'block'\n",
              "          element.onclick = (event) => {\n",
              "            event.preventDefault();\n",
              "            event.stopPropagation();\n",
              "            google.colab.files.view(element.textContent, 23);\n",
              "          };\n",
              "        }\n",
              "      }\n",
              "      for (const element of document.querySelectorAll('.function-repr-contents')) {\n",
              "        element.onclick = (event) => {\n",
              "          event.preventDefault();\n",
              "          event.stopPropagation();\n",
              "          element.classList.toggle('function-repr-contents-collapsed');\n",
              "        };\n",
              "      }\n",
              "      </script>\n",
              "      </div>"
            ]
          },
          "metadata": {},
          "execution_count": 15
        }
      ]
    },
    {
      "cell_type": "code",
      "source": [
        "data = np.load('/content/drive/MyDrive/imagearraynew/224x224_images.npy')\n",
        "labels = np.load('/content/drive/MyDrive/imagearraynew/224x224_labels.npy')\n",
        "data.shape"
      ],
      "metadata": {
        "colab": {
          "base_uri": "https://localhost:8080/"
        },
        "id": "uyFOQTc0Twyf",
        "outputId": "af6938b5-0224-46ad-c372-2a8fbe760bb7"
      },
      "execution_count": 16,
      "outputs": [
        {
          "output_type": "execute_result",
          "data": {
            "text/plain": [
              "(17006, 224, 224, 3)"
            ]
          },
          "metadata": {},
          "execution_count": 16
        }
      ]
    },
    {
      "cell_type": "code",
      "source": [
        "labels"
      ],
      "metadata": {
        "colab": {
          "base_uri": "https://localhost:8080/"
        },
        "id": "sRwQIcmUT5DU",
        "outputId": "a2b36042-81e6-4df1-9cfc-2772a393eaba"
      },
      "execution_count": 17,
      "outputs": [
        {
          "output_type": "execute_result",
          "data": {
            "text/plain": [
              "array(['Benign', 'Benign', 'Benign', ..., 'Normal', 'Normal', 'Normal'],\n",
              "      dtype='<U9')"
            ]
          },
          "metadata": {},
          "execution_count": 17
        }
      ]
    },
    {
      "cell_type": "code",
      "source": [
        "labelEn = LabelEncoder()\n",
        "labels = labelEn.fit_transform(labels)\n",
        "labels = to_categorical(labels)"
      ],
      "metadata": {
        "id": "_lpobmfPT-Ur"
      },
      "execution_count": 18,
      "outputs": []
    },
    {
      "cell_type": "code",
      "source": [
        "labels"
      ],
      "metadata": {
        "colab": {
          "base_uri": "https://localhost:8080/"
        },
        "id": "qrViv6ARUG1b",
        "outputId": "b80cca1d-7d01-4b13-9416-6453ffdc65df"
      },
      "execution_count": 19,
      "outputs": [
        {
          "output_type": "execute_result",
          "data": {
            "text/plain": [
              "array([[1., 0., 0.],\n",
              "       [1., 0., 0.],\n",
              "       [1., 0., 0.],\n",
              "       ...,\n",
              "       [0., 0., 1.],\n",
              "       [0., 0., 1.],\n",
              "       [0., 0., 1.]], dtype=float32)"
            ]
          },
          "metadata": {},
          "execution_count": 19
        }
      ]
    },
    {
      "cell_type": "code",
      "source": [
        "data =  data.reshape(-1,image_width , image_height , 3)"
      ],
      "metadata": {
        "id": "zE40NfMPUHo8"
      },
      "execution_count": 20,
      "outputs": []
    },
    {
      "cell_type": "code",
      "source": [
        "x_train, x_test, y_train, y_test = train_test_split(data, labels, test_size = .10, shuffle = True)"
      ],
      "metadata": {
        "id": "WL6gwK-oULOa"
      },
      "execution_count": 21,
      "outputs": []
    },
    {
      "cell_type": "code",
      "source": [
        "print(\n",
        "\"\"\"\n",
        "x_train shape: {}\n",
        "x_test shape: {}\n",
        "y_train shape: {}\n",
        "y_test shape: {}\n",
        "\n",
        "\"\"\".format(x_train.shape, x_test.shape, y_train.shape, y_test.shape))"
      ],
      "metadata": {
        "colab": {
          "base_uri": "https://localhost:8080/"
        },
        "id": "tMhW0l0PUOW4",
        "outputId": "66993297-9045-441f-c039-2835e898a1ed"
      },
      "execution_count": 22,
      "outputs": [
        {
          "output_type": "stream",
          "name": "stdout",
          "text": [
            "\n",
            "x_train shape: (15305, 224, 224, 3)\n",
            "x_test shape: (1701, 224, 224, 3)\n",
            "y_train shape: (15305, 3)\n",
            "y_test shape: (1701, 3)\n",
            "\n",
            "\n"
          ]
        }
      ]
    },
    {
      "cell_type": "code",
      "source": [
        "x_train_mean = np.mean(x_train)\n",
        "x_train_std = np.std(x_train)\n",
        "\n",
        "x_test_mean = np.mean(x_test)\n",
        "x_test_std = np.std(x_test)\n",
        "\n",
        "x_train = (x_train - x_train_mean)/x_train_std\n",
        "x_test = (x_test - x_test_mean)/x_test_std"
      ],
      "metadata": {
        "id": "6BU5Ab_gURva"
      },
      "execution_count": 24,
      "outputs": []
    },
    {
      "cell_type": "code",
      "source": [
        "x_train, x_validate, y_train, y_validate = train_test_split(x_train, y_train, test_size = .10, shuffle = True,random_state=42)"
      ],
      "metadata": {
        "id": "qWLL8TdZUWJi"
      },
      "execution_count": 23,
      "outputs": []
    },
    {
      "cell_type": "code",
      "source": [
        "print(y_train.shape)\n",
        "print(y_validate.shape)"
      ],
      "metadata": {
        "colab": {
          "base_uri": "https://localhost:8080/"
        },
        "id": "FVpwAiP4UeaW",
        "outputId": "7594f9c9-90f3-4a54-80dc-e2562e44860d"
      },
      "execution_count": 24,
      "outputs": [
        {
          "output_type": "stream",
          "name": "stdout",
          "text": [
            "(13774, 3)\n",
            "(1531, 3)\n"
          ]
        }
      ]
    },
    {
      "cell_type": "code",
      "source": [
        "!pip install keras\n",
        "import keras"
      ],
      "metadata": {
        "colab": {
          "base_uri": "https://localhost:8080/"
        },
        "id": "hlkPZwX_kYr-",
        "outputId": "eed029a0-269e-4b2a-a0c1-622700974a46"
      },
      "execution_count": 27,
      "outputs": [
        {
          "output_type": "stream",
          "name": "stdout",
          "text": [
            "Requirement already satisfied: keras in /usr/local/lib/python3.10/dist-packages (2.15.0)\n"
          ]
        }
      ]
    },
    {
      "cell_type": "code",
      "source": [
        "\n",
        "base_model = keras.applications.ResNet50(\n",
        "    include_top=True,\n",
        "    weights=\"imagenet\",\n",
        "    input_tensor=None,\n",
        "    input_shape=None,\n",
        "    pooling=None,\n",
        "    classes=1000,\n",
        "    classifier_activation=\"softmax\",\n",
        ")"
      ],
      "metadata": {
        "id": "gHfIF51dUi-d",
        "colab": {
          "base_uri": "https://localhost:8080/"
        },
        "outputId": "ea24be3b-e45c-4cd0-85cf-2ebc4b98f8c7"
      },
      "execution_count": 28,
      "outputs": [
        {
          "output_type": "stream",
          "name": "stdout",
          "text": [
            "Downloading data from https://storage.googleapis.com/tensorflow/keras-applications/resnet/resnet50_weights_tf_dim_ordering_tf_kernels.h5\n",
            "102967424/102967424 [==============================] - 4s 0us/step\n"
          ]
        }
      ]
    },
    {
      "cell_type": "code",
      "source": [
        "num_classes=3\n",
        "model = Sequential()\n",
        "model.add(base_model)\n",
        "model.add(Flatten())\n",
        "model.add(Dropout(0.5))\n",
        "model.add(Dense(num_classes, activation='softmax'))\n",
        "\n",
        "model.layers[0].trainable = False"
      ],
      "metadata": {
        "id": "5BF8fjXLUzB5"
      },
      "execution_count": 29,
      "outputs": []
    },
    {
      "cell_type": "code",
      "source": [
        "optimizer = tf.keras.optimizers.legacy.Adam(learning_rate=0.0001, beta_1=0.9, beta_2=0.999, epsilon=None, decay=0.0, amsgrad=False)"
      ],
      "metadata": {
        "id": "s5OYXaFSU5iN"
      },
      "execution_count": 30,
      "outputs": []
    },
    {
      "cell_type": "code",
      "source": [
        "from tensorflow.keras.callbacks import ReduceLROnPlateau\n",
        "learning_rate_reduction = ReduceLROnPlateau(monitor='val_accuracy', patience=3, verbose=1,  factor=0.5, min_lr=0.00001)"
      ],
      "metadata": {
        "id": "NqOzFhC7U8ph"
      },
      "execution_count": 31,
      "outputs": []
    },
    {
      "cell_type": "code",
      "source": [
        "model.compile(optimizer = optimizer , loss = \"categorical_crossentropy\", metrics=[\"accuracy\"])"
      ],
      "metadata": {
        "id": "DX5cV0k2U-1u"
      },
      "execution_count": 32,
      "outputs": []
    },
    {
      "cell_type": "code",
      "source": [
        "epc = 20\n",
        "bs = 16"
      ],
      "metadata": {
        "id": "BC6kkmkTVBMV"
      },
      "execution_count": 33,
      "outputs": []
    },
    {
      "cell_type": "code",
      "source": [
        "history = model.fit(x_train,y_train, batch_size=bs,\n",
        "                              epochs = epc, validation_data = (x_validate,y_validate),\n",
        "                              verbose = 1, callbacks=[learning_rate_reduction])"
      ],
      "metadata": {
        "id": "q9kVw-ujVCcl",
        "colab": {
          "base_uri": "https://localhost:8080/"
        },
        "outputId": "e9a7bb9e-7687-4565-e43d-e3a994ce7783"
      },
      "execution_count": 37,
      "outputs": [
        {
          "output_type": "stream",
          "name": "stdout",
          "text": [
            "Epoch 1/20\n",
            "861/861 [==============================] - 18s 21ms/step - loss: 1.0814 - accuracy: 0.4256 - val_loss: 1.0807 - val_accuracy: 0.4487 - lr: 1.0000e-05\n",
            "Epoch 2/20\n",
            "861/861 [==============================] - 17s 20ms/step - loss: 1.0816 - accuracy: 0.4225 - val_loss: 1.0806 - val_accuracy: 0.4481 - lr: 1.0000e-05\n",
            "Epoch 3/20\n",
            "861/861 [==============================] - 17s 20ms/step - loss: 1.0812 - accuracy: 0.4322 - val_loss: 1.0805 - val_accuracy: 0.4500 - lr: 1.0000e-05\n",
            "Epoch 4/20\n",
            "861/861 [==============================] - 17s 20ms/step - loss: 1.0805 - accuracy: 0.4299 - val_loss: 1.0805 - val_accuracy: 0.4494 - lr: 1.0000e-05\n",
            "Epoch 5/20\n",
            "861/861 [==============================] - 17s 20ms/step - loss: 1.0816 - accuracy: 0.4245 - val_loss: 1.0804 - val_accuracy: 0.4500 - lr: 1.0000e-05\n",
            "Epoch 6/20\n",
            "861/861 [==============================] - 17s 20ms/step - loss: 1.0800 - accuracy: 0.4317 - val_loss: 1.0803 - val_accuracy: 0.4500 - lr: 1.0000e-05\n",
            "Epoch 7/20\n",
            "861/861 [==============================] - 18s 21ms/step - loss: 1.0808 - accuracy: 0.4319 - val_loss: 1.0803 - val_accuracy: 0.4494 - lr: 1.0000e-05\n",
            "Epoch 8/20\n",
            "861/861 [==============================] - 18s 21ms/step - loss: 1.0808 - accuracy: 0.4259 - val_loss: 1.0802 - val_accuracy: 0.4487 - lr: 1.0000e-05\n",
            "Epoch 9/20\n",
            "861/861 [==============================] - 18s 20ms/step - loss: 1.0811 - accuracy: 0.4334 - val_loss: 1.0801 - val_accuracy: 0.4487 - lr: 1.0000e-05\n",
            "Epoch 10/20\n",
            "861/861 [==============================] - 17s 20ms/step - loss: 1.0802 - accuracy: 0.4250 - val_loss: 1.0801 - val_accuracy: 0.4487 - lr: 1.0000e-05\n",
            "Epoch 11/20\n",
            "861/861 [==============================] - 18s 21ms/step - loss: 1.0808 - accuracy: 0.4287 - val_loss: 1.0800 - val_accuracy: 0.4487 - lr: 1.0000e-05\n",
            "Epoch 12/20\n",
            "861/861 [==============================] - 17s 20ms/step - loss: 1.0805 - accuracy: 0.4299 - val_loss: 1.0800 - val_accuracy: 0.4494 - lr: 1.0000e-05\n",
            "Epoch 13/20\n",
            "861/861 [==============================] - 17s 20ms/step - loss: 1.0806 - accuracy: 0.4299 - val_loss: 1.0799 - val_accuracy: 0.4487 - lr: 1.0000e-05\n",
            "Epoch 14/20\n",
            "861/861 [==============================] - 17s 20ms/step - loss: 1.0799 - accuracy: 0.4321 - val_loss: 1.0798 - val_accuracy: 0.4487 - lr: 1.0000e-05\n",
            "Epoch 15/20\n",
            "861/861 [==============================] - 17s 20ms/step - loss: 1.0795 - accuracy: 0.4372 - val_loss: 1.0798 - val_accuracy: 0.4487 - lr: 1.0000e-05\n",
            "Epoch 16/20\n",
            "861/861 [==============================] - 17s 20ms/step - loss: 1.0807 - accuracy: 0.4246 - val_loss: 1.0797 - val_accuracy: 0.4481 - lr: 1.0000e-05\n",
            "Epoch 17/20\n",
            "861/861 [==============================] - 17s 20ms/step - loss: 1.0802 - accuracy: 0.4295 - val_loss: 1.0796 - val_accuracy: 0.4481 - lr: 1.0000e-05\n",
            "Epoch 18/20\n",
            "861/861 [==============================] - 17s 20ms/step - loss: 1.0797 - accuracy: 0.4297 - val_loss: 1.0796 - val_accuracy: 0.4481 - lr: 1.0000e-05\n",
            "Epoch 19/20\n",
            "861/861 [==============================] - 18s 21ms/step - loss: 1.0808 - accuracy: 0.4318 - val_loss: 1.0795 - val_accuracy: 0.4474 - lr: 1.0000e-05\n",
            "Epoch 20/20\n",
            "861/861 [==============================] - 17s 20ms/step - loss: 1.0807 - accuracy: 0.4310 - val_loss: 1.0795 - val_accuracy: 0.4487 - lr: 1.0000e-05\n"
          ]
        }
      ]
    },
    {
      "cell_type": "markdown",
      "source": [
        "80 epoch çalıştırıldı"
      ],
      "metadata": {
        "id": "WZsbpk5ApY0x"
      }
    },
    {
      "cell_type": "code",
      "source": [
        "\n",
        "import matplotlib.pyplot as plt\n",
        "\n",
        "plt.plot(history.history['accuracy'])\n",
        "plt.plot(history.history['val_accuracy'])\n",
        "plt.title('model accuracy')\n",
        "plt.ylabel('accuracy')\n",
        "plt.xlabel('epoch')\n",
        "plt.legend(['train', 'test'], loc='upper left')\n",
        "plt.show()\n",
        "plt.plot(history.history['loss'])\n",
        "plt.plot(history.history['val_loss'])\n",
        "plt.title('model loss')\n",
        "plt.ylabel('loss')\n",
        "plt.xlabel('epoch')\n",
        "plt.legend(['train', 'test'], loc='upper left')\n",
        "plt.show()"
      ],
      "metadata": {
        "id": "Xr9yWDO8VeGU",
        "colab": {
          "base_uri": "https://localhost:8080/",
          "height": 927
        },
        "outputId": "776087e2-d619-4795-8d20-2990455e9a5f"
      },
      "execution_count": 38,
      "outputs": [
        {
          "output_type": "display_data",
          "data": {
            "text/plain": [
              "<Figure size 640x480 with 1 Axes>"
            ],
            "image/png": "[encoded data removed]"
          },
          "metadata": {}
        },
        {
          "output_type": "display_data",
          "data": {
            "text/plain": [
              "<Figure size 640x480 with 1 Axes>"
            ],
            "image/png": "[encoded data removed]"
          },
          "metadata": {}
        }
      ]
    },
    {
      "cell_type": "code",
      "source": [
        "import itertools\n",
        "def plot_confusion_matrix(cm, classes,\n",
        "                          normalize=False,\n",
        "                          title='Confusion matrix',\n",
        "                          cmap=plt.cm.Blues):\n",
        "    \"\"\"\n",
        "    This function prints and plots the confusion matrix.\n",
        "    Normalization can be applied by setting `normalize=True`.\n",
        "    \"\"\"\n",
        "    plt.imshow(cm, interpolation='nearest', cmap=cmap)\n",
        "    plt.title(title)\n",
        "    plt.colorbar()\n",
        "    tick_marks = np.arange(len(classes))\n",
        "    plt.xticks(tick_marks, classes, rotation=45)\n",
        "    plt.yticks(tick_marks, classes)\n",
        "\n",
        "    if normalize:\n",
        "        cm = cm.astype('float') / cm.sum(axis=1)[:, np.newaxis]\n",
        "\n",
        "    thresh = cm.max() / 2.\n",
        "    for i, j in itertools.product(range(cm.shape[0]), range(cm.shape[1])):\n",
        "        plt.text(j, i, cm[i, j],\n",
        "                 horizontalalignment=\"center\",\n",
        "                 color=\"white\" if cm[i, j] > thresh else \"black\")\n",
        "\n",
        "    plt.tight_layout()\n",
        "    plt.ylabel('True label')\n",
        "    plt.xlabel('Predicted label')\n",
        "Y_pred = model.predict(x_test)\n",
        "Y_pred_classes = np.argmax(Y_pred,axis = 1)\n",
        "# Convert validation observations to one hot vectors\n",
        "Y_true = np.argmax(y_test,axis = 1)  #test süreci için Y_true = np.argmax(y_test,axis = 1)\n",
        "# compute the confusion matrix\n",
        "confusion_mtx = confusion_matrix(Y_true, Y_pred_classes)\n",
        "# plot the confusion matrix\n",
        "plot_confusion_matrix(confusion_mtx, classes = range(3))"
      ],
      "metadata": {
        "colab": {
          "base_uri": "https://localhost:8080/",
          "height": 523
        },
        "id": "vMjFbhU6qDm7",
        "outputId": "a93ad664-af9b-4054-c73f-d0dd5cd9c3db"
      },
      "execution_count": 39,
      "outputs": [
        {
          "output_type": "stream",
          "name": "stdout",
          "text": [
            "54/54 [==============================] - 4s 35ms/step\n"
          ]
        },
        {
          "output_type": "display_data",
          "data": {
            "text/plain": [
              "<Figure size 640x480 with 2 Axes>"
            ],
            "image/png": "[encoded data removed]"
          },
          "metadata": {}
        }
      ]
    },
    {
      "cell_type": "code",
      "source": [
        "from sklearn.metrics import classification_report\n",
        "report = classification_report(Y_true, Y_pred_classes)\n",
        "print(report)"
      ],
      "metadata": {
        "colab": {
          "base_uri": "https://localhost:8080/"
        },
        "id": "uX7nm811qRhS",
        "outputId": "b23555e2-31f7-42be-ee8e-69169bdd8be0"
      },
      "execution_count": 40,
      "outputs": [
        {
          "output_type": "stream",
          "name": "stdout",
          "text": [
            "              precision    recall  f1-score   support\n",
            "\n",
            "           0       0.40      0.19      0.26       570\n",
            "           1       0.45      0.53      0.49       539\n",
            "           2       0.43      0.58      0.49       592\n",
            "\n",
            "    accuracy                           0.43      1701\n",
            "   macro avg       0.43      0.43      0.41      1701\n",
            "weighted avg       0.43      0.43      0.41      1701\n",
            "\n"
          ]
        }
      ]
    },
    {
      "cell_type": "markdown",
      "source": [
        "# VGG16\n"
      ],
      "metadata": {
        "id": "vxNEaqSRq2uc"
      }
    },
    {
      "cell_type": "code",
      "source": [
        "from keras.applications.vgg16 import VGG16, preprocess_input\n",
        "base_model = VGG16(\n",
        "    weights=\"imagenet\",\n",
        "    include_top=False,\n",
        "    input_shape=(image_width ,image_height ,3)\n",
        "\n",
        ")\n",
        ""
      ],
      "metadata": {
        "colab": {
          "base_uri": "https://localhost:8080/"
        },
        "id": "Y8xwj4buq198",
        "outputId": "8d07f30f-a525-46d0-bf87-f4ab62b7181b"
      },
      "execution_count": 41,
      "outputs": [
        {
          "output_type": "stream",
          "name": "stdout",
          "text": [
            "Downloading data from https://storage.googleapis.com/tensorflow/keras-applications/vgg16/vgg16_weights_tf_dim_ordering_tf_kernels_notop.h5\n",
            "58889256/58889256 [==============================] - 3s 0us/step\n"
          ]
        }
      ]
    },
    {
      "cell_type": "code",
      "source": [
        "NUM_CLASSES=3\n",
        "model = Sequential()\n",
        "model.add(base_model)\n",
        "model.add(Flatten())\n",
        "model.add(Dropout(0.5))\n",
        "model.add(Dense(NUM_CLASSES, activation='softmax'))\n",
        "\n",
        "model.layers[0].trainable = False"
      ],
      "metadata": {
        "id": "qBk9XtHMqbL4"
      },
      "execution_count": 42,
      "outputs": []
    },
    {
      "cell_type": "code",
      "source": [
        "optimizer = tf.keras.optimizers.legacy.Adam(learning_rate=0.0001, beta_1=0.9, beta_2=0.999, epsilon=None, decay=0.0, amsgrad=False)\n",
        ""
      ],
      "metadata": {
        "id": "xIZvfEcLq-c_"
      },
      "execution_count": 43,
      "outputs": []
    },
    {
      "cell_type": "code",
      "source": [
        "learning_rate_reduction = ReduceLROnPlateau(monitor='val_accuracy', patience=3, verbose=1,  factor=0.5, min_lr=0.00001)"
      ],
      "metadata": {
        "id": "aIirlDN9rCfM"
      },
      "execution_count": 44,
      "outputs": []
    },
    {
      "cell_type": "code",
      "source": [
        "model.compile(optimizer = optimizer , loss = \"categorical_crossentropy\", metrics=[\"accuracy\"])"
      ],
      "metadata": {
        "id": "pm8X7mX3rE7K"
      },
      "execution_count": 45,
      "outputs": []
    },
    {
      "cell_type": "code",
      "source": [
        "epc = 100\n",
        "bs = 32"
      ],
      "metadata": {
        "id": "WZXeejH2rHLB"
      },
      "execution_count": 47,
      "outputs": []
    },
    {
      "cell_type": "code",
      "source": [
        "history = model.fit(x_train,y_train, batch_size=bs,\n",
        "                              epochs = epc, validation_data = (x_validate,y_validate),\n",
        "                              verbose = 1, callbacks=[learning_rate_reduction])"
      ],
      "metadata": {
        "colab": {
          "base_uri": "https://localhost:8080/"
        },
        "id": "uH9h5GKirKiv",
        "outputId": "90c1d4bb-0633-47f3-965c-2f91bd923aa1"
      },
      "execution_count": 48,
      "outputs": [
        {
          "output_type": "stream",
          "name": "stdout",
          "text": [
            "Epoch 1/100\n",
            "431/431 [==============================] - 24s 49ms/step - loss: 6.8376 - accuracy: 0.3974 - val_loss: 3.3158 - val_accuracy: 0.4964 - lr: 1.0000e-04\n",
            "Epoch 2/100\n",
            "431/431 [==============================] - 18s 41ms/step - loss: 4.9803 - accuracy: 0.4660 - val_loss: 2.7887 - val_accuracy: 0.5212 - lr: 1.0000e-04\n",
            "Epoch 3/100\n",
            "431/431 [==============================] - 18s 41ms/step - loss: 3.9291 - accuracy: 0.5115 - val_loss: 2.7669 - val_accuracy: 0.5284 - lr: 1.0000e-04\n",
            "Epoch 4/100\n",
            "431/431 [==============================] - 18s 41ms/step - loss: 3.2712 - accuracy: 0.5456 - val_loss: 2.5528 - val_accuracy: 0.5284 - lr: 1.0000e-04\n",
            "Epoch 5/100\n",
            "431/431 [==============================] - 18s 41ms/step - loss: 2.7651 - accuracy: 0.5730 - val_loss: 2.4073 - val_accuracy: 0.5369 - lr: 1.0000e-04\n",
            "Epoch 6/100\n",
            "431/431 [==============================] - 18s 41ms/step - loss: 2.4498 - accuracy: 0.5905 - val_loss: 2.3413 - val_accuracy: 0.5304 - lr: 1.0000e-04\n",
            "Epoch 7/100\n",
            "431/431 [==============================] - 18s 41ms/step - loss: 2.1879 - accuracy: 0.6153 - val_loss: 2.5167 - val_accuracy: 0.5323 - lr: 1.0000e-04\n",
            "Epoch 8/100\n",
            "431/431 [==============================] - 18s 41ms/step - loss: 1.9707 - accuracy: 0.6318 - val_loss: 2.1806 - val_accuracy: 0.5474 - lr: 1.0000e-04\n",
            "Epoch 9/100\n",
            "431/431 [==============================] - 18s 41ms/step - loss: 1.8081 - accuracy: 0.6464 - val_loss: 2.2541 - val_accuracy: 0.5349 - lr: 1.0000e-04\n",
            "Epoch 10/100\n",
            "431/431 [==============================] - 18s 41ms/step - loss: 1.7225 - accuracy: 0.6568 - val_loss: 2.4522 - val_accuracy: 0.5552 - lr: 1.0000e-04\n",
            "Epoch 11/100\n",
            "431/431 [==============================] - 18s 41ms/step - loss: 1.6397 - accuracy: 0.6657 - val_loss: 2.2828 - val_accuracy: 0.5376 - lr: 1.0000e-04\n",
            "Epoch 12/100\n",
            "431/431 [==============================] - 18s 41ms/step - loss: 1.5598 - accuracy: 0.6742 - val_loss: 2.2653 - val_accuracy: 0.5408 - lr: 1.0000e-04\n",
            "Epoch 13/100\n",
            "431/431 [==============================] - ETA: 0s - loss: 1.5150 - accuracy: 0.6781\n",
            "Epoch 13: ReduceLROnPlateau reducing learning rate to 4.999999873689376e-05.\n",
            "431/431 [==============================] - 18s 41ms/step - loss: 1.5150 - accuracy: 0.6781 - val_loss: 2.1797 - val_accuracy: 0.5487 - lr: 1.0000e-04\n",
            "Epoch 14/100\n",
            "431/431 [==============================] - 18s 41ms/step - loss: 1.3079 - accuracy: 0.7059 - val_loss: 2.0600 - val_accuracy: 0.5467 - lr: 5.0000e-05\n",
            "Epoch 15/100\n",
            "431/431 [==============================] - 18s 41ms/step - loss: 1.2161 - accuracy: 0.7035 - val_loss: 2.1601 - val_accuracy: 0.5552 - lr: 5.0000e-05\n",
            "Epoch 16/100\n",
            "431/431 [==============================] - ETA: 0s - loss: 1.1724 - accuracy: 0.7108\n",
            "Epoch 16: ReduceLROnPlateau reducing learning rate to 2.499999936844688e-05.\n",
            "431/431 [==============================] - 18s 41ms/step - loss: 1.1724 - accuracy: 0.7108 - val_loss: 2.0871 - val_accuracy: 0.5454 - lr: 5.0000e-05\n",
            "Epoch 17/100\n",
            "431/431 [==============================] - 18s 41ms/step - loss: 1.0596 - accuracy: 0.7275 - val_loss: 1.9899 - val_accuracy: 0.5415 - lr: 2.5000e-05\n",
            "Epoch 18/100\n",
            "431/431 [==============================] - 18s 41ms/step - loss: 1.0276 - accuracy: 0.7377 - val_loss: 2.0012 - val_accuracy: 0.5519 - lr: 2.5000e-05\n",
            "Epoch 19/100\n",
            "431/431 [==============================] - ETA: 0s - loss: 1.0153 - accuracy: 0.7364\n",
            "Epoch 19: ReduceLROnPlateau reducing learning rate to 1.249999968422344e-05.\n",
            "431/431 [==============================] - 18s 41ms/step - loss: 1.0153 - accuracy: 0.7364 - val_loss: 1.9834 - val_accuracy: 0.5474 - lr: 2.5000e-05\n",
            "Epoch 20/100\n",
            "431/431 [==============================] - 18s 41ms/step - loss: 0.9179 - accuracy: 0.7497 - val_loss: 1.9464 - val_accuracy: 0.5487 - lr: 1.2500e-05\n",
            "Epoch 21/100\n",
            "431/431 [==============================] - 18s 41ms/step - loss: 0.9297 - accuracy: 0.7397 - val_loss: 1.9330 - val_accuracy: 0.5617 - lr: 1.2500e-05\n",
            "Epoch 22/100\n",
            "431/431 [==============================] - 18s 41ms/step - loss: 0.8910 - accuracy: 0.7470 - val_loss: 1.8876 - val_accuracy: 0.5539 - lr: 1.2500e-05\n",
            "Epoch 23/100\n",
            "431/431 [==============================] - 18s 41ms/step - loss: 0.8880 - accuracy: 0.7524 - val_loss: 1.9070 - val_accuracy: 0.5585 - lr: 1.2500e-05\n",
            "Epoch 24/100\n",
            "431/431 [==============================] - ETA: 0s - loss: 0.8603 - accuracy: 0.7529\n",
            "Epoch 24: ReduceLROnPlateau reducing learning rate to 1e-05.\n",
            "431/431 [==============================] - 18s 41ms/step - loss: 0.8603 - accuracy: 0.7529 - val_loss: 1.8967 - val_accuracy: 0.5513 - lr: 1.2500e-05\n",
            "Epoch 25/100\n",
            "431/431 [==============================] - 18s 41ms/step - loss: 0.8327 - accuracy: 0.7592 - val_loss: 1.8734 - val_accuracy: 0.5513 - lr: 1.0000e-05\n",
            "Epoch 26/100\n",
            "431/431 [==============================] - 18s 41ms/step - loss: 0.8526 - accuracy: 0.7526 - val_loss: 1.8751 - val_accuracy: 0.5480 - lr: 1.0000e-05\n",
            "Epoch 27/100\n",
            "431/431 [==============================] - 18s 41ms/step - loss: 0.8424 - accuracy: 0.7579 - val_loss: 1.8452 - val_accuracy: 0.5532 - lr: 1.0000e-05\n",
            "Epoch 28/100\n",
            "431/431 [==============================] - 18s 41ms/step - loss: 0.8382 - accuracy: 0.7566 - val_loss: 1.8672 - val_accuracy: 0.5539 - lr: 1.0000e-05\n",
            "Epoch 29/100\n",
            "431/431 [==============================] - 18s 41ms/step - loss: 0.8175 - accuracy: 0.7615 - val_loss: 1.8498 - val_accuracy: 0.5487 - lr: 1.0000e-05\n",
            "Epoch 30/100\n",
            "431/431 [==============================] - 18s 41ms/step - loss: 0.7947 - accuracy: 0.7633 - val_loss: 1.8861 - val_accuracy: 0.5487 - lr: 1.0000e-05\n",
            "Epoch 31/100\n",
            "431/431 [==============================] - 18s 41ms/step - loss: 0.7861 - accuracy: 0.7633 - val_loss: 1.8535 - val_accuracy: 0.5532 - lr: 1.0000e-05\n",
            "Epoch 32/100\n",
            "431/431 [==============================] - 18s 41ms/step - loss: 0.7984 - accuracy: 0.7638 - val_loss: 1.8273 - val_accuracy: 0.5428 - lr: 1.0000e-05\n",
            "Epoch 33/100\n",
            "431/431 [==============================] - 18s 41ms/step - loss: 0.7841 - accuracy: 0.7650 - val_loss: 1.8226 - val_accuracy: 0.5552 - lr: 1.0000e-05\n",
            "Epoch 34/100\n",
            "431/431 [==============================] - 18s 41ms/step - loss: 0.7646 - accuracy: 0.7734 - val_loss: 1.8128 - val_accuracy: 0.5434 - lr: 1.0000e-05\n",
            "Epoch 35/100\n",
            "431/431 [==============================] - 18s 41ms/step - loss: 0.7478 - accuracy: 0.7699 - val_loss: 1.8095 - val_accuracy: 0.5454 - lr: 1.0000e-05\n",
            "Epoch 36/100\n",
            "431/431 [==============================] - 18s 41ms/step - loss: 0.7540 - accuracy: 0.7688 - val_loss: 1.8081 - val_accuracy: 0.5447 - lr: 1.0000e-05\n",
            "Epoch 37/100\n",
            "431/431 [==============================] - 18s 41ms/step - loss: 0.7446 - accuracy: 0.7746 - val_loss: 1.8153 - val_accuracy: 0.5539 - lr: 1.0000e-05\n",
            "Epoch 38/100\n",
            "431/431 [==============================] - 18s 41ms/step - loss: 0.7244 - accuracy: 0.7728 - val_loss: 1.8010 - val_accuracy: 0.5506 - lr: 1.0000e-05\n",
            "Epoch 39/100\n",
            "431/431 [==============================] - 18s 41ms/step - loss: 0.7168 - accuracy: 0.7763 - val_loss: 1.7697 - val_accuracy: 0.5526 - lr: 1.0000e-05\n",
            "Epoch 40/100\n",
            "431/431 [==============================] - 18s 41ms/step - loss: 0.7344 - accuracy: 0.7685 - val_loss: 1.7650 - val_accuracy: 0.5539 - lr: 1.0000e-05\n",
            "Epoch 41/100\n",
            "431/431 [==============================] - 18s 41ms/step - loss: 0.7388 - accuracy: 0.7756 - val_loss: 1.7476 - val_accuracy: 0.5552 - lr: 1.0000e-05\n",
            "Epoch 42/100\n",
            "431/431 [==============================] - 18s 41ms/step - loss: 0.7047 - accuracy: 0.7813 - val_loss: 1.7626 - val_accuracy: 0.5539 - lr: 1.0000e-05\n",
            "Epoch 43/100\n",
            "431/431 [==============================] - 18s 41ms/step - loss: 0.7133 - accuracy: 0.7739 - val_loss: 1.7854 - val_accuracy: 0.5434 - lr: 1.0000e-05\n",
            "Epoch 44/100\n",
            "431/431 [==============================] - 18s 41ms/step - loss: 0.7055 - accuracy: 0.7744 - val_loss: 1.7601 - val_accuracy: 0.5513 - lr: 1.0000e-05\n",
            "Epoch 45/100\n",
            "431/431 [==============================] - 18s 41ms/step - loss: 0.6980 - accuracy: 0.7773 - val_loss: 1.7502 - val_accuracy: 0.5545 - lr: 1.0000e-05\n",
            "Epoch 46/100\n",
            "431/431 [==============================] - 18s 41ms/step - loss: 0.7027 - accuracy: 0.7720 - val_loss: 1.7578 - val_accuracy: 0.5539 - lr: 1.0000e-05\n",
            "Epoch 47/100\n",
            "431/431 [==============================] - 18s 41ms/step - loss: 0.6693 - accuracy: 0.7845 - val_loss: 1.7599 - val_accuracy: 0.5526 - lr: 1.0000e-05\n",
            "Epoch 48/100\n",
            "431/431 [==============================] - 18s 41ms/step - loss: 0.6949 - accuracy: 0.7752 - val_loss: 1.7499 - val_accuracy: 0.5506 - lr: 1.0000e-05\n",
            "Epoch 49/100\n",
            "431/431 [==============================] - 18s 41ms/step - loss: 0.6782 - accuracy: 0.7827 - val_loss: 1.7562 - val_accuracy: 0.5428 - lr: 1.0000e-05\n",
            "Epoch 50/100\n",
            "431/431 [==============================] - 18s 41ms/step - loss: 0.6681 - accuracy: 0.7803 - val_loss: 1.7588 - val_accuracy: 0.5467 - lr: 1.0000e-05\n",
            "Epoch 51/100\n",
            "431/431 [==============================] - 18s 41ms/step - loss: 0.6767 - accuracy: 0.7782 - val_loss: 1.7323 - val_accuracy: 0.5474 - lr: 1.0000e-05\n",
            "Epoch 52/100\n",
            "431/431 [==============================] - 18s 41ms/step - loss: 0.6622 - accuracy: 0.7850 - val_loss: 1.7411 - val_accuracy: 0.5454 - lr: 1.0000e-05\n",
            "Epoch 53/100\n",
            "431/431 [==============================] - 18s 41ms/step - loss: 0.6594 - accuracy: 0.7842 - val_loss: 1.7272 - val_accuracy: 0.5428 - lr: 1.0000e-05\n",
            "Epoch 54/100\n",
            "431/431 [==============================] - 18s 41ms/step - loss: 0.6726 - accuracy: 0.7798 - val_loss: 1.7520 - val_accuracy: 0.5500 - lr: 1.0000e-05\n",
            "Epoch 55/100\n",
            "431/431 [==============================] - 18s 41ms/step - loss: 0.6800 - accuracy: 0.7784 - val_loss: 1.7169 - val_accuracy: 0.5506 - lr: 1.0000e-05\n",
            "Epoch 56/100\n",
            "431/431 [==============================] - 18s 41ms/step - loss: 0.6584 - accuracy: 0.7876 - val_loss: 1.7287 - val_accuracy: 0.5487 - lr: 1.0000e-05\n",
            "Epoch 57/100\n",
            "431/431 [==============================] - 18s 41ms/step - loss: 0.6508 - accuracy: 0.7827 - val_loss: 1.7142 - val_accuracy: 0.5565 - lr: 1.0000e-05\n",
            "Epoch 58/100\n",
            "431/431 [==============================] - 18s 43ms/step - loss: 0.6554 - accuracy: 0.7834 - val_loss: 1.7120 - val_accuracy: 0.5460 - lr: 1.0000e-05\n",
            "Epoch 59/100\n",
            "431/431 [==============================] - 18s 41ms/step - loss: 0.6546 - accuracy: 0.7853 - val_loss: 1.7032 - val_accuracy: 0.5513 - lr: 1.0000e-05\n",
            "Epoch 60/100\n",
            "431/431 [==============================] - 18s 41ms/step - loss: 0.6513 - accuracy: 0.7867 - val_loss: 1.6978 - val_accuracy: 0.5637 - lr: 1.0000e-05\n",
            "Epoch 61/100\n",
            "431/431 [==============================] - 18s 41ms/step - loss: 0.6260 - accuracy: 0.7892 - val_loss: 1.7002 - val_accuracy: 0.5493 - lr: 1.0000e-05\n",
            "Epoch 62/100\n",
            "431/431 [==============================] - 18s 41ms/step - loss: 0.6484 - accuracy: 0.7814 - val_loss: 1.6885 - val_accuracy: 0.5493 - lr: 1.0000e-05\n",
            "Epoch 63/100\n",
            "431/431 [==============================] - 18s 41ms/step - loss: 0.6240 - accuracy: 0.7903 - val_loss: 1.6946 - val_accuracy: 0.5434 - lr: 1.0000e-05\n",
            "Epoch 64/100\n",
            "431/431 [==============================] - 18s 41ms/step - loss: 0.6104 - accuracy: 0.7927 - val_loss: 1.6929 - val_accuracy: 0.5591 - lr: 1.0000e-05\n",
            "Epoch 65/100\n",
            "431/431 [==============================] - 18s 41ms/step - loss: 0.6024 - accuracy: 0.7929 - val_loss: 1.6686 - val_accuracy: 0.5454 - lr: 1.0000e-05\n",
            "Epoch 66/100\n",
            "431/431 [==============================] - 18s 41ms/step - loss: 0.6139 - accuracy: 0.7922 - val_loss: 1.6494 - val_accuracy: 0.5519 - lr: 1.0000e-05\n",
            "Epoch 67/100\n",
            "431/431 [==============================] - 18s 41ms/step - loss: 0.6086 - accuracy: 0.7883 - val_loss: 1.6644 - val_accuracy: 0.5526 - lr: 1.0000e-05\n",
            "Epoch 68/100\n",
            "431/431 [==============================] - 18s 41ms/step - loss: 0.5989 - accuracy: 0.7927 - val_loss: 1.6547 - val_accuracy: 0.5526 - lr: 1.0000e-05\n",
            "Epoch 69/100\n",
            "431/431 [==============================] - 18s 41ms/step - loss: 0.6079 - accuracy: 0.7907 - val_loss: 1.6473 - val_accuracy: 0.5506 - lr: 1.0000e-05\n",
            "Epoch 70/100\n",
            "431/431 [==============================] - 18s 41ms/step - loss: 0.6145 - accuracy: 0.7872 - val_loss: 1.6400 - val_accuracy: 0.5591 - lr: 1.0000e-05\n",
            "Epoch 71/100\n",
            "431/431 [==============================] - 18s 41ms/step - loss: 0.6151 - accuracy: 0.7875 - val_loss: 1.6562 - val_accuracy: 0.5572 - lr: 1.0000e-05\n",
            "Epoch 72/100\n",
            "431/431 [==============================] - 18s 41ms/step - loss: 0.6094 - accuracy: 0.7884 - val_loss: 1.6395 - val_accuracy: 0.5545 - lr: 1.0000e-05\n",
            "Epoch 73/100\n",
            "431/431 [==============================] - 18s 41ms/step - loss: 0.6049 - accuracy: 0.7935 - val_loss: 1.6649 - val_accuracy: 0.5513 - lr: 1.0000e-05\n",
            "Epoch 74/100\n",
            "431/431 [==============================] - 18s 41ms/step - loss: 0.5898 - accuracy: 0.7933 - val_loss: 1.6254 - val_accuracy: 0.5460 - lr: 1.0000e-05\n",
            "Epoch 75/100\n",
            "431/431 [==============================] - 18s 41ms/step - loss: 0.5998 - accuracy: 0.7927 - val_loss: 1.6294 - val_accuracy: 0.5506 - lr: 1.0000e-05\n",
            "Epoch 76/100\n",
            "431/431 [==============================] - 18s 41ms/step - loss: 0.5953 - accuracy: 0.7890 - val_loss: 1.6388 - val_accuracy: 0.5578 - lr: 1.0000e-05\n",
            "Epoch 77/100\n",
            "431/431 [==============================] - 18s 41ms/step - loss: 0.5938 - accuracy: 0.7899 - val_loss: 1.6352 - val_accuracy: 0.5526 - lr: 1.0000e-05\n",
            "Epoch 78/100\n",
            "431/431 [==============================] - 18s 41ms/step - loss: 0.6005 - accuracy: 0.7903 - val_loss: 1.6576 - val_accuracy: 0.5617 - lr: 1.0000e-05\n",
            "Epoch 79/100\n",
            "431/431 [==============================] - 18s 41ms/step - loss: 0.5704 - accuracy: 0.7988 - val_loss: 1.6126 - val_accuracy: 0.5578 - lr: 1.0000e-05\n",
            "Epoch 80/100\n",
            "431/431 [==============================] - 18s 41ms/step - loss: 0.5790 - accuracy: 0.7952 - val_loss: 1.6189 - val_accuracy: 0.5578 - lr: 1.0000e-05\n",
            "Epoch 81/100\n",
            "431/431 [==============================] - 18s 41ms/step - loss: 0.5899 - accuracy: 0.7915 - val_loss: 1.6002 - val_accuracy: 0.5604 - lr: 1.0000e-05\n",
            "Epoch 82/100\n",
            "431/431 [==============================] - 18s 41ms/step - loss: 0.5736 - accuracy: 0.7946 - val_loss: 1.6026 - val_accuracy: 0.5578 - lr: 1.0000e-05\n",
            "Epoch 83/100\n",
            "431/431 [==============================] - 18s 41ms/step - loss: 0.5841 - accuracy: 0.7998 - val_loss: 1.5833 - val_accuracy: 0.5552 - lr: 1.0000e-05\n",
            "Epoch 84/100\n",
            "431/431 [==============================] - 18s 41ms/step - loss: 0.5585 - accuracy: 0.8005 - val_loss: 1.5813 - val_accuracy: 0.5578 - lr: 1.0000e-05\n",
            "Epoch 85/100\n",
            "431/431 [==============================] - 18s 41ms/step - loss: 0.5666 - accuracy: 0.7979 - val_loss: 1.5767 - val_accuracy: 0.5604 - lr: 1.0000e-05\n",
            "Epoch 86/100\n",
            "431/431 [==============================] - 18s 41ms/step - loss: 0.5506 - accuracy: 0.8016 - val_loss: 1.5920 - val_accuracy: 0.5637 - lr: 1.0000e-05\n",
            "Epoch 87/100\n",
            "431/431 [==============================] - 18s 41ms/step - loss: 0.5684 - accuracy: 0.7991 - val_loss: 1.6021 - val_accuracy: 0.5513 - lr: 1.0000e-05\n",
            "Epoch 88/100\n",
            "431/431 [==============================] - 18s 41ms/step - loss: 0.5543 - accuracy: 0.7995 - val_loss: 1.5845 - val_accuracy: 0.5617 - lr: 1.0000e-05\n",
            "Epoch 89/100\n",
            "431/431 [==============================] - 18s 41ms/step - loss: 0.5681 - accuracy: 0.8003 - val_loss: 1.5869 - val_accuracy: 0.5578 - lr: 1.0000e-05\n",
            "Epoch 90/100\n",
            "431/431 [==============================] - 18s 41ms/step - loss: 0.5381 - accuracy: 0.8029 - val_loss: 1.5686 - val_accuracy: 0.5604 - lr: 1.0000e-05\n",
            "Epoch 91/100\n",
            "431/431 [==============================] - 18s 41ms/step - loss: 0.5624 - accuracy: 0.7974 - val_loss: 1.5811 - val_accuracy: 0.5545 - lr: 1.0000e-05\n",
            "Epoch 92/100\n",
            "431/431 [==============================] - 18s 41ms/step - loss: 0.5637 - accuracy: 0.7990 - val_loss: 1.5789 - val_accuracy: 0.5545 - lr: 1.0000e-05\n",
            "Epoch 93/100\n",
            "431/431 [==============================] - 18s 41ms/step - loss: 0.5560 - accuracy: 0.8013 - val_loss: 1.5644 - val_accuracy: 0.5585 - lr: 1.0000e-05\n",
            "Epoch 94/100\n",
            "431/431 [==============================] - 18s 42ms/step - loss: 0.5473 - accuracy: 0.7980 - val_loss: 1.5561 - val_accuracy: 0.5539 - lr: 1.0000e-05\n",
            "Epoch 95/100\n",
            "431/431 [==============================] - 18s 41ms/step - loss: 0.5471 - accuracy: 0.8000 - val_loss: 1.5528 - val_accuracy: 0.5604 - lr: 1.0000e-05\n",
            "Epoch 96/100\n",
            "431/431 [==============================] - 18s 41ms/step - loss: 0.5427 - accuracy: 0.8070 - val_loss: 1.5559 - val_accuracy: 0.5500 - lr: 1.0000e-05\n",
            "Epoch 97/100\n",
            "431/431 [==============================] - 18s 42ms/step - loss: 0.5614 - accuracy: 0.7996 - val_loss: 1.5587 - val_accuracy: 0.5591 - lr: 1.0000e-05\n",
            "Epoch 98/100\n",
            "431/431 [==============================] - 18s 41ms/step - loss: 0.5499 - accuracy: 0.8031 - val_loss: 1.5589 - val_accuracy: 0.5611 - lr: 1.0000e-05\n",
            "Epoch 99/100\n",
            "431/431 [==============================] - 18s 41ms/step - loss: 0.5483 - accuracy: 0.8029 - val_loss: 1.5496 - val_accuracy: 0.5702 - lr: 1.0000e-05\n",
            "Epoch 100/100\n",
            "431/431 [==============================] - 18s 41ms/step - loss: 0.5480 - accuracy: 0.8020 - val_loss: 1.5519 - val_accuracy: 0.5624 - lr: 1.0000e-05\n"
          ]
        }
      ]
    },
    {
      "cell_type": "code",
      "source": [
        "def plot_confusion_matrix(cm, classes,\n",
        "                          normalize=False,\n",
        "                          title='Confusion matrix',\n",
        "                          cmap=plt.cm.Blues):\n",
        "    \"\"\"\n",
        "    This function prints and plots the confusion matrix.\n",
        "    Normalization can be applied by setting `normalize=True`.\n",
        "    \"\"\"\n",
        "    plt.imshow(cm, interpolation='nearest', cmap=cmap)\n",
        "    plt.title(title)\n",
        "    plt.colorbar()\n",
        "    tick_marks = np.arange(len(classes))\n",
        "    plt.xticks(tick_marks, classes, rotation=45)\n",
        "    plt.yticks(tick_marks, classes)\n",
        "\n",
        "    if normalize:\n",
        "        cm = cm.astype('float') / cm.sum(axis=1)[:, np.newaxis]\n",
        "\n",
        "    thresh = cm.max() / 2.\n",
        "    for i, j in itertools.product(range(cm.shape[0]), range(cm.shape[1])):\n",
        "        plt.text(j, i, cm[i, j],\n",
        "                 horizontalalignment=\"center\",\n",
        "                 color=\"white\" if cm[i, j] > thresh else \"black\")\n",
        "\n",
        "    plt.tight_layout()\n",
        "    plt.ylabel('True label')\n",
        "    plt.xlabel('Predicted label')\n",
        "Y_pred = model.predict(x_test)\n",
        "Y_pred_classes = np.argmax(Y_pred,axis = 1)\n",
        "# Convert validation observations to one hot vectors\n",
        "Y_true = np.argmax(y_test,axis = 1)  #test süreci için Y_true = np.argmax(y_test,axis = 1)\n",
        "# compute the confusion matrix\n",
        "confusion_mtx = confusion_matrix(Y_true, Y_pred_classes)\n",
        "# plot the confusion matrix\n",
        "plot_confusion_matrix(confusion_mtx, classes = range(3))"
      ],
      "metadata": {
        "colab": {
          "base_uri": "https://localhost:8080/",
          "height": 523
        },
        "id": "XYx5YXDwrShw",
        "outputId": "0e46b8fc-87ed-481f-dba7-6eceea038179"
      },
      "execution_count": 49,
      "outputs": [
        {
          "output_type": "stream",
          "name": "stdout",
          "text": [
            "54/54 [==============================] - 3s 46ms/step\n"
          ]
        },
        {
          "output_type": "display_data",
          "data": {
            "text/plain": [
              "<Figure size 640x480 with 2 Axes>"
            ],
            "image/png": "[encoded data removed]"
          },
          "metadata": {}
        }
      ]
    },
    {
      "cell_type": "code",
      "source": [
        "report = classification_report(Y_true, Y_pred_classes)\n",
        "print(report)"
      ],
      "metadata": {
        "colab": {
          "base_uri": "https://localhost:8080/"
        },
        "id": "Cs_FYUeXyjvj",
        "outputId": "3c46d596-05d3-40b5-a655-081968844b72"
      },
      "execution_count": 50,
      "outputs": [
        {
          "output_type": "stream",
          "name": "stdout",
          "text": [
            "              precision    recall  f1-score   support\n",
            "\n",
            "           0       0.49      0.42      0.46       570\n",
            "           1       0.62      0.62      0.62       539\n",
            "           2       0.56      0.63      0.60       592\n",
            "\n",
            "    accuracy                           0.56      1701\n",
            "   macro avg       0.56      0.56      0.56      1701\n",
            "weighted avg       0.56      0.56      0.56      1701\n",
            "\n"
          ]
        }
      ]
    },
    {
      "cell_type": "code",
      "source": [
        "plt.plot(history.history['accuracy'])\n",
        "plt.plot(history.history['val_accuracy'])\n",
        "plt.title('model accuracy')\n",
        "plt.ylabel('accuracy')\n",
        "plt.xlabel('epoch')\n",
        "plt.legend(['train', 'test'], loc='upper left')\n",
        "plt.show()\n",
        "plt.plot(history.history['loss'])\n",
        "plt.plot(history.history['val_loss'])\n",
        "plt.title('model loss')\n",
        "plt.ylabel('loss')\n",
        "plt.xlabel('epoch')\n",
        "plt.legend(['train', 'test'], loc='upper left')\n",
        "plt.show()"
      ],
      "metadata": {
        "colab": {
          "base_uri": "https://localhost:8080/",
          "height": 927
        },
        "id": "LdHVMpXEyolU",
        "outputId": "24bee820-ef4e-4830-9fae-457d4591c89b"
      },
      "execution_count": 51,
      "outputs": [
        {
          "output_type": "display_data",
          "data": {
            "text/plain": [
              "<Figure size 640x480 with 1 Axes>"
            ],
            "image/png": "[encoded data removed]"
          },
          "metadata": {}
        },
        {
          "output_type": "display_data",
          "data": {
            "text/plain": [
              "<Figure size 640x480 with 1 Axes>"
            ],
            "image/png": "[encoded data removed]"
          },
          "metadata": {}
        }
      ]
    },
    {
      "cell_type": "markdown",
      "source": [
        "# MobileNet"
      ],
      "metadata": {
        "id": "ZIgZqLkN0fud"
      }
    },
    {
      "cell_type": "code",
      "source": [
        "base_model = keras.applications.MobileNet(\n",
        "    input_shape=None,\n",
        "    alpha=1.0,\n",
        "    depth_multiplier=1,\n",
        "    dropout=0.001,\n",
        "    include_top=True,\n",
        "    weights=\"imagenet\",\n",
        "    input_tensor=None,\n",
        "    pooling=None,\n",
        "    classes=1000,\n",
        "    classifier_activation=\"softmax\",\n",
        ")"
      ],
      "metadata": {
        "colab": {
          "base_uri": "https://localhost:8080/"
        },
        "id": "yz1qYUAEywFo",
        "outputId": "b1aff54c-829d-4a04-dc93-2baeffe44d87"
      },
      "execution_count": 62,
      "outputs": [
        {
          "output_type": "stream",
          "name": "stdout",
          "text": [
            "Downloading data from https://storage.googleapis.com/tensorflow/keras-applications/mobilenet/mobilenet_1_0_224_tf.h5\n",
            "17225924/17225924 [==============================] - 1s 0us/step\n"
          ]
        }
      ]
    },
    {
      "cell_type": "code",
      "source": [
        "NUM_CLASSES=3\n",
        "model = Sequential()\n",
        "model.add(base_model)\n",
        "model.add(Flatten())\n",
        "model.add(Dropout(0.5))\n",
        "model.add(Dense(NUM_CLASSES, activation='softmax'))\n",
        "\n",
        "model.layers[0].trainable = False"
      ],
      "metadata": {
        "id": "2qSw2u_60rBD"
      },
      "execution_count": 63,
      "outputs": []
    },
    {
      "cell_type": "code",
      "source": [
        "optimizer = tf.keras.optimizers.legacy.Adam(learning_rate=0.0001, beta_1=0.9, beta_2=0.999, epsilon=None, decay=0.0, amsgrad=False)\n",
        ""
      ],
      "metadata": {
        "id": "p43gG2Iv05Eg"
      },
      "execution_count": 64,
      "outputs": []
    },
    {
      "cell_type": "code",
      "source": [
        "learning_rate_reduction = ReduceLROnPlateau(monitor='val_accuracy', patience=3, verbose=1,  factor=0.5, min_lr=0.00001)"
      ],
      "metadata": {
        "id": "cRQJMg_p0-BI"
      },
      "execution_count": 65,
      "outputs": []
    },
    {
      "cell_type": "code",
      "source": [
        "model.compile(optimizer = optimizer , loss = \"categorical_crossentropy\", metrics=[\"accuracy\"])"
      ],
      "metadata": {
        "id": "JR0OcbNv1BoR"
      },
      "execution_count": 66,
      "outputs": []
    },
    {
      "cell_type": "code",
      "source": [
        "epc = 50\n",
        "bs = 32"
      ],
      "metadata": {
        "id": "uA1UT9yN1Fo5"
      },
      "execution_count": 67,
      "outputs": []
    },
    {
      "cell_type": "code",
      "source": [
        "history = model.fit(x_train,y_train, batch_size=bs,\n",
        "                              epochs = epc, validation_data = (x_validate,y_validate),\n",
        "                              verbose = 1, callbacks=[learning_rate_reduction])"
      ],
      "metadata": {
        "colab": {
          "base_uri": "https://localhost:8080/"
        },
        "id": "Rhn8IIV_1PM9",
        "outputId": "6b2d2f1b-7856-4ef8-eda5-431fa2b6a8fa"
      },
      "execution_count": 68,
      "outputs": [
        {
          "output_type": "stream",
          "name": "stdout",
          "text": [
            "Epoch 1/50\n",
            "431/431 [==============================] - 9s 18ms/step - loss: 1.0991 - accuracy: 0.3274 - val_loss: 1.0991 - val_accuracy: 0.3312 - lr: 1.0000e-04\n",
            "Epoch 2/50\n",
            "431/431 [==============================] - 6s 15ms/step - loss: 1.0986 - accuracy: 0.3381 - val_loss: 1.0988 - val_accuracy: 0.3449 - lr: 1.0000e-04\n",
            "Epoch 3/50\n",
            "431/431 [==============================] - 6s 15ms/step - loss: 1.0984 - accuracy: 0.3404 - val_loss: 1.0986 - val_accuracy: 0.3396 - lr: 1.0000e-04\n",
            "Epoch 4/50\n",
            "431/431 [==============================] - 6s 15ms/step - loss: 1.0981 - accuracy: 0.3466 - val_loss: 1.0984 - val_accuracy: 0.3462 - lr: 1.0000e-04\n",
            "Epoch 5/50\n",
            "431/431 [==============================] - 6s 15ms/step - loss: 1.0974 - accuracy: 0.3526 - val_loss: 1.0982 - val_accuracy: 0.3462 - lr: 1.0000e-04\n",
            "Epoch 6/50\n",
            "431/431 [==============================] - 7s 15ms/step - loss: 1.0975 - accuracy: 0.3556 - val_loss: 1.0981 - val_accuracy: 0.3462 - lr: 1.0000e-04\n",
            "Epoch 7/50\n",
            "429/431 [============================>.] - ETA: 0s - loss: 1.0974 - accuracy: 0.3523\n",
            "Epoch 7: ReduceLROnPlateau reducing learning rate to 4.999999873689376e-05.\n",
            "431/431 [==============================] - 6s 15ms/step - loss: 1.0975 - accuracy: 0.3522 - val_loss: 1.0979 - val_accuracy: 0.3396 - lr: 1.0000e-04\n",
            "Epoch 8/50\n",
            "431/431 [==============================] - 6s 15ms/step - loss: 1.0974 - accuracy: 0.3547 - val_loss: 1.0978 - val_accuracy: 0.3410 - lr: 5.0000e-05\n",
            "Epoch 9/50\n",
            "431/431 [==============================] - 7s 15ms/step - loss: 1.0971 - accuracy: 0.3570 - val_loss: 1.0978 - val_accuracy: 0.3410 - lr: 5.0000e-05\n",
            "Epoch 10/50\n",
            "429/431 [============================>.] - ETA: 0s - loss: 1.0973 - accuracy: 0.3515\n",
            "Epoch 10: ReduceLROnPlateau reducing learning rate to 2.499999936844688e-05.\n",
            "431/431 [==============================] - 6s 15ms/step - loss: 1.0973 - accuracy: 0.3516 - val_loss: 1.0977 - val_accuracy: 0.3396 - lr: 5.0000e-05\n",
            "Epoch 11/50\n",
            "431/431 [==============================] - 6s 15ms/step - loss: 1.0972 - accuracy: 0.3549 - val_loss: 1.0977 - val_accuracy: 0.3390 - lr: 2.5000e-05\n",
            "Epoch 12/50\n",
            "431/431 [==============================] - 6s 15ms/step - loss: 1.0971 - accuracy: 0.3552 - val_loss: 1.0976 - val_accuracy: 0.3390 - lr: 2.5000e-05\n",
            "Epoch 13/50\n",
            "429/431 [============================>.] - ETA: 0s - loss: 1.0972 - accuracy: 0.3552\n",
            "Epoch 13: ReduceLROnPlateau reducing learning rate to 1.249999968422344e-05.\n",
            "431/431 [==============================] - 7s 16ms/step - loss: 1.0972 - accuracy: 0.3554 - val_loss: 1.0976 - val_accuracy: 0.3383 - lr: 2.5000e-05\n",
            "Epoch 14/50\n",
            "431/431 [==============================] - 6s 15ms/step - loss: 1.0973 - accuracy: 0.3555 - val_loss: 1.0976 - val_accuracy: 0.3377 - lr: 1.2500e-05\n",
            "Epoch 15/50\n",
            "431/431 [==============================] - 7s 15ms/step - loss: 1.0967 - accuracy: 0.3598 - val_loss: 1.0976 - val_accuracy: 0.3377 - lr: 1.2500e-05\n",
            "Epoch 16/50\n",
            "429/431 [============================>.] - ETA: 0s - loss: 1.0971 - accuracy: 0.3524\n",
            "Epoch 16: ReduceLROnPlateau reducing learning rate to 1e-05.\n",
            "431/431 [==============================] - 7s 15ms/step - loss: 1.0971 - accuracy: 0.3527 - val_loss: 1.0976 - val_accuracy: 0.3370 - lr: 1.2500e-05\n",
            "Epoch 17/50\n",
            "431/431 [==============================] - 7s 15ms/step - loss: 1.0967 - accuracy: 0.3620 - val_loss: 1.0975 - val_accuracy: 0.3383 - lr: 1.0000e-05\n",
            "Epoch 18/50\n",
            "431/431 [==============================] - 7s 15ms/step - loss: 1.0969 - accuracy: 0.3545 - val_loss: 1.0975 - val_accuracy: 0.3383 - lr: 1.0000e-05\n",
            "Epoch 19/50\n",
            "431/431 [==============================] - 7s 15ms/step - loss: 1.0967 - accuracy: 0.3594 - val_loss: 1.0975 - val_accuracy: 0.3403 - lr: 1.0000e-05\n",
            "Epoch 20/50\n",
            "431/431 [==============================] - 7s 15ms/step - loss: 1.0970 - accuracy: 0.3575 - val_loss: 1.0975 - val_accuracy: 0.3423 - lr: 1.0000e-05\n",
            "Epoch 21/50\n",
            "431/431 [==============================] - 7s 15ms/step - loss: 1.0972 - accuracy: 0.3541 - val_loss: 1.0975 - val_accuracy: 0.3429 - lr: 1.0000e-05\n",
            "Epoch 22/50\n",
            "431/431 [==============================] - 6s 15ms/step - loss: 1.0966 - accuracy: 0.3612 - val_loss: 1.0975 - val_accuracy: 0.3423 - lr: 1.0000e-05\n",
            "Epoch 23/50\n",
            "431/431 [==============================] - 6s 15ms/step - loss: 1.0969 - accuracy: 0.3584 - val_loss: 1.0975 - val_accuracy: 0.3416 - lr: 1.0000e-05\n",
            "Epoch 24/50\n",
            "431/431 [==============================] - 6s 15ms/step - loss: 1.0969 - accuracy: 0.3545 - val_loss: 1.0975 - val_accuracy: 0.3416 - lr: 1.0000e-05\n",
            "Epoch 25/50\n",
            "431/431 [==============================] - 6s 15ms/step - loss: 1.0967 - accuracy: 0.3640 - val_loss: 1.0974 - val_accuracy: 0.3416 - lr: 1.0000e-05\n",
            "Epoch 26/50\n",
            "431/431 [==============================] - 7s 15ms/step - loss: 1.0968 - accuracy: 0.3584 - val_loss: 1.0974 - val_accuracy: 0.3410 - lr: 1.0000e-05\n",
            "Epoch 27/50\n",
            "431/431 [==============================] - 6s 15ms/step - loss: 1.0966 - accuracy: 0.3612 - val_loss: 1.0974 - val_accuracy: 0.3423 - lr: 1.0000e-05\n",
            "Epoch 28/50\n",
            "431/431 [==============================] - 6s 15ms/step - loss: 1.0966 - accuracy: 0.3594 - val_loss: 1.0974 - val_accuracy: 0.3410 - lr: 1.0000e-05\n",
            "Epoch 29/50\n",
            "431/431 [==============================] - 7s 15ms/step - loss: 1.0967 - accuracy: 0.3594 - val_loss: 1.0974 - val_accuracy: 0.3423 - lr: 1.0000e-05\n",
            "Epoch 30/50\n",
            "431/431 [==============================] - 6s 15ms/step - loss: 1.0964 - accuracy: 0.3628 - val_loss: 1.0974 - val_accuracy: 0.3423 - lr: 1.0000e-05\n",
            "Epoch 31/50\n",
            "431/431 [==============================] - 6s 15ms/step - loss: 1.0965 - accuracy: 0.3610 - val_loss: 1.0974 - val_accuracy: 0.3436 - lr: 1.0000e-05\n",
            "Epoch 32/50\n",
            "431/431 [==============================] - 6s 15ms/step - loss: 1.0965 - accuracy: 0.3665 - val_loss: 1.0974 - val_accuracy: 0.3436 - lr: 1.0000e-05\n",
            "Epoch 33/50\n",
            "431/431 [==============================] - 7s 15ms/step - loss: 1.0967 - accuracy: 0.3596 - val_loss: 1.0973 - val_accuracy: 0.3429 - lr: 1.0000e-05\n",
            "Epoch 34/50\n",
            "431/431 [==============================] - 6s 15ms/step - loss: 1.0966 - accuracy: 0.3612 - val_loss: 1.0973 - val_accuracy: 0.3442 - lr: 1.0000e-05\n",
            "Epoch 35/50\n",
            "431/431 [==============================] - 6s 15ms/step - loss: 1.0965 - accuracy: 0.3619 - val_loss: 1.0973 - val_accuracy: 0.3442 - lr: 1.0000e-05\n",
            "Epoch 36/50\n",
            "431/431 [==============================] - 7s 15ms/step - loss: 1.0964 - accuracy: 0.3660 - val_loss: 1.0973 - val_accuracy: 0.3436 - lr: 1.0000e-05\n",
            "Epoch 37/50\n",
            "431/431 [==============================] - 7s 15ms/step - loss: 1.0962 - accuracy: 0.3647 - val_loss: 1.0973 - val_accuracy: 0.3449 - lr: 1.0000e-05\n",
            "Epoch 38/50\n",
            "431/431 [==============================] - 6s 15ms/step - loss: 1.0967 - accuracy: 0.3620 - val_loss: 1.0973 - val_accuracy: 0.3442 - lr: 1.0000e-05\n",
            "Epoch 39/50\n",
            "431/431 [==============================] - 7s 15ms/step - loss: 1.0967 - accuracy: 0.3588 - val_loss: 1.0973 - val_accuracy: 0.3449 - lr: 1.0000e-05\n",
            "Epoch 40/50\n",
            "431/431 [==============================] - 7s 15ms/step - loss: 1.0967 - accuracy: 0.3601 - val_loss: 1.0973 - val_accuracy: 0.3442 - lr: 1.0000e-05\n",
            "Epoch 41/50\n",
            "431/431 [==============================] - 6s 15ms/step - loss: 1.0965 - accuracy: 0.3592 - val_loss: 1.0972 - val_accuracy: 0.3449 - lr: 1.0000e-05\n",
            "Epoch 42/50\n",
            "431/431 [==============================] - 7s 15ms/step - loss: 1.0964 - accuracy: 0.3672 - val_loss: 1.0972 - val_accuracy: 0.3455 - lr: 1.0000e-05\n",
            "Epoch 43/50\n",
            "431/431 [==============================] - 6s 15ms/step - loss: 1.0963 - accuracy: 0.3607 - val_loss: 1.0972 - val_accuracy: 0.3462 - lr: 1.0000e-05\n",
            "Epoch 44/50\n",
            "431/431 [==============================] - 7s 15ms/step - loss: 1.0966 - accuracy: 0.3605 - val_loss: 1.0972 - val_accuracy: 0.3462 - lr: 1.0000e-05\n",
            "Epoch 45/50\n",
            "431/431 [==============================] - 6s 15ms/step - loss: 1.0967 - accuracy: 0.3601 - val_loss: 1.0972 - val_accuracy: 0.3462 - lr: 1.0000e-05\n",
            "Epoch 46/50\n",
            "431/431 [==============================] - 7s 15ms/step - loss: 1.0963 - accuracy: 0.3658 - val_loss: 1.0972 - val_accuracy: 0.3475 - lr: 1.0000e-05\n",
            "Epoch 47/50\n",
            "431/431 [==============================] - 7s 15ms/step - loss: 1.0962 - accuracy: 0.3638 - val_loss: 1.0972 - val_accuracy: 0.3481 - lr: 1.0000e-05\n",
            "Epoch 48/50\n",
            "431/431 [==============================] - 6s 15ms/step - loss: 1.0963 - accuracy: 0.3616 - val_loss: 1.0972 - val_accuracy: 0.3475 - lr: 1.0000e-05\n",
            "Epoch 49/50\n",
            "431/431 [==============================] - 6s 15ms/step - loss: 1.0966 - accuracy: 0.3638 - val_loss: 1.0971 - val_accuracy: 0.3475 - lr: 1.0000e-05\n",
            "Epoch 50/50\n",
            "431/431 [==============================] - 7s 15ms/step - loss: 1.0966 - accuracy: 0.3567 - val_loss: 1.0971 - val_accuracy: 0.3481 - lr: 1.0000e-05\n"
          ]
        }
      ]
    },
    {
      "cell_type": "code",
      "source": [
        "def plot_confusion_matrix(cm, classes,\n",
        "                          normalize=False,\n",
        "                          title='Confusion matrix',\n",
        "                          cmap=plt.cm.Blues):\n",
        "    \"\"\"\n",
        "    This function prints and plots the confusion matrix.\n",
        "    Normalization can be applied by setting `normalize=True`.\n",
        "    \"\"\"\n",
        "    plt.imshow(cm, interpolation='nearest', cmap=cmap)\n",
        "    plt.title(title)\n",
        "    plt.colorbar()\n",
        "    tick_marks = np.arange(len(classes))\n",
        "    plt.xticks(tick_marks, classes, rotation=45)\n",
        "    plt.yticks(tick_marks, classes)\n",
        "\n",
        "    if normalize:\n",
        "        cm = cm.astype('float') / cm.sum(axis=1)[:, np.newaxis]\n",
        "\n",
        "    thresh = cm.max() / 2.\n",
        "    for i, j in itertools.product(range(cm.shape[0]), range(cm.shape[1])):\n",
        "        plt.text(j, i, cm[i, j],\n",
        "                 horizontalalignment=\"center\",\n",
        "                 color=\"white\" if cm[i, j] > thresh else \"black\")\n",
        "\n",
        "    plt.tight_layout()\n",
        "    plt.ylabel('True label')\n",
        "    plt.xlabel('Predicted label')\n",
        "Y_pred = model.predict(x_test)\n",
        "Y_pred_classes = np.argmax(Y_pred,axis = 1)\n",
        "# Convert validation observations to one hot vectors\n",
        "Y_true = np.argmax(y_test,axis = 1)  #test süreci için Y_true = np.argmax(y_test,axis = 1)\n",
        "# compute the confusion matrix\n",
        "confusion_mtx = confusion_matrix(Y_true, Y_pred_classes)\n",
        "# plot the confusion matrix\n",
        "plot_confusion_matrix(confusion_mtx, classes = range(3))"
      ],
      "metadata": {
        "colab": {
          "base_uri": "https://localhost:8080/",
          "height": 523
        },
        "id": "50nsbeMR2Np2",
        "outputId": "07a74c23-ef0a-42d3-a6ea-fc3fc6e003fd"
      },
      "execution_count": 69,
      "outputs": [
        {
          "output_type": "stream",
          "name": "stdout",
          "text": [
            "54/54 [==============================] - 1s 16ms/step\n"
          ]
        },
        {
          "output_type": "display_data",
          "data": {
            "text/plain": [
              "<Figure size 640x480 with 2 Axes>"
            ],
            "image/png": "[encoded data removed]"
          },
          "metadata": {}
        }
      ]
    },
    {
      "cell_type": "code",
      "source": [
        "report = classification_report(Y_true, Y_pred_classes)\n",
        "print(report)"
      ],
      "metadata": {
        "colab": {
          "base_uri": "https://localhost:8080/"
        },
        "id": "glhjg-ge4BGE",
        "outputId": "48c4ff66-19a8-491a-c914-a101fd9fb432"
      },
      "execution_count": 70,
      "outputs": [
        {
          "output_type": "stream",
          "name": "stdout",
          "text": [
            "              precision    recall  f1-score   support\n",
            "\n",
            "           0       0.36      0.10      0.16       570\n",
            "           1       0.33      0.41      0.36       539\n",
            "           2       0.37      0.54      0.44       592\n",
            "\n",
            "    accuracy                           0.35      1701\n",
            "   macro avg       0.35      0.35      0.32      1701\n",
            "weighted avg       0.35      0.35      0.32      1701\n",
            "\n"
          ]
        }
      ]
    },
    {
      "cell_type": "code",
      "source": [
        "plt.plot(history.history['accuracy'])\n",
        "plt.plot(history.history['val_accuracy'])\n",
        "plt.title('model accuracy')\n",
        "plt.ylabel('accuracy')\n",
        "plt.xlabel('epoch')\n",
        "plt.legend(['train', 'test'], loc='upper left')\n",
        "plt.show()\n",
        "plt.plot(history.history['loss'])\n",
        "plt.plot(history.history['val_loss'])\n",
        "plt.title('model loss')\n",
        "plt.ylabel('loss')\n",
        "plt.xlabel('epoch')\n",
        "plt.legend(['train', 'test'], loc='upper left')\n",
        "plt.show()"
      ],
      "metadata": {
        "colab": {
          "base_uri": "https://localhost:8080/",
          "height": 927
        },
        "id": "FXmWvN4J4Gx3",
        "outputId": "d3765608-e4a0-4c0c-c1f8-ae504697b25b"
      },
      "execution_count": 71,
      "outputs": [
        {
          "output_type": "display_data",
          "data": {
            "text/plain": [
              "<Figure size 640x480 with 1 Axes>"
            ],
            "image/png": "[encoded data removed]"
          },
          "metadata": {}
        },
        {
          "output_type": "display_data",
          "data": {
            "text/plain": [
              "<Figure size 640x480 with 1 Axes>"
            ],
            "image/png": "[encoded data removed]"
          },
          "metadata": {}
        }
      ]
    },
    {
      "cell_type": "code",
      "source": [],
      "metadata": {
        "id": "_qXtNYrz6bX4"
      },
      "execution_count": null,
      "outputs": []
    }
  ],
  "metadata": {
    "colab": {
      "provenance": [],
      "machine_shape": "hm",
      "gpuType": "V100",
      "authorship_tag": "ABX9TyN+4bOAmCRH30s2eLWgf0Z1",
      "include_colab_link": true
    },
    "kernelspec": {
      "display_name": "Python 3",
      "name": "python3"
    },
    "language_info": {
      "name": "python"
    },
    "accelerator": "GPU"
  },
  "nbformat": 4,
  "nbformat_minor": 0
}